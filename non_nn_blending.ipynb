{
  "nbformat": 4,
  "nbformat_minor": 0,
  "metadata": {
    "colab": {
      "name": "non_nn_blending.ipynb",
      "provenance": [],
      "collapsed_sections": []
    },
    "kernelspec": {
      "name": "python3",
      "display_name": "Python 3"
    },
    "accelerator": "GPU"
  },
  "cells": [
    {
      "cell_type": "markdown",
      "metadata": {
        "id": "kWXNiOQsFtzO"
      },
      "source": [
        "# [Useful link for non nn models](https://machinelearningmastery.com/multi-output-regression-models-with-python/)"
      ]
    },
    {
      "cell_type": "code",
      "metadata": {
        "id": "YANWKEkfRb24"
      },
      "source": [
        "!cp /content/drive/\"My Drive\"/kaggle/moa/lish-moa.zip /content/\n",
        "!unzip lish-moa.zip\n"
      ],
      "execution_count": null,
      "outputs": []
    },
    {
      "cell_type": "code",
      "metadata": {
        "id": "_QzAnJ9qznAD"
      },
      "source": [
        "!cp /content/drive/\"My Drive\"/kaggle/moa//models.zip /content/\n",
        "!unzip models.zip"
      ],
      "execution_count": null,
      "outputs": []
    },
    {
      "cell_type": "code",
      "metadata": {
        "id": "_Cwf593x0GrP"
      },
      "source": [
        "!pip install pip install iterative-stratification"
      ],
      "execution_count": null,
      "outputs": []
    },
    {
      "cell_type": "code",
      "metadata": {
        "id": "fm2T-uRm0C2n"
      },
      "source": [
        "import torch\n",
        "import torch.nn as nn\n",
        "from torch.nn import functional as F\n",
        "import torch.optim as optim\n",
        "from torch.utils.data import DataLoader, Dataset\n",
        "from torch.utils.data.dataset import random_split\n",
        "from torch.optim.lr_scheduler import ReduceLROnPlateau\n",
        "\n",
        "from sklearn.compose import ColumnTransformer\n",
        "from sklearn.preprocessing import Normalizer\n",
        "from sklearn.preprocessing import OneHotEncoder\n",
        "from sklearn.model_selection import StratifiedKFold\n",
        "from imblearn.over_sampling import RandomOverSampler\n",
        "\n",
        "import numpy as np \n",
        "import pandas as pd \n",
        "from IPython.display import clear_output\n",
        "import random \n",
        "import matplotlib.pyplot as plt\n",
        "from scipy.ndimage.filters import gaussian_filter1d   ## smoother\n",
        "from tqdm.notebook import tqdm, tnrange\n",
        "import os\n",
        "from iterstrat.ml_stratifiers import MultilabelStratifiedKFold\n",
        "\n",
        "plt.rcParams['figure.figsize'] = 15, 7\n",
        "\n",
        "CGREEN  = '\\33[32m'\n",
        "CBLUE =  '\\033[34m'\n",
        "CRED = '\\033[1;31m'\n",
        "CEND  = '\\33[0m'\n",
        "\n",
        "def seed_everything(seed=1903):\n",
        "    random.seed(seed)\n",
        "    os.environ['PYTHONHASHSEED'] = str(seed)\n",
        "    np.random.seed(seed)\n",
        "    torch.manual_seed(seed)\n",
        "    torch.cuda.manual_seed(seed)\n",
        "    torch.backends.cudnn.deterministic = True\n",
        "    print(\"seed kar diya\")"
      ],
      "execution_count": 17,
      "outputs": []
    },
    {
      "cell_type": "code",
      "metadata": {
        "id": "OGOLryMKz_WI",
        "outputId": "cd2a33b8-915f-42af-9cc7-289bbee93783",
        "colab": {
          "base_uri": "https://localhost:8080/",
          "height": 35
        }
      },
      "source": [
        "if torch.cuda.is_available():\n",
        "    device='cuda'\n",
        "else:\n",
        "    device='cpu'\n",
        "    \n",
        "device"
      ],
      "execution_count": 18,
      "outputs": [
        {
          "output_type": "execute_result",
          "data": {
            "application/vnd.google.colaboratory.intrinsic+json": {
              "type": "string"
            },
            "text/plain": [
              "'cuda'"
            ]
          },
          "metadata": {
            "tags": []
          },
          "execution_count": 18
        }
      ]
    },
    {
      "cell_type": "markdown",
      "metadata": {
        "id": "zKQRYiCsTGGw"
      },
      "source": [
        "# Data Preprocessing"
      ]
    },
    {
      "cell_type": "code",
      "metadata": {
        "id": "StnM5CyKz5NC"
      },
      "source": [
        "\n",
        "train_features = pd.read_csv('train_features.csv')\n",
        "train_targets = pd.read_csv('train_targets_scored.csv')\n",
        "test_features = pd.read_csv('test_features.csv')\n",
        "\n",
        "\n",
        "def preprocess(df):\n",
        "    df = df.copy()\n",
        "    df.loc[:, 'cp_type'] = df.loc[:, 'cp_type'].map({'trt_cp': 0, 'ctl_vehicle': 1})\n",
        "    df.loc[:, 'cp_dose'] = df.loc[:, 'cp_dose'].map({'D1': 0, 'D2': 1})\n",
        "    return df\n",
        "\n",
        "train = preprocess(train_features)\n",
        "test = preprocess(test_features)\n",
        "\n",
        "del train_targets['sig_id']\n",
        "\n",
        "target = train_targets.loc[train['cp_type']==0].reset_index(drop=True)\n",
        "train = train.loc[train['cp_type']==0].reset_index(drop=True)"
      ],
      "execution_count": 19,
      "outputs": []
    },
    {
      "cell_type": "markdown",
      "metadata": {
        "id": "RQh5owZkTKww"
      },
      "source": [
        "# Feature selection"
      ]
    },
    {
      "cell_type": "code",
      "metadata": {
        "id": "9Quajx5K0LxW"
      },
      "source": [
        "\n",
        "top_features = [  1,   2,   3,   4,   5,   6,   7,   9,  11,  14,  15,  16,  17,\n",
        "        18,  19,  20,  21,  22,  23,  24,  25,  26,  27,  29,  30,  31,\n",
        "        32,  33,  35,  36,  37,  38,  39,  40,  41,  42,  43,  44,  46,\n",
        "        47,  48,  49,  50,  51,  52,  53,  54,  55,  56,  58,  59,  60,\n",
        "        61,  62,  63,  64,  65,  66,  67,  68,  69,  70,  71,  72,  73,\n",
        "        74,  75,  76,  78,  79,  80,  81,  82,  83,  84,  86,  87,  88,\n",
        "        89,  90,  91,  92,  93,  94,  95,  96,  97,  98,  99, 100, 101,\n",
        "       102, 103, 104, 105, 106, 107, 108, 109, 110, 111, 112, 113, 114,\n",
        "       115, 116, 117, 118, 120, 121, 122, 123, 124, 125, 126, 127, 128,\n",
        "       129, 130, 131, 132, 133, 136, 137, 138, 139, 140, 141, 142, 143,\n",
        "       144, 145, 146, 147, 149, 150, 151, 152, 153, 154, 155, 156, 157,\n",
        "       158, 159, 160, 161, 162, 163, 164, 165, 166, 167, 168, 169, 170,\n",
        "       171, 172, 173, 174, 175, 176, 177, 178, 179, 180, 181, 182, 183,\n",
        "       184, 185, 186, 187, 188, 189, 190, 191, 192, 193, 194, 195, 197,\n",
        "       198, 199, 200, 202, 203, 204, 205, 206, 208, 209, 210, 211, 212,\n",
        "       213, 214, 215, 216, 217, 218, 219, 220, 221, 223, 224, 225, 226,\n",
        "       227, 228, 229, 230, 231, 232, 233, 234, 235, 236, 237, 238, 239,\n",
        "       240, 242, 243, 244, 245, 246, 247, 248, 249, 250, 251, 252, 253,\n",
        "       254, 255, 256, 257, 258, 259, 260, 261, 262, 263, 264, 265, 266,\n",
        "       267, 268, 269, 271, 272, 273, 274, 275, 276, 277, 278, 279, 280,\n",
        "       281, 282, 283, 284, 285, 286, 287, 288, 289, 290, 291, 292, 294,\n",
        "       295, 296, 298, 300, 301, 302, 303, 304, 305, 306, 307, 308, 309,\n",
        "       310, 311, 312, 314, 315, 316, 317, 318, 319, 320, 321, 322, 323,\n",
        "       324, 325, 326, 327, 328, 329, 330, 331, 332, 333, 334, 335, 336,\n",
        "       337, 338, 339, 340, 341, 342, 343, 344, 345, 346, 347, 348, 349,\n",
        "       350, 351, 352, 353, 354, 355, 356, 357, 358, 359, 360, 361, 362,\n",
        "       363, 364, 365, 366, 367, 368, 369, 370, 371, 374, 375, 376, 377,\n",
        "       378, 379, 380, 381, 382, 383, 384, 385, 386, 387, 388, 390, 391,\n",
        "       392, 393, 394, 395, 396, 397, 398, 399, 400, 401, 402, 403, 404,\n",
        "       405, 406, 407, 408, 409, 411, 412, 413, 414, 415, 416, 417, 418,\n",
        "       419, 420, 421, 422, 423, 424, 425, 426, 427, 428, 429, 430, 431,\n",
        "       432, 434, 435, 436, 437, 438, 439, 440, 442, 443, 444, 445, 446,\n",
        "       447, 448, 449, 450, 453, 454, 456, 457, 458, 459, 460, 461, 462,\n",
        "       463, 464, 465, 466, 467, 468, 469, 470, 471, 472, 473, 474, 475,\n",
        "       476, 477, 478, 479, 481, 482, 483, 484, 485, 486, 487, 488, 489,\n",
        "       490, 491, 492, 493, 494, 495, 496, 498, 500, 501, 502, 503, 505,\n",
        "       506, 507, 509, 510, 511, 512, 513, 514, 515, 518, 519, 520, 521,\n",
        "       522, 523, 524, 525, 526, 527, 528, 530, 531, 532, 534, 535, 536,\n",
        "       538, 539, 540, 541, 542, 543, 544, 545, 546, 547, 549, 550, 551,\n",
        "       552, 554, 557, 559, 560, 561, 562, 565, 566, 567, 568, 569, 570,\n",
        "       571, 572, 573, 574, 575, 577, 578, 580, 581, 582, 583, 584, 585,\n",
        "       586, 587, 588, 589, 590, 591, 592, 593, 594, 595, 596, 597, 599,\n",
        "       600, 601, 602, 606, 607, 608, 609, 611, 612, 613, 615, 616, 617,\n",
        "       618, 619, 620, 621, 622, 623, 624, 625, 626, 627, 628, 629, 630,\n",
        "       631, 632, 633, 634, 635, 636, 637, 638, 639, 641, 642, 643, 644,\n",
        "       645, 646, 647, 648, 649, 650, 651, 652, 654, 655, 656, 658, 659,\n",
        "       660, 661, 662, 663, 664, 665, 666, 667, 668, 669, 670, 671, 672,\n",
        "       673, 674, 675, 676, 677, 678, 679, 680, 681, 682, 683, 684, 685,\n",
        "       686, 687, 688, 689, 691, 692, 693, 694, 695, 696, 697, 699, 700,\n",
        "       701, 702, 704, 705, 707, 708, 709, 710, 711, 713, 714, 716, 717,\n",
        "       718, 720, 721, 723, 724, 725, 726, 727, 728, 729, 730, 731, 732,\n",
        "       733, 734, 735, 737, 738, 739, 740, 742, 743, 744, 745, 746, 747,\n",
        "       748, 749, 750, 751, 752, 753, 754, 755, 756, 757, 759, 760, 761,\n",
        "       762, 763, 764, 765, 766, 767, 768, 769, 770, 771, 772, 773, 774,\n",
        "       775, 776, 777, 779, 780, 781, 782, 783, 784, 785, 786, 787, 788,\n",
        "       789, 790, 792, 793, 794, 795, 796, 797, 798, 800, 801, 802, 803,\n",
        "       804, 805, 806, 808, 809, 811, 813, 814, 815, 816, 817, 818, 819,\n",
        "       821, 822, 823, 825, 826, 827, 828, 829, 830, 831, 832, 834, 835,\n",
        "       837, 838, 839, 840, 841, 842, 845, 846, 847, 848, 850, 851, 852,\n",
        "       854, 855, 856, 858, 859, 860, 861, 862, 864, 866, 867, 868, 869,\n",
        "       870, 871, 872, 873, 874]\n",
        "\n",
        "all_columns = train.columns\n",
        "train=train[all_columns[top_features]]\n",
        "test = test[all_columns[top_features]]\n",
        "\n",
        "train = train.values\n",
        "test = test.values\n",
        "target = target.values"
      ],
      "execution_count": 20,
      "outputs": []
    },
    {
      "cell_type": "markdown",
      "metadata": {
        "id": "ingO1EsaTObx"
      },
      "source": [
        "# PyTorch model classes"
      ]
    },
    {
      "cell_type": "code",
      "metadata": {
        "id": "hhFIdYXe0ddE"
      },
      "source": [
        "class Model(nn.Module):\n",
        "    def __init__(self):\n",
        "        super(Model, self).__init__()\n",
        "        self.batch_norm1 = nn.BatchNorm1d(785)\n",
        "        self.dropout1 = nn.Dropout(0.2)\n",
        "        self.dense1 = nn.utils.weight_norm(nn.Linear(785, 2048))\n",
        "        \n",
        "        self.batch_norm2 = nn.BatchNorm1d(2048)\n",
        "        self.dropout2 = nn.Dropout(0.5)\n",
        "        self.dense2 = nn.utils.weight_norm(nn.Linear(2048, 1048))\n",
        "        \n",
        "        self.batch_norm3 = nn.BatchNorm1d(1048)\n",
        "        self.dropout3 = nn.Dropout(0.5)\n",
        "        self.dense3 = nn.utils.weight_norm(nn.Linear(1048, 206))\n",
        "    \n",
        "    def forward(self, x):\n",
        "        x = self.batch_norm1(x)\n",
        "        x = self.dropout1(x)\n",
        "        x = F.relu(self.dense1(x))\n",
        "        \n",
        "        x = self.batch_norm2(x)\n",
        "        x = self.dropout2(x)\n",
        "        x = F.relu(self.dense2(x))\n",
        "        \n",
        "        x = self.batch_norm3(x)\n",
        "        x = self.dropout3(x)\n",
        "        x = self.dense3(x)\n",
        "        \n",
        "        return x\n",
        "\n",
        "class Model_2(nn.Module):\n",
        "    def __init__(self):\n",
        "        super(Model_2, self).__init__()\n",
        "        self.batch_norm1 = nn.BatchNorm1d(785)\n",
        "        self.dropout1 = nn.Dropout(0.5)\n",
        "        self.dense1 = nn.utils.weight_norm(nn.Linear(785, 790))\n",
        "\n",
        "        \n",
        "        self.batch_norm3 = nn.BatchNorm1d(790)\n",
        "        self.dense3 = nn.utils.weight_norm(nn.Linear(790, 206))\n",
        "    \n",
        "    def forward(self, x):\n",
        "        x = self.batch_norm1(x)\n",
        "        x = self.dropout1(x)\n",
        "        x = F.relu(self.dense1(x))\n",
        "\n",
        "        \n",
        "        x = self.batch_norm3(x)\n",
        "        x = self.dense3(x)\n",
        "        \n",
        "        return x\n",
        "\n",
        "class pytorch_model():\n",
        "    def __init__(self, model_class, model_path, device):\n",
        "        \n",
        "        self.model_class = model_class\n",
        "        self.model_path = model_path\n",
        "        self.device = device\n",
        "        \n",
        "        self.model = self.model_class()\n",
        "        self.model.load_state_dict(torch.load(self.model_path))\n",
        "        self.model.to(self.device)\n",
        "        self.model.eval()\n",
        "        \n",
        "    def predict(self, x):\n",
        "        \n",
        "        pred = self.model(x)\n",
        "        \n",
        "        return pred \n",
        "    \n",
        "    def __call__(self, x):\n",
        "        return self.predict(x)\n",
        "\n",
        "\n"
      ],
      "execution_count": 30,
      "outputs": []
    },
    {
      "cell_type": "markdown",
      "metadata": {
        "id": "Wzu7-7paTXI3"
      },
      "source": [
        "# Blending utils "
      ]
    },
    {
      "cell_type": "code",
      "metadata": {
        "id": "LT3yzfbx25yA"
      },
      "source": [
        "class blend():\n",
        "    def __init__(self,all_preds_np):\n",
        "        \n",
        "        self.all_preds = all_preds_np\n",
        "           \n",
        "    def predict(self, weights):\n",
        "        self.weights = weights\n",
        "        final_pred = np.zeros_like(self.all_preds[0])\n",
        "        \n",
        "        for i in range(len(self.all_preds)):\n",
        "            final_pred += self.all_preds[i] * self.weights[i]\n",
        "            \n",
        "        final_pred = final_pred/self.weights.sum()\n",
        "        \n",
        "        return final_pred\n",
        "\n",
        "    \n",
        "\n",
        "def inference_fn(model, test_features, device):\n",
        "\n",
        "    results = np.zeros([test_features.shape[0], 206])\n",
        "    test_features_tensor = torch.tensor(test_features).float().to(device)\n",
        "    rows = model(test_features_tensor).sigmoid().detach().cpu().numpy()\n",
        "    results = rows \n",
        "\n",
        "    return results \n",
        "\n",
        "\n",
        "def log_loss_metric(y_true, y_pred):\n",
        "    y_pred_clip = np.clip(y_pred, 1e-15, 1 - 1e-15)\n",
        "    loss = - np.mean(np.mean(y_true * np.log(y_pred_clip) + (1 - y_true) * np.log(1 - y_pred_clip), axis = 1))\n",
        "    return loss\n",
        "\n",
        "\n",
        "def create_weights_from_val_losses(val_losses_np):\n",
        "    w = 1/val_losses_np\n",
        "    w_norm = w/w.max()\n",
        "    return w_norm"
      ],
      "execution_count": 132,
      "outputs": []
    },
    {
      "cell_type": "markdown",
      "metadata": {
        "id": "xL05FB1pWhgi"
      },
      "source": [
        "## Run inference on PyTorch models "
      ]
    },
    {
      "cell_type": "code",
      "metadata": {
        "id": "bx5DM3_bWksm",
        "outputId": "4f68c423-2eb4-43f6-82e3-5109fb0d0acd",
        "colab": {
          "base_uri": "https://localhost:8080/",
          "height": 34
        }
      },
      "source": [
        "start = \"/content/models/model_\"\n",
        "names = [start + str(i +1) + \".pth\" for i in range(10)]\n",
        "names_2 = [start + str(i +100 +1 ) + \".pth\" for i in range(10)]\n",
        "names.extend(names_2)\n",
        "\n",
        "all_preds = []\n",
        "all_preds_hold = []\n",
        "\n",
        "\n",
        "for i in range(len(names)):\n",
        "    if i < 9:\n",
        "        model_class = Model\n",
        "    else:\n",
        "        model_class = Model_2\n",
        "    m = pytorch_model(model_class, names[i], device = device)\n",
        "\n",
        "    pred = inference_fn(m, test, device)\n",
        "    all_preds.append(pred)\n",
        "\n",
        "    pred_hold = inference_fn(m, train_hold, device)\n",
        "    all_preds_hold.append(pred_hold)\n",
        "\n",
        "len(all_preds), len(all_preds_hold)"
      ],
      "execution_count": 121,
      "outputs": [
        {
          "output_type": "execute_result",
          "data": {
            "text/plain": [
              "(20, 20)"
            ]
          },
          "metadata": {
            "tags": []
          },
          "execution_count": 121
        }
      ]
    },
    {
      "cell_type": "markdown",
      "metadata": {
        "id": "iYpf0nDhliUV"
      },
      "source": [
        "# Loading all the data "
      ]
    },
    {
      "cell_type": "code",
      "metadata": {
        "id": "71nxpuiREav2"
      },
      "source": [
        "train_main = train[:-1000]\n",
        "target_main = target[:-1000]\n",
        "\n",
        "train_hold = train[-1000:]\n",
        "target_hold = target[-1000:]\n"
      ],
      "execution_count": 101,
      "outputs": []
    },
    {
      "cell_type": "markdown",
      "metadata": {
        "id": "4h6TRJwKDUsJ"
      },
      "source": [
        "# Train non nn models "
      ]
    },
    {
      "cell_type": "code",
      "metadata": {
        "id": "yGki_qzADRaK"
      },
      "source": [
        "import gc\n",
        "import datetime\n",
        "from sklearn.kernel_approximation import Nystroem\n",
        "from sklearn.isotonic import IsotonicRegression\n",
        "from sklearn.linear_model import LogisticRegression\n",
        "from sklearn.kernel_ridge import KernelRidge\n",
        "from sklearn.preprocessing import StandardScaler\n",
        "from sklearn.model_selection import StratifiedKFold\n",
        "from sklearn.metrics import log_loss\n",
        "from tqdm.notebook import tqdm\n",
        "from time import time\n",
        "import sys\n",
        "\n",
        "def log_loss_metric(y_true, y_pred):\n",
        "    y_pred_clip = np.clip(y_pred, 1e-15, 1 - 1e-15)\n",
        "    loss = - np.mean(np.mean(y_true * np.log(y_pred_clip) + (1 - y_true) * np.log(1 - y_pred_clip), axis = 1))\n",
        "    return loss"
      ],
      "execution_count": 117,
      "outputs": []
    },
    {
      "cell_type": "markdown",
      "metadata": {
        "id": "hs-IDGuXl_td"
      },
      "source": [
        "# KernelRidge regression model(s)"
      ]
    },
    {
      "cell_type": "code",
      "metadata": {
        "id": "WBANuPCkD-fP"
      },
      "source": [
        "num_folds = 2\n",
        "\n",
        "kernel_ridge_models = []\n",
        "\n",
        "mskf = MultilabelStratifiedKFold(n_splits=num_folds, shuffle=True, random_state=0)\n",
        "\n",
        "\n",
        "\n",
        "for k , (train_idx,valid_idx) in enumerate(mskf.split(train_main,target_main)):\n",
        "\n",
        "    start_time = time()\n",
        "\n",
        "    x_train,x_valid,y_train,y_valid = train_main[train_idx,:],train_main[valid_idx,:],target_main[train_idx,:],target_main[valid_idx,:]\n",
        "\n",
        "    model = KernelRidge(alpha = 80, kernel = 'rbf')\n",
        "\n",
        "    model.fit(x_train, y_train)\n",
        "\n",
        "    fold_pred = model.predict(x_valid)\n",
        "    fold_score = log_loss_metric(y_valid, fold_pred)\n",
        "    \n",
        "    kernel_ridge_models.append(model)\n",
        "    print(f'[{str(datetime.timedelta(seconds = time() - start_time))[2:7]}] KRR: Fold {k}:', fold_score)"
      ],
      "execution_count": null,
      "outputs": []
    },
    {
      "cell_type": "code",
      "metadata": {
        "id": "JO57tKpJF7PB",
        "outputId": "b76b4db8-9995-4f45-b374-dbaaa20a4330",
        "colab": {
          "base_uri": "https://localhost:8080/",
          "height": 34
        }
      },
      "source": [
        "fold_pred = kernel_ridge_models[0].predict(train_hold)\n",
        "fold_score = log_loss_metric(target_hold, fold_pred)\n",
        "fold_score"
      ],
      "execution_count": 122,
      "outputs": [
        {
          "output_type": "execute_result",
          "data": {
            "text/plain": [
              "0.02162352251011992"
            ]
          },
          "metadata": {
            "tags": []
          },
          "execution_count": 122
        }
      ]
    },
    {
      "cell_type": "markdown",
      "metadata": {
        "id": "Cv_EO6btT_yp"
      },
      "source": [
        "KernelRidge inference "
      ]
    },
    {
      "cell_type": "code",
      "metadata": {
        "id": "-v3cgpFOT_Vp",
        "outputId": "5e42e2a9-e458-4083-8e66-9bd594d5361b",
        "colab": {
          "base_uri": "https://localhost:8080/",
          "height": 34
        }
      },
      "source": [
        "\n",
        "for model in kernel_ridge_models:\n",
        "    pred = model.predict(test)\n",
        "    all_preds.append(pred)\n",
        "\n",
        "    pred_hold =  model.predict(train_hold)\n",
        "    all_preds_hold.append(pred_hold)\n",
        "\n",
        "len(all_preds), len(all_preds_hold)"
      ],
      "execution_count": 123,
      "outputs": [
        {
          "output_type": "execute_result",
          "data": {
            "text/plain": [
              "(22, 22)"
            ]
          },
          "metadata": {
            "tags": []
          },
          "execution_count": 123
        }
      ]
    },
    {
      "cell_type": "markdown",
      "metadata": {
        "id": "4b29VynDBec9"
      },
      "source": [
        "# Linear regression "
      ]
    },
    {
      "cell_type": "code",
      "metadata": {
        "id": "a3GlEZBKBjqP",
        "outputId": "70d7cc57-75be-4c2e-8e24-4848023d3e8c",
        "colab": {
          "base_uri": "https://localhost:8080/",
          "height": 34
        }
      },
      "source": [
        "from sklearn.linear_model import LinearRegression\n",
        "\n",
        "model = LinearRegression()\n",
        "model.fit(train_main, target_main)\n",
        "\n",
        "pred = model.predict(train_hold)\n",
        "loss = log_loss_metric(target_hold, pred)\n",
        "loss"
      ],
      "execution_count": 124,
      "outputs": [
        {
          "output_type": "execute_result",
          "data": {
            "text/plain": [
              "0.03568589323419154"
            ]
          },
          "metadata": {
            "tags": []
          },
          "execution_count": 124
        }
      ]
    },
    {
      "cell_type": "code",
      "metadata": {
        "id": "mCvRqYPPXtoC",
        "outputId": "096354e6-aac0-4d70-c4a3-26abd6b68fad",
        "colab": {
          "base_uri": "https://localhost:8080/",
          "height": 34
        }
      },
      "source": [
        "pred = model.predict(test)\n",
        "all_preds.append(pred)\n",
        "\n",
        "pred_hold = model.predict(train_hold)\n",
        "all_preds_hold.append(pred_hold)\n",
        "\n",
        "\n",
        "len(all_preds), len(all_preds_hold)"
      ],
      "execution_count": 125,
      "outputs": [
        {
          "output_type": "execute_result",
          "data": {
            "text/plain": [
              "(23, 23)"
            ]
          },
          "metadata": {
            "tags": []
          },
          "execution_count": 125
        }
      ]
    },
    {
      "cell_type": "code",
      "metadata": {
        "id": "eTSz12Z_ER7Z"
      },
      "source": [
        "class l_reg_model():\n",
        "    def __init__(self, model, mode = \"numpy\"):\n",
        "        \n",
        "        self.mode = mode\n",
        "        self.model = model\n",
        "        \n",
        "    def forward(self, x):\n",
        "        \n",
        "        if self.mode == \"torch\":\n",
        "            pred = self.model.predict(x.cpu().numpy())\n",
        "            pred = torch.tensor(pred)\n",
        "            \n",
        "        elif self.mode == \"numpy\":\n",
        "\n",
        "            pred = self.model.predict(x)\n",
        "\n",
        "        return pred\n",
        "    \n",
        "    def __call__(self, x):\n",
        "        return self.forward(x)"
      ],
      "execution_count": 97,
      "outputs": []
    },
    {
      "cell_type": "markdown",
      "metadata": {
        "id": "kNT6ul3LU0Nw"
      },
      "source": [
        "#Linear Regression infernce "
      ]
    },
    {
      "cell_type": "markdown",
      "metadata": {
        "id": "MJk4nDvFmLca"
      },
      "source": [
        "## Loading all models into the wrappers "
      ]
    },
    {
      "cell_type": "code",
      "metadata": {
        "id": "sKHk9MjXYzZ_",
        "outputId": "a93f4b34-2001-4353-dd49-7b98cd8bc7c0",
        "colab": {
          "base_uri": "https://localhost:8080/",
          "height": 34
        }
      },
      "source": [
        "all_preds_np_hold = np.array(all_preds_hold)\n",
        "all_preds_np_hold.shape"
      ],
      "execution_count": 127,
      "outputs": [
        {
          "output_type": "execute_result",
          "data": {
            "text/plain": [
              "(23, 1000, 206)"
            ]
          },
          "metadata": {
            "tags": []
          },
          "execution_count": 127
        }
      ]
    },
    {
      "cell_type": "code",
      "metadata": {
        "id": "gcPG0s7obbux",
        "outputId": "51b7b551-11f5-49ef-f3b7-30bb9c88fed4",
        "colab": {
          "base_uri": "https://localhost:8080/",
          "height": 34
        }
      },
      "source": [
        "target_hold.shape"
      ],
      "execution_count": 131,
      "outputs": [
        {
          "output_type": "execute_result",
          "data": {
            "text/plain": [
              "(1000, 206)"
            ]
          },
          "metadata": {
            "tags": []
          },
          "execution_count": 131
        }
      ]
    },
    {
      "cell_type": "code",
      "metadata": {
        "id": "l2_e8HdhVeFq",
        "outputId": "a8bb67a1-aefb-4ca3-a432-a0fae184e0d8",
        "colab": {
          "base_uri": "https://localhost:8080/",
          "height": 52
        }
      },
      "source": [
        "poop_weights = np.ones(23)\n",
        "\n",
        "blend_boi = blend(all_preds_np_hold)\n",
        "\n",
        "sample_infer = blend_boi.predict(poop_weights)\n",
        "print(sample_infer.shape)\n",
        "loss = log_loss_metric(target_hold, sample_infer)\n",
        "loss"
      ],
      "execution_count": 136,
      "outputs": [
        {
          "output_type": "stream",
          "text": [
            "(23, 1000, 206)\n"
          ],
          "name": "stdout"
        },
        {
          "output_type": "execute_result",
          "data": {
            "text/plain": [
              "0.016001798929659278"
            ]
          },
          "metadata": {
            "tags": []
          },
          "execution_count": 136
        }
      ]
    },
    {
      "cell_type": "code",
      "metadata": {
        "id": "KYdkOgB2OLQw"
      },
      "source": [
        "!pip install optuna"
      ],
      "execution_count": null,
      "outputs": []
    },
    {
      "cell_type": "code",
      "metadata": {
        "id": "llxmT3c6NM3H"
      },
      "source": [
        "import optuna   "
      ],
      "execution_count": 137,
      "outputs": []
    },
    {
      "cell_type": "code",
      "metadata": {
        "id": "UoMhqrclOJ9F"
      },
      "source": [
        "def find_loss(params):\n",
        "    \n",
        "    weights_np = np.array(list(params.values()))\n",
        "    blend_boi = blend(all_preds_np_hold)\n",
        "    sample_infer = blend_boi.predict(weights_np)\n",
        "    loss = log_loss_metric(target_hold, sample_infer)\n",
        "    \n",
        "    return loss\n",
        "\n",
        "\n",
        "def objective(trial):\n",
        "\n",
        "    params = {\n",
        "        \"w1\": trial.suggest_uniform(\"w1\", 0.01, 1.0),\n",
        "        \"w2\": trial.suggest_uniform(\"w2\", 0.01, 1.0),\n",
        "        \"w3\": trial.suggest_uniform(\"w3\", 0.01, 1.0),\n",
        "        \"w4\": trial.suggest_uniform(\"w4\", 0.01, 1.0),\n",
        "        \"w5\": trial.suggest_uniform(\"w5\", 0.01, 1.0),\n",
        "        \"w6\": trial.suggest_uniform(\"w6\", 0.01, 1.0),\n",
        "        \"w7\": trial.suggest_uniform(\"w7\", 0.01, 1.0),\n",
        "        \"w8\": trial.suggest_uniform(\"w8\", 0.01, 1.0),\n",
        "        \"w9\": trial.suggest_uniform(\"w9\", 0.01, 1.0),\n",
        "        \"w10\": trial.suggest_uniform(\"w10\", 0.01, 1.0),\n",
        "        \"w11\": trial.suggest_uniform(\"w11\", 0.01, 1.0),\n",
        "        \"w12\": trial.suggest_uniform(\"w12\", 0.01, 1.0),\n",
        "        \"w13\": trial.suggest_uniform(\"w13\", 0.01, 1.0),\n",
        "        \"w14\": trial.suggest_uniform(\"w14\", 0.01, 1.0),\n",
        "        \"w15\": trial.suggest_uniform(\"w15\", 0.01, 1.0),\n",
        "        \"w16\": trial.suggest_uniform(\"w16\", 0.01, 1.0),\n",
        "        \"w17\": trial.suggest_uniform(\"w17\", 0.01, 1.0),\n",
        "        \"w18\": trial.suggest_uniform(\"w18\", 0.01, 1.0),\n",
        "        \"w19\": trial.suggest_uniform(\"w19\", 0.01, 1.0),\n",
        "        \"w20\": trial.suggest_uniform(\"w20\", 0.01, 1.0),\n",
        "        \"w21\": trial.suggest_uniform(\"w21\", 0.01, 1.0),\n",
        "        \"w22\": trial.suggest_uniform(\"w22\", 0.01, 1.0),\n",
        "        \"w23\": trial.suggest_uniform(\"w23\", 0.01, 1.0)\n",
        "        # \"w24\": trial.suggest_uniform(\"w24\", 0.01, 1.0),\n",
        "        # \"w25\": trial.suggest_uniform(\"w25\", 0.01, 1.0)\n",
        "\n",
        "    }\n",
        "\n",
        "    loss_ = find_loss(params) \n",
        "    return loss_"
      ],
      "execution_count": 141,
      "outputs": []
    },
    {
      "cell_type": "code",
      "metadata": {
        "id": "EwODaDidO0xb",
        "outputId": "5c4f13c0-aa1d-4c63-ef72-bd5993bef10f",
        "colab": {
          "base_uri": "https://localhost:8080/",
          "height": 34
        }
      },
      "source": [
        "study = optuna.create_study(direction=\"minimize\")\n"
      ],
      "execution_count": 142,
      "outputs": [
        {
          "output_type": "stream",
          "text": [
            "[I 2020-10-03 21:49:57,356] A new study created in memory with name: no-name-454f8f4f-74d8-4924-9812-6b20f614e149\n"
          ],
          "name": "stderr"
        }
      ]
    },
    {
      "cell_type": "code",
      "metadata": {
        "id": "MCQ4yem5O3LC",
        "outputId": "9162b5b3-84ef-4269-878d-5247b2ed5ea6",
        "colab": {
          "base_uri": "https://localhost:8080/",
          "height": 748
        }
      },
      "source": [
        "study.optimize(objective, n_trials=100)\n"
      ],
      "execution_count": null,
      "outputs": [
        {
          "output_type": "stream",
          "text": [
            "[I 2020-10-03 21:50:45,051] Trial 100 finished with value: 0.015556190123350622 and parameters: {'w1': 0.9954121744760986, 'w2': 0.5532434854780831, 'w3': 0.0668438275397955, 'w4': 0.0627571561052609, 'w5': 0.9992021112011444, 'w6': 0.7959603847597734, 'w7': 0.5360546864846238, 'w8': 0.5320576795257608, 'w9': 0.2027828933575544, 'w10': 0.6329128184869941, 'w11': 0.13248629115914873, 'w12': 0.11597331365804345, 'w13': 0.22223038468582432, 'w14': 0.2418733918061002, 'w15': 0.2953822719063591, 'w16': 0.12222828216379701, 'w17': 0.40194781355818204, 'w18': 0.7647211091966788, 'w19': 0.11883879247004553, 'w20': 0.6806388258898194, 'w21': 0.06827173936507382, 'w22': 0.15601801615932206, 'w23': 0.011035493103701879}. Best is trial 93 with value: 0.015549793095502291.\n",
            "[I 2020-10-03 21:50:45,449] Trial 101 finished with value: 0.015558685042425207 and parameters: {'w1': 0.9957381524564161, 'w2': 0.5501016477038756, 'w3': 0.06378139907974734, 'w4': 0.061725806127737565, 'w5': 0.9962474494414667, 'w6': 0.7890737571705851, 'w7': 0.5417038982232303, 'w8': 0.5254251525024365, 'w9': 0.16284457368058122, 'w10': 0.637093350162969, 'w11': 0.11627556353180285, 'w12': 0.10356775029835362, 'w13': 0.21870875234577533, 'w14': 0.32789254149969027, 'w15': 0.32102284153485316, 'w16': 0.13332818269636532, 'w17': 0.24010036646756294, 'w18': 0.7608244590561276, 'w19': 0.11976750921072775, 'w20': 0.6841318688412144, 'w21': 0.06935648441102471, 'w22': 0.1682791901752957, 'w23': 0.011474806543021023}. Best is trial 93 with value: 0.015549793095502291.\n",
            "[I 2020-10-03 21:50:45,860] Trial 102 finished with value: 0.015570784505988325 and parameters: {'w1': 0.9296608989882318, 'w2': 0.5801827093213803, 'w3': 0.14340795231426265, 'w4': 0.07195554286486076, 'w5': 0.9321458602768546, 'w6': 0.7835874614381235, 'w7': 0.5679904988438153, 'w8': 0.5318037964063131, 'w9': 0.18682841228414893, 'w10': 0.6835521594925851, 'w11': 0.08159648920927948, 'w12': 0.04091963356788842, 'w13': 0.15868320640420047, 'w14': 0.250230089525576, 'w15': 0.27725614546494276, 'w16': 0.08780454005446409, 'w17': 0.3697403940766449, 'w18': 0.7382225985365611, 'w19': 0.19433947749545652, 'w20': 0.6422248657093558, 'w21': 0.17938924470795664, 'w22': 0.12401941236779293, 'w23': 0.08102098873806282}. Best is trial 93 with value: 0.015549793095502291.\n",
            "[I 2020-10-03 21:50:46,267] Trial 103 finished with value: 0.015558475431348544 and parameters: {'w1': 0.9624032065536904, 'w2': 0.6215147812525292, 'w3': 0.014840123315546079, 'w4': 0.024066481450098647, 'w5': 0.9620564835947133, 'w6': 0.8257394904494623, 'w7': 0.6141670059311368, 'w8': 0.575452884666368, 'w9': 0.21169827173615402, 'w10': 0.6113222517651696, 'w11': 0.14958443481927727, 'w12': 0.11628197681774553, 'w13': 0.24983018124331396, 'w14': 0.2515164485829782, 'w15': 0.38381280946467866, 'w16': 0.049852179532407864, 'w17': 0.39909155332665835, 'w18': 0.8297979744323059, 'w19': 0.11627467588189576, 'w20': 0.8563306093786264, 'w21': 0.06905222376156431, 'w22': 0.1565661104343926, 'w23': 0.013553244055615647}. Best is trial 93 with value: 0.015549793095502291.\n",
            "[I 2020-10-03 21:50:46,657] Trial 104 finished with value: 0.015570892994427295 and parameters: {'w1': 0.9452741760070695, 'w2': 0.532671209056456, 'w3': 0.041725325982046146, 'w4': 0.13890823687816786, 'w5': 0.9217390403931576, 'w6': 0.7342903517317425, 'w7': 0.5374117542821226, 'w8': 0.48528582564247613, 'w9': 0.27792862627089715, 'w10': 0.7427073014415129, 'w11': 0.15011142358773102, 'w12': 0.08345618674283636, 'w13': 0.2113557792198518, 'w14': 0.26661720212786666, 'w15': 0.2574510501694004, 'w16': 0.13740069942354413, 'w17': 0.30893042074067156, 'w18': 0.8884442246442796, 'w19': 0.16090448314458333, 'w20': 0.7671550006011996, 'w21': 0.11908011862088753, 'w22': 0.16629778528573394, 'w23': 0.02992600697190797}. Best is trial 93 with value: 0.015549793095502291.\n",
            "[I 2020-10-03 21:50:47,064] Trial 105 finished with value: 0.015555151857773442 and parameters: {'w1': 0.99993513356199, 'w2': 0.47007878152881427, 'w3': 0.12959974225168178, 'w4': 0.05902938949265816, 'w5': 0.9953969512722357, 'w6': 0.8688459144049945, 'w7': 0.4881143894808898, 'w8': 0.5249293254411892, 'w9': 0.2924889082926437, 'w10': 0.5429503173142687, 'w11': 0.0778340595558447, 'w12': 0.14531083269227868, 'w13': 0.1288168524233153, 'w14': 0.1501696801850259, 'w15': 0.3440012260190176, 'w16': 0.1049316710646502, 'w17': 0.3253030236288533, 'w18': 0.8036170779366845, 'w19': 0.21938232940299662, 'w20': 0.7880403672164864, 'w21': 0.08848051503468013, 'w22': 0.10086923914571393, 'w23': 0.0754306564950874}. Best is trial 93 with value: 0.015549793095502291.\n",
            "[I 2020-10-03 21:50:47,460] Trial 106 finished with value: 0.015583120262998044 and parameters: {'w1': 0.0844176407252431, 'w2': 0.4717462435879669, 'w3': 0.11469493442455267, 'w4': 0.05636383705439757, 'w5': 0.9846767889447904, 'w6': 0.8703393389053136, 'w7': 0.5524428708288615, 'w8': 0.5172766020984177, 'w9': 0.13004741497552308, 'w10': 0.5336379541126829, 'w11': 0.07927112668315556, 'w12': 0.14354948417327826, 'w13': 0.2857137783760109, 'w14': 0.3181291712042241, 'w15': 0.34099809981909723, 'w16': 0.1108867383741943, 'w17': 0.3342426114533332, 'w18': 0.7842921445997945, 'w19': 0.2335547766474957, 'w20': 0.786634684644369, 'w21': 0.08855352324220919, 'w22': 0.10466312163022956, 'w23': 0.08487108811400819}. Best is trial 93 with value: 0.015549793095502291.\n",
            "[I 2020-10-03 21:50:47,875] Trial 107 finished with value: 0.015564647904278573 and parameters: {'w1': 0.9067880265559838, 'w2': 0.5633677772107434, 'w3': 0.1563424259369515, 'w4': 0.08647876778286981, 'w5': 0.9995658264857491, 'w6': 0.7834895922805405, 'w7': 0.6249019727147568, 'w8': 0.5912741892367663, 'w9': 0.29253620166043726, 'w10': 0.5742775845819973, 'w11': 0.04601940459533671, 'w12': 0.19457103736348957, 'w13': 0.13302162197394843, 'w14': 0.36463082102461714, 'w15': 0.38912353013336026, 'w16': 0.02168572423953359, 'w17': 0.408450717544938, 'w18': 0.8108428803499603, 'w19': 0.27556868982192234, 'w20': 0.7307471484677457, 'w21': 0.13926101537270758, 'w22': 0.14300903096912376, 'w23': 0.013094236172541178}. Best is trial 93 with value: 0.015549793095502291.\n",
            "[I 2020-10-03 21:50:48,267] Trial 108 finished with value: 0.015555209053750938 and parameters: {'w1': 0.9996864502189707, 'w2': 0.6306399857574223, 'w3': 0.20555945240977755, 'w4': 0.03396942979052572, 'w5': 0.9532234165548022, 'w6': 0.852509227553024, 'w7': 0.48099048328733796, 'w8': 0.5463516319354093, 'w9': 0.3273794279073909, 'w10': 0.6114856663241257, 'w11': 0.0824002046058395, 'w12': 0.23903285330164603, 'w13': 0.2428607322646728, 'w14': 0.16304047129747062, 'w15': 0.3533394927579259, 'w16': 0.10151621581388025, 'w17': 0.26163119736816776, 'w18': 0.8606492922097355, 'w19': 0.190562964641513, 'w20': 0.8479488779049277, 'w21': 0.08342273120732602, 'w22': 0.11807131514083927, 'w23': 0.07194315287067436}. Best is trial 93 with value: 0.015549793095502291.\n",
            "[I 2020-10-03 21:50:48,658] Trial 109 finished with value: 0.015552347335876548 and parameters: {'w1': 0.994398287405996, 'w2': 0.6165068446795546, 'w3': 0.20624099668078705, 'w4': 0.033378954513117606, 'w5': 0.9507156558638179, 'w6': 0.8540067886289706, 'w7': 0.5207666563753486, 'w8': 0.6132660088569665, 'w9': 0.33018212754276105, 'w10': 0.6119827465146233, 'w11': 0.013174978431420459, 'w12': 0.24972060382296196, 'w13': 0.1961502846045187, 'w14': 0.16142037720628089, 'w15': 0.3143242166409604, 'w16': 0.10000089834292374, 'w17': 0.18398753234761364, 'w18': 0.8418717962564078, 'w19': 0.19973944132841778, 'w20': 0.9531401834869634, 'w21': 0.08974299547480424, 'w22': 0.09437110044448034, 'w23': 0.07714188554161147}. Best is trial 93 with value: 0.015549793095502291.\n",
            "[I 2020-10-03 21:50:49,066] Trial 110 finished with value: 0.01556274936867341 and parameters: {'w1': 0.9971051660656148, 'w2': 0.634472683530592, 'w3': 0.2062889561461725, 'w4': 0.032744788496224184, 'w5': 0.9411895364923363, 'w6': 0.8267007197844252, 'w7': 0.51212445936872, 'w8': 0.6087593207117926, 'w9': 0.3283286735323149, 'w10': 0.6041811232050891, 'w11': 0.010217163610045876, 'w12': 0.2587933325802173, 'w13': 0.1816460480048655, 'w14': 0.15928194557670103, 'w15': 0.35581964290311113, 'w16': 0.0599722406600947, 'w17': 0.11680298366361931, 'w18': 0.8473019588186509, 'w19': 0.20822197204158754, 'w20': 0.9406405003577969, 'w21': 0.09143236252492928, 'w22': 0.11598103412106271, 'w23': 0.13681840067985002}. Best is trial 93 with value: 0.015549793095502291.\n",
            "[I 2020-10-03 21:50:49,466] Trial 111 finished with value: 0.01555733037710904 and parameters: {'w1': 0.9986857515886144, 'w2': 0.6060159129368267, 'w3': 0.12188061793313151, 'w4': 0.01315494896935156, 'w5': 0.9688540547543909, 'w6': 0.8460923676281616, 'w7': 0.48686053071977786, 'w8': 0.5468997449293223, 'w9': 0.39462344364113144, 'w10': 0.6292537302391216, 'w11': 0.08077382318278457, 'w12': 0.13484171015980612, 'w13': 0.2039444307265146, 'w14': 0.18787627277372027, 'w15': 0.2848636587026794, 'w16': 0.09833189482372796, 'w17': 0.2605994024688295, 'w18': 0.9187546621191578, 'w19': 0.17706488920233468, 'w20': 0.8774353010979395, 'w21': 0.11911290165145329, 'w22': 0.08682070901064157, 'w23': 0.07735854903643397}. Best is trial 93 with value: 0.015549793095502291.\n",
            "[I 2020-10-03 21:50:49,862] Trial 112 finished with value: 0.015554281452587797 and parameters: {'w1': 0.9649928262891098, 'w2': 0.5107725832731151, 'w3': 0.09439578236891732, 'w4': 0.06364355634263172, 'w5': 0.952261374358177, 'w6': 0.8034119944114828, 'w7': 0.5191379895560387, 'w8': 0.5719187484780178, 'w9': 0.2093041156230685, 'w10': 0.5482720153930678, 'w11': 0.10092239062642486, 'w12': 0.24214374550745033, 'w13': 0.15094914261186487, 'w14': 0.12141629689720662, 'w15': 0.29878075197363013, 'w16': 0.06924623868071778, 'w17': 0.1997721386204477, 'w18': 0.8939397113715937, 'w19': 0.24832999135474498, 'w20': 0.8050916483982518, 'w21': 0.05597682399022518, 'w22': 0.13432683781834337, 'w23': 0.030263872984538726}. Best is trial 93 with value: 0.015549793095502291.\n",
            "[I 2020-10-03 21:50:50,262] Trial 113 finished with value: 0.01554935762469294 and parameters: {'w1': 0.9611939342703052, 'w2': 0.4778168773992107, 'w3': 0.09846840339987785, 'w4': 0.09708120910974907, 'w5': 0.9514159597308534, 'w6': 0.8665537242916603, 'w7': 0.5149708445116801, 'w8': 0.5727955611417661, 'w9': 0.2519192994715529, 'w10': 0.5227585435567318, 'w11': 0.10406009787899329, 'w12': 0.24615654668735465, 'w13': 0.013250365810405007, 'w14': 0.11922776620568865, 'w15': 0.31556436543662236, 'w16': 0.06631715816474745, 'w17': 0.18193925709497913, 'w18': 0.885369156443684, 'w19': 0.2643869902158818, 'w20': 0.9145772060336512, 'w21': 0.04880614614483142, 'w22': 0.05747619541493443, 'w23': 0.1000600599446913}. Best is trial 113 with value: 0.01554935762469294.\n",
            "[I 2020-10-03 21:50:50,660] Trial 114 finished with value: 0.015549083926877491 and parameters: {'w1': 0.9571735434245652, 'w2': 0.5130991713290627, 'w3': 0.10020502179642511, 'w4': 0.11054538591626055, 'w5': 0.9481222416264795, 'w6': 0.8730634187297998, 'w7': 0.5166195915424736, 'w8': 0.6110149078992019, 'w9': 0.29796655774085185, 'w10': 0.517211734709645, 'w11': 0.02250869750460726, 'w12': 0.24207289210692534, 'w13': 0.019633384519026038, 'w14': 0.10471808534294852, 'w15': 0.2459472404260702, 'w16': 0.06800215500318038, 'w17': 0.19462098911629772, 'w18': 0.8874675224562297, 'w19': 0.2612154369553594, 'w20': 0.918879481816009, 'w21': 0.04599020364632888, 'w22': 0.06976282416525431, 'w23': 0.11080847545894565}. Best is trial 114 with value: 0.015549083926877491.\n",
            "[I 2020-10-03 21:50:51,064] Trial 115 finished with value: 0.01555164794078103 and parameters: {'w1': 0.9653879251970684, 'w2': 0.4051539641328096, 'w3': 0.10415652346074429, 'w4': 0.1011709891542569, 'w5': 0.969235106642365, 'w6': 0.8775806581471679, 'w7': 0.5180153118582365, 'w8': 0.6246032160574286, 'w9': 0.2501246494447773, 'w10': 0.5146476647042857, 'w11': 0.09958918835155192, 'w12': 0.17113277920799744, 'w13': 0.011763973756341894, 'w14': 0.11600478703577499, 'w15': 0.24589699923645778, 'w16': 0.011539623471925518, 'w17': 0.18155893685210547, 'w18': 0.9653601823235147, 'w19': 0.28805031126456526, 'w20': 0.9416799700187173, 'w21': 0.051309883342911325, 'w22': 0.06037857917391437, 'w23': 0.10717552919691037}. Best is trial 114 with value: 0.015549083926877491.\n",
            "[I 2020-10-03 21:50:51,453] Trial 116 finished with value: 0.01555036232669429 and parameters: {'w1': 0.9600000148021013, 'w2': 0.5095155345097645, 'w3': 0.099497529485333, 'w4': 0.1084521598471441, 'w5': 0.8733865969607422, 'w6': 0.8814717355801944, 'w7': 0.5220265714522492, 'w8': 0.636778853983966, 'w9': 0.2563118379320793, 'w10': 0.5246073189509617, 'w11': 0.010598414542128603, 'w12': 0.175818848149832, 'w13': 0.028008459156352895, 'w14': 0.11422306030326768, 'w15': 0.2511507490464847, 'w16': 0.03612464562915978, 'w17': 0.16614621268825844, 'w18': 0.9627503724530647, 'w19': 0.3170267020760288, 'w20': 0.9664016476619427, 'w21': 0.03882564249296924, 'w22': 0.05552898809775733, 'w23': 0.11706343299055902}. Best is trial 114 with value: 0.015549083926877491.\n",
            "[I 2020-10-03 21:50:51,844] Trial 117 finished with value: 0.015552757666193762 and parameters: {'w1': 0.9719543570475982, 'w2': 0.39766696841965526, 'w3': 0.10646831509906007, 'w4': 0.09982572204721891, 'w5': 0.8643852645892799, 'w6': 0.8832888027208337, 'w7': 0.43955485535031175, 'w8': 0.6320481318181772, 'w9': 0.24214572395533457, 'w10': 0.5104637669692891, 'w11': 0.013193612730202642, 'w12': 0.1779774646357663, 'w13': 0.023978821372327395, 'w14': 0.11146033058783196, 'w15': 0.16756700877130082, 'w16': 0.015090293025308385, 'w17': 0.19873482458378688, 'w18': 0.9678015162800361, 'w19': 0.2734132999905153, 'w20': 0.9689403907839298, 'w21': 0.043458500437230194, 'w22': 0.05415515298922043, 'w23': 0.11135533989333926}. Best is trial 114 with value: 0.015549083926877491.\n",
            "[I 2020-10-03 21:50:52,244] Trial 118 finished with value: 0.015552632051974298 and parameters: {'w1': 0.9640175530711046, 'w2': 0.4077490797715363, 'w3': 0.10255665530768243, 'w4': 0.11173730612109363, 'w5': 0.8278421151363125, 'w6': 0.8846466503781159, 'w7': 0.4409660079253418, 'w8': 0.6240346942103993, 'w9': 0.24971739890083716, 'w10': 0.511413247367167, 'w11': 0.013507035300643816, 'w12': 0.1819450567801026, 'w13': 0.02456262826973879, 'w14': 0.10693057114159041, 'w15': 0.1686204642357294, 'w16': 0.036807815853859144, 'w17': 0.12798543491446104, 'w18': 0.9697852736432714, 'w19': 0.2917620470003665, 'w20': 0.971783457320311, 'w21': 0.04243879530916854, 'w22': 0.057116767544561596, 'w23': 0.1084802885925643}. Best is trial 114 with value: 0.015549083926877491.\n",
            "[I 2020-10-03 21:50:52,636] Trial 119 finished with value: 0.01557445190540598 and parameters: {'w1': 0.8858489315629652, 'w2': 0.39101321519214693, 'w3': 0.03825490593260912, 'w4': 0.14293872361604723, 'w5': 0.8600659365901248, 'w6': 0.8783025477815964, 'w7': 0.4325078353287036, 'w8': 0.6316670816418745, 'w9': 0.25076294635987434, 'w10': 0.4822560343347784, 'w11': 0.053482204649026775, 'w12': 0.17518034914082883, 'w13': 0.010214177736990503, 'w14': 0.09891292313287536, 'w15': 0.16343083563905006, 'w16': 0.0177979383864564, 'w17': 0.13041934824954732, 'w18': 0.9687601305641058, 'w19': 0.27738402166135645, 'w20': 0.972007894542689, 'w21': 0.04871627267500574, 'w22': 0.06455184169562972, 'w23': 0.18546562319976495}. Best is trial 114 with value: 0.015549083926877491.\n",
            "[I 2020-10-03 21:50:53,049] Trial 120 finished with value: 0.01555316988475789 and parameters: {'w1': 0.9573742063285333, 'w2': 0.4017079550286537, 'w3': 0.1049387470928124, 'w4': 0.10692432325773588, 'w5': 0.8744755599201625, 'w6': 0.9265845226967236, 'w7': 0.4570737203825996, 'w8': 0.6929152844292047, 'w9': 0.24698535232572222, 'w10': 0.5137239314300923, 'w11': 0.010085225121243066, 'w12': 0.2124950145710681, 'w13': 0.05313638205167795, 'w14': 0.11255291310824936, 'w15': 0.2555308573360845, 'w16': 0.028656035153888704, 'w17': 0.05417273995188307, 'w18': 0.9843421882131826, 'w19': 0.30945383776545404, 'w20': 0.9208589735304016, 'w21': 0.03765363018680934, 'w22': 0.025968566469897397, 'w23': 0.1393205258319072}. Best is trial 114 with value: 0.015549083926877491.\n",
            "[I 2020-10-03 21:50:53,444] Trial 121 finished with value: 0.015553306607742625 and parameters: {'w1': 0.956371552651742, 'w2': 0.42831019923170704, 'w3': 0.09301574116435367, 'w4': 0.10227610857559631, 'w5': 0.8712987000333614, 'w6': 0.9252531401041324, 'w7': 0.4493558529188405, 'w8': 0.6867789437162863, 'w9': 0.24931348192416874, 'w10': 0.5075727230012498, 'w11': 0.013736909894070646, 'w12': 0.21185198031711092, 'w13': 0.04841826651600613, 'w14': 0.11116918851474378, 'w15': 0.16758823923837557, 'w16': 0.04597390178620195, 'w17': 0.04464555104480447, 'w18': 0.9869246803034838, 'w19': 0.3011304579649049, 'w20': 0.921686218205852, 'w21': 0.04244296834397766, 'w22': 0.02190231764639433, 'w23': 0.14230905851150008}. Best is trial 114 with value: 0.015549083926877491.\n",
            "[I 2020-10-03 21:50:53,832] Trial 122 finished with value: 0.015552581844993313 and parameters: {'w1': 0.9639941597072035, 'w2': 0.3989418356226365, 'w3': 0.0990238322142305, 'w4': 0.12332744019259587, 'w5': 0.8270529971034122, 'w6': 0.9316571901866048, 'w7': 0.4413312080690018, 'w8': 0.6938158192619485, 'w9': 0.24829617978392435, 'w10': 0.5009802836478724, 'w11': 0.011851126335160047, 'w12': 0.21924068625284532, 'w13': 0.06702869797984856, 'w14': 0.11732400808907009, 'w15': 0.15881941601275806, 'w16': 0.03818196071146272, 'w17': 0.04521669824011084, 'w18': 0.9897914319918817, 'w19': 0.2975323698651263, 'w20': 0.9183926906626279, 'w21': 0.04077132448900509, 'w22': 0.02480209650147041, 'w23': 0.13416789100531157}. Best is trial 114 with value: 0.015549083926877491.\n",
            "[I 2020-10-03 21:50:54,236] Trial 123 finished with value: 0.015555436845518033 and parameters: {'w1': 0.9673780185108943, 'w2': 0.35478574624473225, 'w3': 0.11125270940772004, 'w4': 0.12251848387548217, 'w5': 0.8248408830682825, 'w6': 0.8961388040065109, 'w7': 0.43153281706685476, 'w8': 0.7282633586906352, 'w9': 0.2226167054323823, 'w10': 0.511731471324773, 'w11': 0.0327457796317639, 'w12': 0.19899337156869037, 'w13': 0.05309250218817914, 'w14': 0.13830900941752478, 'w15': 0.25115771848962204, 'w16': 0.035555796919424905, 'w17': 0.06691045726048706, 'w18': 0.9424284921020369, 'w19': 0.3363980016152588, 'w20': 0.9727773340912834, 'w21': 0.04361739921028399, 'w22': 0.05389672776846985, 'w23': 0.11544515482043849}. Best is trial 114 with value: 0.015549083926877491.\n",
            "[I 2020-10-03 21:50:54,625] Trial 124 finished with value: 0.015558382408228027 and parameters: {'w1': 0.9124886065772692, 'w2': 0.4077249502223162, 'w3': 0.056234834793203486, 'w4': 0.15062663853293579, 'w5': 0.826652581867347, 'w6': 0.9295675916213999, 'w7': 0.46652434707466706, 'w8': 0.6098308935469646, 'w9': 0.16571245482363087, 'w10': 0.4553297692393248, 'w11': 0.010467504454176605, 'w12': 0.2286387042388655, 'w13': 0.011735475718034415, 'w14': 0.07415726968890712, 'w15': 0.11538702099003281, 'w16': 0.07487853814092561, 'w17': 0.1645752468097029, 'w18': 0.9624195136926975, 'w19': 0.3116013643021222, 'w20': 0.8995892196840929, 'w21': 0.10699817423802269, 'w22': 0.028330757428940742, 'w23': 0.10481209026805949}. Best is trial 114 with value: 0.015549083926877491.\n",
            "[I 2020-10-03 21:50:55,043] Trial 125 finished with value: 0.015559190490407323 and parameters: {'w1': 0.9497227184904578, 'w2': 0.38539697509637016, 'w3': 0.08722034138055011, 'w4': 0.09107088905709454, 'w5': 0.8630018162239144, 'w6': 0.8848348046193937, 'w7': 0.4154936969479161, 'w8': 0.6611392651131011, 'w9': 0.2427531670377263, 'w10': 0.4856974927824257, 'w11': 0.03821578428790398, 'w12': 0.15752946900782544, 'w13': 0.07337607086627124, 'w14': 0.11055865232517004, 'w15': 0.21575833500912261, 'w16': 0.01041490853322808, 'w17': 0.17719431608810288, 'w18': 0.9953881497773397, 'w19': 0.2602860740722349, 'w20': 0.9988667922649677, 'w21': 0.010485961648982519, 'w22': 0.07897335388284739, 'w23': 0.1407371472477696}. Best is trial 114 with value: 0.015549083926877491.\n",
            "[I 2020-10-03 21:50:55,435] Trial 126 finished with value: 0.015567908162837148 and parameters: {'w1': 0.9662164242313737, 'w2': 0.44963763745873764, 'w3': 0.04636900678306243, 'w4': 0.11583820427501018, 'w5': 0.7751013837865741, 'w6': 0.8491901684283948, 'w7': 0.44420473054433846, 'w8': 0.6408873911946373, 'w9': 0.13287058410316877, 'w10': 0.5004583246648479, 'w11': 0.010945062998294293, 'w12': 0.18067903679928865, 'w13': 0.02492762687987253, 'w14': 0.13742723403303087, 'w15': 0.18500053637223207, 'w16': 0.013494024171027845, 'w17': 0.1392275152616235, 'w18': 0.9452833551119472, 'w19': 0.2737445996817239, 'w20': 0.9393737755455327, 'w21': 0.04303998458799926, 'w22': 0.051824166070975584, 'w23': 0.16633122420597798}. Best is trial 114 with value: 0.015549083926877491.\n",
            "[I 2020-10-03 21:50:55,824] Trial 127 finished with value: 0.015573215069039928 and parameters: {'w1': 0.904627801081766, 'w2': 0.49423642278374025, 'w3': 0.1097409981974602, 'w4': 0.13505361973028546, 'w5': 0.8103649984018015, 'w6': 0.8685239012885505, 'w7': 0.5104168373975722, 'w8': 0.6867913041915844, 'w9': 0.2646521109332943, 'w10': 0.4643234579369119, 'w11': 0.10237981591834673, 'w12': 0.20713770865959694, 'w13': 0.0726019455966032, 'w14': 0.10203021377139482, 'w15': 0.2565628212345361, 'w16': 0.057899941889730216, 'w17': 0.10101223021308933, 'w18': 0.9076843186517283, 'w19': 0.3398434219107733, 'w20': 0.9652558436825389, 'w21': 0.010326107348982299, 'w22': 0.012685873960317104, 'w23': 0.2293135483490131}. Best is trial 114 with value: 0.015549083926877491.\n",
            "[I 2020-10-03 21:50:56,224] Trial 128 finished with value: 0.015551219734221636 and parameters: {'w1': 0.9374727998897173, 'w2': 0.32392801422746215, 'w3': 0.18368596529918302, 'w4': 0.08124194397420051, 'w5': 0.7600818184997609, 'w6': 0.8947688813083757, 'w7': 0.459597531040698, 'w8': 0.5929251693017041, 'w9': 0.27448209620694664, 'w10': 0.5272870038693874, 'w11': 0.022411305439504148, 'w12': 0.22252640542128216, 'w13': 0.033620179448859554, 'w14': 0.08210068056246209, 'w15': 0.13290772047561347, 'w16': 0.028126303806459214, 'w17': 0.2129139253919322, 'w18': 0.9534135745457927, 'w19': 0.24220244156724297, 'w20': 0.9134594728976231, 'w21': 0.03717087944179079, 'w22': 0.04216732227143667, 'w23': 0.11123475833738489}. Best is trial 114 with value: 0.015549083926877491.\n",
            "[I 2020-10-03 21:50:56,614] Trial 129 finished with value: 0.01556699205783937 and parameters: {'w1': 0.3504423181203463, 'w2': 0.3436976739997142, 'w3': 0.17082237031507444, 'w4': 0.0804246254898626, 'w5': 0.8404130244515469, 'w6': 0.9026609894002033, 'w7': 0.39491029685772683, 'w8': 0.6179424854437976, 'w9': 0.3105943756085665, 'w10': 0.553310919404723, 'w11': 0.16822538917821087, 'w12': 0.25402108612495056, 'w13': 0.028432562072696843, 'w14': 0.19522540203858862, 'w15': 0.09385676841131277, 'w16': 0.08147397884575104, 'w17': 0.1934311369305973, 'w18': 0.9543348180040296, 'w19': 0.28968703843587307, 'w20': 0.8974697150726176, 'w21': 0.055228466051616465, 'w22': 0.054598986770742125, 'w23': 0.10135070196385071}. Best is trial 114 with value: 0.015549083926877491.\n",
            "[I 2020-10-03 21:50:57,021] Trial 130 finished with value: 0.015569237206215206 and parameters: {'w1': 0.8808582256554025, 'w2': 0.31818840389183856, 'w3': 0.17774665360587105, 'w4': 0.15860483286494784, 'w5': 0.7616515970408261, 'w6': 0.8201066474931783, 'w7': 0.5662864975971388, 'w8': 0.5870163451703655, 'w9': 0.26956022892499537, 'w10': 0.5375514568360147, 'w11': 0.052643331375159, 'w12': 0.30076836936406903, 'w13': 0.0795616969248874, 'w14': 0.08587833325631967, 'w15': 0.13489932691895715, 'w16': 0.15245609052218537, 'w17': 0.2223544970207424, 'w18': 0.8742359367698893, 'w19': 0.2485393383025129, 'w20': 0.9912008618853894, 'w21': 0.10359985572566166, 'w22': 0.0849163865879205, 'w23': 0.11811794916894168}. Best is trial 114 with value: 0.015549083926877491.\n",
            "[I 2020-10-03 21:50:57,419] Trial 131 finished with value: 0.015564937322483548 and parameters: {'w1': 0.9748844473759867, 'w2': 0.3869034102955288, 'w3': 0.079923137106047, 'w4': 0.11355765443198484, 'w5': 0.872078887824345, 'w6': 0.9218699545408898, 'w7': 0.45664979038291303, 'w8': 0.7070326071031149, 'w9': 0.23839558183640525, 'w10': 0.509876872229992, 'w11': 0.024150667790254307, 'w12': 0.22423489846158998, 'w13': 0.11315536377834039, 'w14': 0.12675916154407663, 'w15': 0.23401628118627885, 'w16': 0.03695639152653084, 'w17': 0.062465607956273025, 'w18': 0.9270379644792617, 'w19': 0.3393368987324226, 'w20': 0.9185813654662252, 'w21': 0.04336202479657608, 'w22': 0.036704397930375915, 'w23': 0.17526500015836416}. Best is trial 114 with value: 0.015549083926877491.\n",
            "[I 2020-10-03 21:50:57,810] Trial 132 finished with value: 0.015555524449554076 and parameters: {'w1': 0.9374164254532882, 'w2': 0.4424079558065391, 'w3': 0.012608149631354315, 'w4': 0.08363600269296473, 'w5': 0.9732961927054382, 'w6': 0.9374989838096425, 'w7': 0.4882213835161182, 'w8': 0.600413372569567, 'w9': 0.2815992931139022, 'w10': 0.5305624144641585, 'w11': 0.09595124635130528, 'w12': 0.18300248938558863, 'w13': 0.04718192003780852, 'w14': 0.07864816703746955, 'w15': 0.20108514440324768, 'w16': 0.03125818785897465, 'w17': 0.15434049197797298, 'w18': 0.9704705552703241, 'w19': 0.3025694239892919, 'w20': 0.9540840576242884, 'w21': 0.03510952892329082, 'w22': 0.059680352278682666, 'w23': 0.13535631504267617}. Best is trial 114 with value: 0.015549083926877491.\n",
            "[I 2020-10-03 21:50:58,217] Trial 133 finished with value: 0.015563610112532955 and parameters: {'w1': 0.9531477054408071, 'w2': 0.37397006697765894, 'w3': 0.10452252387476199, 'w4': 0.09553101201522385, 'w5': 0.9121040814146053, 'w6': 0.8590372335900871, 'w7': 0.43316052643933417, 'w8': 0.6356097888953769, 'w9': 0.18345363851341906, 'w10': 0.49007629128432634, 'w11': 0.03790983443008584, 'w12': 0.16134960719524377, 'w13': 0.03551776896504023, 'w14': 0.14874442003574123, 'w15': 0.07101365624907306, 'w16': 0.06190649215209619, 'w17': 0.23340576310821826, 'w18': 0.9868118554015602, 'w19': 0.2350246174113667, 'w20': 0.9223128177940175, 'w21': 0.0814359617936294, 'w22': 0.010404133474456775, 'w23': 0.15308705569048517}. Best is trial 114 with value: 0.015549083926877491.\n",
            "[I 2020-10-03 21:50:58,631] Trial 134 finished with value: 0.015546401477222827 and parameters: {'w1': 0.5319216295733976, 'w2': 0.4107791444945271, 'w3': 0.20586166575622158, 'w4': 0.1304779658261475, 'w5': 0.8017984961743545, 'w6': 0.8879637826154844, 'w7': 0.4721897412147307, 'w8': 0.6688804713445683, 'w9': 0.24985155498147185, 'w10': 0.561371271124099, 'w11': 0.0587616707681312, 'w12': 0.2507498230730248, 'w13': 0.0159215413657548, 'w14': 0.12692478514640568, 'w15': 0.16239445123619328, 'w16': 0.01986513671554355, 'w17': 0.0907714469345897, 'w18': 0.9038117579040712, 'w19': 0.32377758769392434, 'w20': 0.8725708006042082, 'w21': 0.011602961621596429, 'w22': 0.031887587945753915, 'w23': 0.09428782371865557}. Best is trial 134 with value: 0.015546401477222827.\n",
            "[I 2020-10-03 21:50:59,027] Trial 135 finished with value: 0.015543721891857506 and parameters: {'w1': 0.9781371627302059, 'w2': 0.48461124137437667, 'w3': 0.21274112547862906, 'w4': 0.13074882567828722, 'w5': 0.8061143106630955, 'w6': 0.8895541208387334, 'w7': 0.504790712820759, 'w8': 0.6631160851409011, 'w9': 0.3037950908249204, 'w10': 0.5591179321071603, 'w11': 0.05923560080845933, 'w12': 0.2773847369729727, 'w13': 0.02104920882765576, 'w14': 0.1740850042783898, 'w15': 0.14029593859288206, 'w16': 0.013634972110315925, 'w17': 0.1829124389035427, 'w18': 0.9045116149911183, 'w19': 0.35934019343051343, 'w20': 0.876968997683123, 'w21': 0.011682909776225096, 'w22': 0.0734023102703523, 'w23': 0.09569399979723585}. Best is trial 135 with value: 0.015543721891857506.\n",
            "[I 2020-10-03 21:50:59,430] Trial 136 finished with value: 0.015545498044236002 and parameters: {'w1': 0.9220531615367352, 'w2': 0.5040598147863303, 'w3': 0.20665664918902066, 'w4': 0.13501446232134656, 'w5': 0.7923548513002284, 'w6': 0.8975695716962114, 'w7': 0.49903183600828205, 'w8': 0.6745093662149774, 'w9': 0.2945987745090894, 'w10': 0.5502354789108848, 'w11': 0.06075535597996806, 'w12': 0.2837272525759132, 'w13': 0.01009335903507726, 'w14': 0.18311952423361244, 'w15': 0.13972675443295443, 'w16': 0.0936190819630779, 'w17': 0.07768814863101178, 'w18': 0.9045431236696709, 'w19': 0.3268221827558745, 'w20': 0.8739057338277597, 'w21': 0.011515421215339647, 'w22': 0.09433161200870874, 'w23': 0.09322167420790753}. Best is trial 135 with value: 0.015543721891857506.\n",
            "[I 2020-10-03 21:50:59,826] Trial 137 finished with value: 0.015554188413016243 and parameters: {'w1': 0.5393352720516845, 'w2': 0.4933732476982549, 'w3': 0.20761688500952616, 'w4': 0.13672688205157946, 'w5': 0.7141145484703153, 'w6': 0.8390834432405783, 'w7': 0.49869671244482283, 'w8': 0.665563829482178, 'w9': 0.3016330482448169, 'w10': 0.5657531173101266, 'w11': 0.14116878624243323, 'w12': 0.2824792339781879, 'w13': 0.012590477456473527, 'w14': 0.17148550842265442, 'w15': 0.13324297749340394, 'w16': 0.09018206203923262, 'w17': 0.023886077008882838, 'w18': 0.8794629330303763, 'w19': 0.35226757176061396, 'w20': 0.8730518578749009, 'w21': 0.012513730599788705, 'w22': 0.09202394759133464, 'w23': 0.09758490892294534}. Best is trial 135 with value: 0.015543721891857506.\n",
            "[I 2020-10-03 21:51:00,227] Trial 138 finished with value: 0.015549904289650033 and parameters: {'w1': 0.6154965570083006, 'w2': 0.5315970609740516, 'w3': 0.2238786922738833, 'w4': 0.01036432356290054, 'w5': 0.795605983767505, 'w6': 0.9039595717211459, 'w7': 0.518727577332256, 'w8': 0.7137879128730766, 'w9': 0.21917589098897802, 'w10': 0.5949042473652425, 'w11': 0.059728102630126054, 'w12': 0.26040391604560575, 'w13': 0.06965145581778114, 'w14': 0.20035410873978765, 'w15': 0.05207703216666207, 'w16': 0.18040436818035227, 'w17': 0.07699332207430912, 'w18': 0.9160242304274758, 'w19': 0.3806946213843171, 'w20': 0.8295697828485114, 'w21': 0.01053574498329285, 'w22': 0.0777918966099112, 'w23': 0.08658796935011301}. Best is trial 135 with value: 0.015543721891857506.\n",
            "[I 2020-10-03 21:51:00,620] Trial 139 finished with value: 0.015681117327195262 and parameters: {'w1': 0.48991279219337686, 'w2': 0.5205148889728741, 'w3': 0.21590794287069986, 'w4': 0.16003717193583722, 'w5': 0.800520125812107, 'w6': 0.9011375849732457, 'w7': 0.5249123399993646, 'w8': 0.7281731220475962, 'w9': 0.22112209828294613, 'w10': 0.5894181867918695, 'w11': 0.10489406281649498, 'w12': 0.3159439939604634, 'w13': 0.08461735503474783, 'w14': 0.20033107265580807, 'w15': 0.06706383696985632, 'w16': 0.06477276112773989, 'w17': 0.09870700730694848, 'w18': 0.9073840122960852, 'w19': 0.3834818789907714, 'w20': 0.8333526097661801, 'w21': 0.9062574795524011, 'w22': 0.07989240747238385, 'w23': 0.0913187980688187}. Best is trial 135 with value: 0.015543721891857506.\n",
            "[I 2020-10-03 21:51:01,019] Trial 140 finished with value: 0.015544450387137207 and parameters: {'w1': 0.6393932298839653, 'w2': 0.48498269413710754, 'w3': 0.19696798385838646, 'w4': 0.039840116382998864, 'w5': 0.7453411335831532, 'w6': 0.8635947776967552, 'w7': 0.5871196117018664, 'w8': 0.7631136641976132, 'w9': 0.3249440417105947, 'w10': 0.5950566123864665, 'w11': 0.059596505088182476, 'w12': 0.25909435091797056, 'w13': 0.11166358008256107, 'w14': 0.186247168279435, 'w15': 0.1447120872598768, 'w16': 0.17628043900699822, 'w17': 0.14977645698512004, 'w18': 0.9324868719181538, 'w19': 0.3586179820886559, 'w20': 0.8886499282368289, 'w21': 0.010750619432731534, 'w22': 0.03529752774974192, 'w23': 0.06608080199001751}. Best is trial 135 with value: 0.015543721891857506.\n"
          ],
          "name": "stderr"
        }
      ]
    },
    {
      "cell_type": "code",
      "metadata": {
        "id": "aQbGz536Qn8t"
      },
      "source": [
        ""
      ],
      "execution_count": null,
      "outputs": []
    }
  ]
}