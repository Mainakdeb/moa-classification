{
  "nbformat": 4,
  "nbformat_minor": 0,
  "metadata": {
    "colab": {
      "name": "non_nn_blending.ipynb",
      "provenance": [],
      "collapsed_sections": []
    },
    "kernelspec": {
      "name": "python3",
      "display_name": "Python 3"
    },
    "accelerator": "GPU"
  },
  "cells": [
    {
      "cell_type": "code",
      "metadata": {
        "id": "YANWKEkfRb24",
        "outputId": "761fb871-0583-43d7-bb43-c627ef4fd032",
        "colab": {
          "base_uri": "https://localhost:8080/",
          "height": 122
        }
      },
      "source": [
        "!cp /content/drive/\"My Drive\"/kaggle/moa/lish-moa.zip /content/\n",
        "!unzip lish-moa.zip\n"
      ],
      "execution_count": 1,
      "outputs": [
        {
          "output_type": "stream",
          "text": [
            "Archive:  lish-moa.zip\n",
            "  inflating: sample_submission.csv   \n",
            "  inflating: test_features.csv       \n",
            "  inflating: train_features.csv      \n",
            "  inflating: train_targets_nonscored.csv  \n",
            "  inflating: train_targets_scored.csv  \n"
          ],
          "name": "stdout"
        }
      ]
    },
    {
      "cell_type": "code",
      "metadata": {
        "id": "_QzAnJ9qznAD",
        "outputId": "c6c9eaf2-018a-42b9-9e08-e46f7a10e2b1",
        "colab": {
          "base_uri": "https://localhost:8080/",
          "height": 402
        }
      },
      "source": [
        "!cp /content/drive/\"My Drive\"/kaggle/moa//models.zip /content/\n",
        "!unzip models.zip"
      ],
      "execution_count": 2,
      "outputs": [
        {
          "output_type": "stream",
          "text": [
            "Archive:  models.zip\n",
            "   creating: models/\n",
            "  inflating: models/model_1.pth      \n",
            "  inflating: models/model_3.pth      \n",
            "  inflating: models/model_2.pth      \n",
            "  inflating: models/model_4.pth      \n",
            "  inflating: models/model_5.pth      \n",
            "  inflating: models/model_6.pth      \n",
            "  inflating: models/model_7.pth      \n",
            "  inflating: models/model_8.pth      \n",
            "  inflating: models/model_9.pth      \n",
            "  inflating: models/model_108.pth    \n",
            "  inflating: models/model_103.pth    \n",
            "  inflating: models/model_10.pth     \n",
            "  inflating: models/model_106.pth    \n",
            "  inflating: models/model_107.pth    \n",
            "  inflating: models/model_102.pth    \n",
            "  inflating: models/model_104.pth    \n",
            "  inflating: models/model_101.pth    \n",
            "  inflating: models/model_109.pth    \n",
            "  inflating: models/model_110.pth    \n",
            "  inflating: models/model_105.pth    \n"
          ],
          "name": "stdout"
        }
      ]
    },
    {
      "cell_type": "code",
      "metadata": {
        "id": "_Cwf593x0GrP",
        "outputId": "9ceb119d-6ade-4b2d-9863-95ffdeaf090d",
        "colab": {
          "base_uri": "https://localhost:8080/",
          "height": 230
        }
      },
      "source": [
        "!pip install pip install iterative-stratification"
      ],
      "execution_count": 3,
      "outputs": [
        {
          "output_type": "stream",
          "text": [
            "Requirement already satisfied: pip in /usr/local/lib/python3.6/dist-packages (19.3.1)\n",
            "Collecting install\n",
            "  Downloading https://files.pythonhosted.org/packages/f0/a5/fd2eb807a9a593869ee8b7a6bcb4ad84a6eb31cef5c24d1bfbf7c938c13f/install-1.3.4-py3-none-any.whl\n",
            "Collecting iterative-stratification\n",
            "  Downloading https://files.pythonhosted.org/packages/9d/79/9ba64c8c07b07b8b45d80725b2ebd7b7884701c1da34f70d4749f7b45f9a/iterative_stratification-0.1.6-py3-none-any.whl\n",
            "Requirement already satisfied: scipy in /usr/local/lib/python3.6/dist-packages (from iterative-stratification) (1.4.1)\n",
            "Requirement already satisfied: scikit-learn in /usr/local/lib/python3.6/dist-packages (from iterative-stratification) (0.22.2.post1)\n",
            "Requirement already satisfied: numpy in /usr/local/lib/python3.6/dist-packages (from iterative-stratification) (1.18.5)\n",
            "Requirement already satisfied: joblib>=0.11 in /usr/local/lib/python3.6/dist-packages (from scikit-learn->iterative-stratification) (0.16.0)\n",
            "Installing collected packages: install, iterative-stratification\n",
            "Successfully installed install-1.3.4 iterative-stratification-0.1.6\n"
          ],
          "name": "stdout"
        }
      ]
    },
    {
      "cell_type": "code",
      "metadata": {
        "id": "fm2T-uRm0C2n",
        "outputId": "d6bb944b-bdc6-417b-c6e5-5b68abc55e89",
        "colab": {
          "base_uri": "https://localhost:8080/",
          "height": 107
        }
      },
      "source": [
        "import torch\n",
        "import torch.nn as nn\n",
        "from torch.nn import functional as F\n",
        "import torch.optim as optim\n",
        "from torch.utils.data import DataLoader, Dataset\n",
        "from torch.utils.data.dataset import random_split\n",
        "from torch.optim.lr_scheduler import ReduceLROnPlateau\n",
        "\n",
        "from sklearn.compose import ColumnTransformer\n",
        "from sklearn.preprocessing import Normalizer\n",
        "from sklearn.preprocessing import OneHotEncoder\n",
        "from sklearn.model_selection import StratifiedKFold\n",
        "from imblearn.over_sampling import RandomOverSampler\n",
        "\n",
        "import numpy as np \n",
        "import pandas as pd \n",
        "from IPython.display import clear_output\n",
        "import random \n",
        "import matplotlib.pyplot as plt\n",
        "from scipy.ndimage.filters import gaussian_filter1d   ## smoother\n",
        "from tqdm.notebook import tqdm, tnrange\n",
        "import os\n",
        "from iterstrat.ml_stratifiers import MultilabelStratifiedKFold\n",
        "\n",
        "plt.rcParams['figure.figsize'] = 15, 7\n",
        "\n",
        "CGREEN  = '\\33[32m'\n",
        "CBLUE =  '\\033[34m'\n",
        "CRED = '\\033[1;31m'\n",
        "CEND  = '\\33[0m'\n",
        "\n",
        "def seed_everything(seed=1903):\n",
        "    random.seed(seed)\n",
        "    os.environ['PYTHONHASHSEED'] = str(seed)\n",
        "    np.random.seed(seed)\n",
        "    torch.manual_seed(seed)\n",
        "    torch.cuda.manual_seed(seed)\n",
        "    torch.backends.cudnn.deterministic = True\n",
        "    print(\"seed kar diya\")"
      ],
      "execution_count": 4,
      "outputs": [
        {
          "output_type": "stream",
          "text": [
            "/usr/local/lib/python3.6/dist-packages/sklearn/externals/six.py:31: FutureWarning: The module is deprecated in version 0.21 and will be removed in version 0.23 since we've dropped support for Python 2.7. Please rely on the official version of six (https://pypi.org/project/six/).\n",
            "  \"(https://pypi.org/project/six/).\", FutureWarning)\n",
            "/usr/local/lib/python3.6/dist-packages/sklearn/utils/deprecation.py:144: FutureWarning: The sklearn.neighbors.base module is  deprecated in version 0.22 and will be removed in version 0.24. The corresponding classes / functions should instead be imported from sklearn.neighbors. Anything that cannot be imported from sklearn.neighbors is now part of the private API.\n",
            "  warnings.warn(message, FutureWarning)\n"
          ],
          "name": "stderr"
        }
      ]
    },
    {
      "cell_type": "code",
      "metadata": {
        "id": "OGOLryMKz_WI",
        "outputId": "4a95b42e-ce76-4af1-89a1-2fe6e2351ed2",
        "colab": {
          "base_uri": "https://localhost:8080/",
          "height": 35
        }
      },
      "source": [
        "if torch.cuda.is_available():\n",
        "    device='cuda'\n",
        "else:\n",
        "    device='cpu'\n",
        "    \n",
        "device"
      ],
      "execution_count": 5,
      "outputs": [
        {
          "output_type": "execute_result",
          "data": {
            "application/vnd.google.colaboratory.intrinsic+json": {
              "type": "string"
            },
            "text/plain": [
              "'cuda'"
            ]
          },
          "metadata": {
            "tags": []
          },
          "execution_count": 5
        }
      ]
    },
    {
      "cell_type": "code",
      "metadata": {
        "id": "StnM5CyKz5NC"
      },
      "source": [
        "\n",
        "train_features = pd.read_csv('train_features.csv')\n",
        "train_targets = pd.read_csv('train_targets_scored.csv')\n",
        "test_features = pd.read_csv('test_features.csv')\n",
        "\n",
        "\n",
        "def preprocess(df):\n",
        "    df = df.copy()\n",
        "    df.loc[:, 'cp_type'] = df.loc[:, 'cp_type'].map({'trt_cp': 0, 'ctl_vehicle': 1})\n",
        "    df.loc[:, 'cp_dose'] = df.loc[:, 'cp_dose'].map({'D1': 0, 'D2': 1})\n",
        "    return df\n",
        "\n",
        "train = preprocess(train_features)\n",
        "test = preprocess(test_features)\n",
        "\n",
        "del train_targets['sig_id']\n",
        "\n",
        "target = train_targets.loc[train['cp_type']==0].reset_index(drop=True)\n",
        "train = train.loc[train['cp_type']==0].reset_index(drop=True)"
      ],
      "execution_count": 6,
      "outputs": []
    },
    {
      "cell_type": "code",
      "metadata": {
        "id": "9Quajx5K0LxW"
      },
      "source": [
        "\n",
        "top_features = [  1,   2,   3,   4,   5,   6,   7,   9,  11,  14,  15,  16,  17,\n",
        "        18,  19,  20,  21,  22,  23,  24,  25,  26,  27,  29,  30,  31,\n",
        "        32,  33,  35,  36,  37,  38,  39,  40,  41,  42,  43,  44,  46,\n",
        "        47,  48,  49,  50,  51,  52,  53,  54,  55,  56,  58,  59,  60,\n",
        "        61,  62,  63,  64,  65,  66,  67,  68,  69,  70,  71,  72,  73,\n",
        "        74,  75,  76,  78,  79,  80,  81,  82,  83,  84,  86,  87,  88,\n",
        "        89,  90,  91,  92,  93,  94,  95,  96,  97,  98,  99, 100, 101,\n",
        "       102, 103, 104, 105, 106, 107, 108, 109, 110, 111, 112, 113, 114,\n",
        "       115, 116, 117, 118, 120, 121, 122, 123, 124, 125, 126, 127, 128,\n",
        "       129, 130, 131, 132, 133, 136, 137, 138, 139, 140, 141, 142, 143,\n",
        "       144, 145, 146, 147, 149, 150, 151, 152, 153, 154, 155, 156, 157,\n",
        "       158, 159, 160, 161, 162, 163, 164, 165, 166, 167, 168, 169, 170,\n",
        "       171, 172, 173, 174, 175, 176, 177, 178, 179, 180, 181, 182, 183,\n",
        "       184, 185, 186, 187, 188, 189, 190, 191, 192, 193, 194, 195, 197,\n",
        "       198, 199, 200, 202, 203, 204, 205, 206, 208, 209, 210, 211, 212,\n",
        "       213, 214, 215, 216, 217, 218, 219, 220, 221, 223, 224, 225, 226,\n",
        "       227, 228, 229, 230, 231, 232, 233, 234, 235, 236, 237, 238, 239,\n",
        "       240, 242, 243, 244, 245, 246, 247, 248, 249, 250, 251, 252, 253,\n",
        "       254, 255, 256, 257, 258, 259, 260, 261, 262, 263, 264, 265, 266,\n",
        "       267, 268, 269, 271, 272, 273, 274, 275, 276, 277, 278, 279, 280,\n",
        "       281, 282, 283, 284, 285, 286, 287, 288, 289, 290, 291, 292, 294,\n",
        "       295, 296, 298, 300, 301, 302, 303, 304, 305, 306, 307, 308, 309,\n",
        "       310, 311, 312, 314, 315, 316, 317, 318, 319, 320, 321, 322, 323,\n",
        "       324, 325, 326, 327, 328, 329, 330, 331, 332, 333, 334, 335, 336,\n",
        "       337, 338, 339, 340, 341, 342, 343, 344, 345, 346, 347, 348, 349,\n",
        "       350, 351, 352, 353, 354, 355, 356, 357, 358, 359, 360, 361, 362,\n",
        "       363, 364, 365, 366, 367, 368, 369, 370, 371, 374, 375, 376, 377,\n",
        "       378, 379, 380, 381, 382, 383, 384, 385, 386, 387, 388, 390, 391,\n",
        "       392, 393, 394, 395, 396, 397, 398, 399, 400, 401, 402, 403, 404,\n",
        "       405, 406, 407, 408, 409, 411, 412, 413, 414, 415, 416, 417, 418,\n",
        "       419, 420, 421, 422, 423, 424, 425, 426, 427, 428, 429, 430, 431,\n",
        "       432, 434, 435, 436, 437, 438, 439, 440, 442, 443, 444, 445, 446,\n",
        "       447, 448, 449, 450, 453, 454, 456, 457, 458, 459, 460, 461, 462,\n",
        "       463, 464, 465, 466, 467, 468, 469, 470, 471, 472, 473, 474, 475,\n",
        "       476, 477, 478, 479, 481, 482, 483, 484, 485, 486, 487, 488, 489,\n",
        "       490, 491, 492, 493, 494, 495, 496, 498, 500, 501, 502, 503, 505,\n",
        "       506, 507, 509, 510, 511, 512, 513, 514, 515, 518, 519, 520, 521,\n",
        "       522, 523, 524, 525, 526, 527, 528, 530, 531, 532, 534, 535, 536,\n",
        "       538, 539, 540, 541, 542, 543, 544, 545, 546, 547, 549, 550, 551,\n",
        "       552, 554, 557, 559, 560, 561, 562, 565, 566, 567, 568, 569, 570,\n",
        "       571, 572, 573, 574, 575, 577, 578, 580, 581, 582, 583, 584, 585,\n",
        "       586, 587, 588, 589, 590, 591, 592, 593, 594, 595, 596, 597, 599,\n",
        "       600, 601, 602, 606, 607, 608, 609, 611, 612, 613, 615, 616, 617,\n",
        "       618, 619, 620, 621, 622, 623, 624, 625, 626, 627, 628, 629, 630,\n",
        "       631, 632, 633, 634, 635, 636, 637, 638, 639, 641, 642, 643, 644,\n",
        "       645, 646, 647, 648, 649, 650, 651, 652, 654, 655, 656, 658, 659,\n",
        "       660, 661, 662, 663, 664, 665, 666, 667, 668, 669, 670, 671, 672,\n",
        "       673, 674, 675, 676, 677, 678, 679, 680, 681, 682, 683, 684, 685,\n",
        "       686, 687, 688, 689, 691, 692, 693, 694, 695, 696, 697, 699, 700,\n",
        "       701, 702, 704, 705, 707, 708, 709, 710, 711, 713, 714, 716, 717,\n",
        "       718, 720, 721, 723, 724, 725, 726, 727, 728, 729, 730, 731, 732,\n",
        "       733, 734, 735, 737, 738, 739, 740, 742, 743, 744, 745, 746, 747,\n",
        "       748, 749, 750, 751, 752, 753, 754, 755, 756, 757, 759, 760, 761,\n",
        "       762, 763, 764, 765, 766, 767, 768, 769, 770, 771, 772, 773, 774,\n",
        "       775, 776, 777, 779, 780, 781, 782, 783, 784, 785, 786, 787, 788,\n",
        "       789, 790, 792, 793, 794, 795, 796, 797, 798, 800, 801, 802, 803,\n",
        "       804, 805, 806, 808, 809, 811, 813, 814, 815, 816, 817, 818, 819,\n",
        "       821, 822, 823, 825, 826, 827, 828, 829, 830, 831, 832, 834, 835,\n",
        "       837, 838, 839, 840, 841, 842, 845, 846, 847, 848, 850, 851, 852,\n",
        "       854, 855, 856, 858, 859, 860, 861, 862, 864, 866, 867, 868, 869,\n",
        "       870, 871, 872, 873, 874]\n",
        "\n",
        "all_columns = train.columns\n",
        "train=train[all_columns[top_features]]\n",
        "test = test[all_columns[top_features]]\n",
        "\n",
        "train = train.values\n",
        "test = test.values\n",
        "target = target.values"
      ],
      "execution_count": 7,
      "outputs": []
    },
    {
      "cell_type": "code",
      "metadata": {
        "id": "ulibVLbz0dI9"
      },
      "source": [
        "\n",
        "class TrainDataset(Dataset):\n",
        "    def __init__(self, train,targets, noise ):\n",
        "        \n",
        "        self.features  = train\n",
        "        self.targets = targets\n",
        "        self.noise = noise\n",
        "        \n",
        "    def sizes(self):\n",
        "        print(\"features size = \", self.features.shape[1])\n",
        "        print(\"targets size = \", self.targets.shape[1])\n",
        "\n",
        "        \n",
        "    def __len__(self):\n",
        "        return self.features.shape[0]\n",
        "\n",
        "    def __getitem__(self, idx):\n",
        "        feature = torch.tensor(self.features[idx]).float()\n",
        "        \n",
        "#         if self.noise == True:\n",
        "# #             print(\"noisy boi\")\n",
        "#             feature  = feature + torch.randn_like(feature)/150\n",
        "            \n",
        "        target = torch.tensor(self.targets[idx]).float()\n",
        "        \n",
        "        return feature, target"
      ],
      "execution_count": 8,
      "outputs": []
    },
    {
      "cell_type": "code",
      "metadata": {
        "id": "hhFIdYXe0ddE"
      },
      "source": [
        "class Model(nn.Module):\n",
        "    def __init__(self):\n",
        "        super(Model, self).__init__()\n",
        "        self.batch_norm1 = nn.BatchNorm1d(785)\n",
        "        self.dropout1 = nn.Dropout(0.2)\n",
        "        self.dense1 = nn.utils.weight_norm(nn.Linear(785, 2048))\n",
        "        \n",
        "        self.batch_norm2 = nn.BatchNorm1d(2048)\n",
        "        self.dropout2 = nn.Dropout(0.5)\n",
        "        self.dense2 = nn.utils.weight_norm(nn.Linear(2048, 1048))\n",
        "        \n",
        "        self.batch_norm3 = nn.BatchNorm1d(1048)\n",
        "        self.dropout3 = nn.Dropout(0.5)\n",
        "        self.dense3 = nn.utils.weight_norm(nn.Linear(1048, 206))\n",
        "    \n",
        "    def forward(self, x):\n",
        "        x = self.batch_norm1(x)\n",
        "        x = self.dropout1(x)\n",
        "        x = F.relu(self.dense1(x))\n",
        "        \n",
        "        x = self.batch_norm2(x)\n",
        "        x = self.dropout2(x)\n",
        "        x = F.relu(self.dense2(x))\n",
        "        \n",
        "        x = self.batch_norm3(x)\n",
        "        x = self.dropout3(x)\n",
        "        x = self.dense3(x)\n",
        "        \n",
        "        return x\n",
        "\n",
        "class Model_2(nn.Module):\n",
        "    def __init__(self):\n",
        "        super(Model_2, self).__init__()\n",
        "        self.batch_norm1 = nn.BatchNorm1d(785)\n",
        "        self.dropout1 = nn.Dropout(0.5)\n",
        "        self.dense1 = nn.utils.weight_norm(nn.Linear(785, 790))\n",
        "        \n",
        "#         self.batch_norm2 = nn.BatchNorm1d(900)\n",
        "#         self.dropout2 = nn.Dropout(0.5)\n",
        "#         self.dense2 = nn.utils.weight_norm(nn.Linear(900, 900))\n",
        "        \n",
        "        self.batch_norm3 = nn.BatchNorm1d(790)\n",
        "        self.dense3 = nn.utils.weight_norm(nn.Linear(790, 206))\n",
        "    \n",
        "    def forward(self, x):\n",
        "        x = self.batch_norm1(x)\n",
        "        x = self.dropout1(x)\n",
        "        x = F.relu(self.dense1(x))\n",
        "        \n",
        "#         x = self.batch_norm2(x)\n",
        "#         x = self.dropout2(x)\n",
        "#         x = F.leaky_relu(self.dense2(x))\n",
        "        \n",
        "        x = self.batch_norm3(x)\n",
        "        x = self.dense3(x)\n",
        "        \n",
        "        return x"
      ],
      "execution_count": 9,
      "outputs": []
    },
    {
      "cell_type": "code",
      "metadata": {
        "id": "TRaIcldj2cZ7"
      },
      "source": [
        "class pytorch_model():\n",
        "    def __init__(self, model_class, model_path, device):\n",
        "        \n",
        "        self.model_class = model_class\n",
        "        self.model_path = model_path\n",
        "        self.device = device\n",
        "        \n",
        "        self.model = self.model_class()\n",
        "        self.model.load_state_dict(torch.load(self.model_path))\n",
        "        self.model.to(self.device)\n",
        "        self.model.eval()\n",
        "        \n",
        "    def predict(self, x):\n",
        "        \n",
        "        pred = self.model(x)\n",
        "        \n",
        "        return pred \n",
        "    \n",
        "    def __call__(self, x):\n",
        "        return self.predict(x)\n",
        "\n",
        "\n"
      ],
      "execution_count": 10,
      "outputs": []
    },
    {
      "cell_type": "code",
      "metadata": {
        "id": "LT3yzfbx25yA"
      },
      "source": [
        "class blend(nn.Module):\n",
        "    def __init__(self,weights, model_list ,device = device):\n",
        "        super(blend, self).__init__()\n",
        "        self.model_list = model_list\n",
        "        self.weights = weights \n",
        "\n",
        "\n",
        "    def forward(self, x):\n",
        "        \n",
        "        x_list = [self.model_list[i](x).detach().cpu() for i in range(len(self.model_list))]\n",
        "        \n",
        "        final_pred = torch.zeros_like(x_list[0])\n",
        "        \n",
        "        for i in range(len(x_list)):\n",
        "            final_pred += x_list[i] * self.weights[i]\n",
        "        final_pred = final_pred/self.weights.sum()\n",
        "        \n",
        "        return final_pred.cpu()\n",
        "    \n",
        "    def __call__(self,x):\n",
        "        return self.forward(x)\n",
        "\n",
        "def inference_fn(model, test_features, device):\n",
        "\n",
        "    results = np.zeros([test_features.shape[0], 206])\n",
        "    test_features_tensor = torch.tensor(test_features).float().to(device)\n",
        "    rows = model(test_features_tensor).sigmoid().detach().cpu().numpy()\n",
        "    results = rows \n",
        "\n",
        "    return results \n",
        "\n",
        "\n",
        "def log_loss_metric(y_true, y_pred):\n",
        "    y_pred_clip = np.clip(y_pred, 1e-15, 1 - 1e-15)\n",
        "    loss = - np.mean(np.mean(y_true * np.log(y_pred_clip) + (1 - y_true) * np.log(1 - y_pred_clip), axis = 1))\n",
        "    return loss\n",
        "\n",
        "\n",
        "def create_weights_from_val_losses(val_losses_np):\n",
        "    w = 1/val_losses_np\n",
        "    w_norm = w/w.max()\n",
        "    return w_norm"
      ],
      "execution_count": 11,
      "outputs": []
    },
    {
      "cell_type": "code",
      "metadata": {
        "id": "71nxpuiREav2",
        "outputId": "1ab89a9a-1375-4ee0-c86a-8ebe7f45a496",
        "colab": {
          "base_uri": "https://localhost:8080/",
          "height": 52
        }
      },
      "source": [
        "train_main = train[:-1000]\n",
        "target_main = target[:-1000]\n",
        "\n",
        "train_hold = train[-1000:]\n",
        "target_hold = target[-1000:]\n",
        "\n",
        "hold_dataset = TrainDataset(train_hold, target_hold, noise = False)\n",
        "hold_loader = DataLoader(dataset=hold_dataset, batch_size=512, shuffle= False)\n",
        "\n",
        "num_folds = 10\n",
        "\n",
        "mskf = MultilabelStratifiedKFold(n_splits=num_folds, shuffle=True, random_state=0)\n",
        "\n",
        "train_loaders = []\n",
        "val_loaders = []\n",
        "\n",
        "for k , (train_idx,valid_idx) in enumerate(mskf.split(train_main,target_main)):\n",
        "\n",
        "    x_train,x_valid,y_train,y_valid = train_main[train_idx,:],train_main[valid_idx,:],target_main[train_idx,:],target_main[valid_idx,:]\n",
        "\n",
        "    input_size = x_train.shape[1]\n",
        "    output_size = target.shape[1]\n",
        "\n",
        "\n",
        "    train_dataset = TrainDataset(x_train, y_train, noise = False)\n",
        "    valid_dataset = TrainDataset(x_valid, y_valid, noise = False)\n",
        "\n",
        "    train_loader = DataLoader(dataset=train_dataset, batch_size=128, shuffle=True)\n",
        "\n",
        "    val_loader = DataLoader(dataset=valid_dataset, batch_size=256, shuffle = False)\n",
        "    \n",
        "    train_loaders.append(train_loader)\n",
        "    val_loaders.append(val_loader)\n",
        "\n",
        "print(len(train_loader), \"batches \")\n",
        "print(len(val_loader), \" batches \")"
      ],
      "execution_count": 12,
      "outputs": [
        {
          "output_type": "stream",
          "text": [
            "148 batches \n",
            "9  batches \n"
          ],
          "name": "stdout"
        }
      ]
    },
    {
      "cell_type": "markdown",
      "metadata": {
        "id": "4h6TRJwKDUsJ"
      },
      "source": [
        "# Train non nn models "
      ]
    },
    {
      "cell_type": "code",
      "metadata": {
        "id": "yGki_qzADRaK"
      },
      "source": [
        "import gc\n",
        "import datetime\n",
        "from sklearn.kernel_approximation import Nystroem\n",
        "from sklearn.isotonic import IsotonicRegression\n",
        "from sklearn.linear_model import LogisticRegression\n",
        "# from cuml import LogisticRegression\n",
        "from sklearn.kernel_ridge import KernelRidge\n",
        "from sklearn.preprocessing import StandardScaler\n",
        "from sklearn.model_selection import StratifiedKFold\n",
        "from sklearn.metrics import log_loss\n",
        "from tqdm.notebook import tqdm\n",
        "from time import time\n",
        "import sys\n",
        "\n",
        "def log_loss_metric(y_true, y_pred):\n",
        "    y_pred_clip = np.clip(y_pred, 1e-15, 1 - 1e-15)\n",
        "    loss = - np.mean(np.mean(y_true * np.log(y_pred_clip) + (1 - y_true) * np.log(1 - y_pred_clip), axis = 1))\n",
        "    return loss"
      ],
      "execution_count": 15,
      "outputs": []
    },
    {
      "cell_type": "code",
      "metadata": {
        "id": "WBANuPCkD-fP",
        "outputId": "a1c986ec-cd5c-41b3-95b1-70195ba07a31",
        "colab": {
          "base_uri": "https://localhost:8080/",
          "height": 52
        }
      },
      "source": [
        "num_folds = 2\n",
        "\n",
        "kernel_ridge_models = []\n",
        "\n",
        "mskf = MultilabelStratifiedKFold(n_splits=num_folds, shuffle=True, random_state=0)\n",
        "\n",
        "train_loaders = []\n",
        "val_loaders = []\n",
        "\n",
        "for k , (train_idx,valid_idx) in enumerate(mskf.split(train_main,target_main)):\n",
        "\n",
        "    start_time = time()\n",
        "\n",
        "    x_train,x_valid,y_train,y_valid = train_main[train_idx,:],train_main[valid_idx,:],target_main[train_idx,:],target_main[valid_idx,:]\n",
        "\n",
        "    model = KernelRidge(alpha = 80, kernel = 'rbf')\n",
        "\n",
        "    model.fit(x_train, y_train)\n",
        "\n",
        "    fold_pred = model.predict(x_valid)\n",
        "    fold_score = log_loss_metric(y_valid, fold_pred)\n",
        "    \n",
        "    kernel_ridge_models.append(model)\n",
        "    print(f'[{str(datetime.timedelta(seconds = time() - start_time))[2:7]}] KRR: Fold {k}:', fold_score)"
      ],
      "execution_count": 16,
      "outputs": [
        {
          "output_type": "stream",
          "text": [
            "[00:26] KRR: Fold 0: 0.021886446741176516\n",
            "[00:26] KRR: Fold 1: 0.021801946600989074\n"
          ],
          "name": "stdout"
        }
      ]
    },
    {
      "cell_type": "code",
      "metadata": {
        "id": "zwJWcWeDESrB"
      },
      "source": [
        "class k_r_model():\n",
        "    def __init__(self, model, mode = \"numpy\"):\n",
        "        \n",
        "        self.mode = mode\n",
        "        self.model = model\n",
        "        \n",
        "    def forward(self, x):\n",
        "        \n",
        "        if self.mode == \"torch\":\n",
        "\n",
        "            pred = self.model.predict(x.cpu().numpy())\n",
        "            pred = torch.tensor(pred)\n",
        "            \n",
        "        elif self.mode == \"numpy\":\n",
        "\n",
        "            pred = self.model.predict(x)\n",
        "\n",
        "        return pred\n",
        "    \n",
        "    def __call__(self, x):\n",
        "        return self.forward(x)"
      ],
      "execution_count": 17,
      "outputs": []
    },
    {
      "cell_type": "code",
      "metadata": {
        "id": "JO57tKpJF7PB",
        "outputId": "698f45f3-d288-4410-8ad1-59d220012dd8",
        "colab": {
          "base_uri": "https://localhost:8080/",
          "height": 35
        }
      },
      "source": [
        "fold_pred = kernel_ridge_models[0].predict(train_hold)\n",
        "fold_score = log_loss_metric(target_hold, fold_pred)\n",
        "fold_score"
      ],
      "execution_count": 18,
      "outputs": [
        {
          "output_type": "execute_result",
          "data": {
            "text/plain": [
              "0.02162352251011992"
            ]
          },
          "metadata": {
            "tags": []
          },
          "execution_count": 18
        }
      ]
    },
    {
      "cell_type": "code",
      "metadata": {
        "id": "bvi-Ox7o7dyy"
      },
      "source": [
        "start = \"/content/models/model_\"\n",
        "names = [start + str(i +1) + \".pth\" for i in range(10)]\n",
        "names_2 = [start + str(i +100 +1 ) + \".pth\" for i in range(10)]\n",
        "names.extend(names_2)\n",
        "\n",
        "all_models = []\n",
        "\n",
        "for i in range(len(names)):\n",
        "    if i < 9:\n",
        "        model_class = Model\n",
        "    else:\n",
        "        model_class = Model_2\n",
        "    m = pytorch_model(model_class, names[i], device = device)\n",
        "    \n",
        "    all_models.append(m)\n",
        "    \n"
      ],
      "execution_count": 19,
      "outputs": []
    },
    {
      "cell_type": "code",
      "metadata": {
        "id": "W_dV411kK6fS"
      },
      "source": [
        "for i in range(len(kernel_ridge_models)):\n",
        "    temp_k_r_model = k_r_model(model, mode = \"torch\")\n",
        "    all_models.append(temp_k_r_model)\n",
        "\n"
      ],
      "execution_count": 20,
      "outputs": []
    },
    {
      "cell_type": "code",
      "metadata": {
        "id": "QeOPenafM99y"
      },
      "source": [
        "all_models"
      ],
      "execution_count": null,
      "outputs": []
    },
    {
      "cell_type": "code",
      "metadata": {
        "id": "l2_e8HdhVeFq",
        "outputId": "aaa5d19f-7959-4eec-91e2-a27e71bcbfc7",
        "colab": {
          "base_uri": "https://localhost:8080/",
          "height": 35
        }
      },
      "source": [
        "poop_weights = np.ones(25)\n",
        "\n",
        "blend_boi = blend(poop_weights, all_models)\n",
        "\n",
        "sample_infer = inference_fn(blend_boi, train_hold, device)\n",
        "loss = log_loss_metric(target_hold, sample_infer)\n",
        "loss"
      ],
      "execution_count": 22,
      "outputs": [
        {
          "output_type": "execute_result",
          "data": {
            "text/plain": [
              "0.017932491935568572"
            ]
          },
          "metadata": {
            "tags": []
          },
          "execution_count": 22
        }
      ]
    },
    {
      "cell_type": "code",
      "metadata": {
        "id": "KYdkOgB2OLQw"
      },
      "source": [
        "!pip install optuna"
      ],
      "execution_count": null,
      "outputs": []
    },
    {
      "cell_type": "code",
      "metadata": {
        "id": "llxmT3c6NM3H"
      },
      "source": [
        "import optuna   "
      ],
      "execution_count": 24,
      "outputs": []
    },
    {
      "cell_type": "code",
      "metadata": {
        "id": "UoMhqrclOJ9F"
      },
      "source": [
        "def find_loss(params):\n",
        "    \n",
        "    weights_np = np.array(list(params.values()))\n",
        "    blend_boi = blend(weights_np, all_models)\n",
        "    sample_infer = inference_fn(blend_boi, train_hold, device)\n",
        "    loss = log_loss_metric(target_hold, sample_infer)\n",
        "    \n",
        "    return loss\n",
        "\n",
        "\n",
        "def objective(trial):\n",
        "\n",
        "    params = {\n",
        "        \"w1\": trial.suggest_uniform(\"w1\", 0.01, 1.0),\n",
        "        \"w2\": trial.suggest_uniform(\"w2\", 0.01, 1.0),\n",
        "        \"w3\": trial.suggest_uniform(\"w3\", 0.01, 1.0),\n",
        "        \"w4\": trial.suggest_uniform(\"w4\", 0.01, 1.0),\n",
        "        \"w5\": trial.suggest_uniform(\"w5\", 0.01, 1.0),\n",
        "        \"w6\": trial.suggest_uniform(\"w6\", 0.01, 1.0),\n",
        "        \"w7\": trial.suggest_uniform(\"w7\", 0.01, 1.0),\n",
        "        \"w8\": trial.suggest_uniform(\"w8\", 0.01, 1.0),\n",
        "        \"w9\": trial.suggest_uniform(\"w9\", 0.01, 1.0),\n",
        "        \"w10\": trial.suggest_uniform(\"w10\", 0.01, 1.0),\n",
        "        \"w11\": trial.suggest_uniform(\"w11\", 0.01, 1.0),\n",
        "        \"w12\": trial.suggest_uniform(\"w12\", 0.01, 1.0),\n",
        "        \"w13\": trial.suggest_uniform(\"w13\", 0.01, 1.0),\n",
        "        \"w14\": trial.suggest_uniform(\"w14\", 0.01, 1.0),\n",
        "        \"w15\": trial.suggest_uniform(\"w15\", 0.01, 1.0),\n",
        "        \"w16\": trial.suggest_uniform(\"w16\", 0.01, 1.0),\n",
        "        \"w17\": trial.suggest_uniform(\"w17\", 0.01, 1.0),\n",
        "        \"w18\": trial.suggest_uniform(\"w18\", 0.01, 1.0),\n",
        "        \"w19\": trial.suggest_uniform(\"w19\", 0.01, 1.0),\n",
        "        \"w20\": trial.suggest_uniform(\"w20\", 0.01, 1.0),\n",
        "        \"w21\": trial.suggest_uniform(\"w21\", 0.01, 1.0),\n",
        "        \"w22\": trial.suggest_uniform(\"w22\", 0.01, 1.0)\n",
        "        # \"w23\": trial.suggest_uniform(\"w23\", 0.01, 1.0),\n",
        "        # \"w24\": trial.suggest_uniform(\"w24\", 0.01, 1.0),\n",
        "        # \"w25\": trial.suggest_uniform(\"w25\", 0.01, 1.0)\n",
        "\n",
        "    }\n",
        "\n",
        "    loss_ = find_loss(params) \n",
        "    return loss_"
      ],
      "execution_count": 27,
      "outputs": []
    },
    {
      "cell_type": "code",
      "metadata": {
        "id": "EwODaDidO0xb",
        "outputId": "22102d2b-e6ac-42cf-8d98-5d304657facd",
        "colab": {
          "base_uri": "https://localhost:8080/",
          "height": 1000
        }
      },
      "source": [
        "study = optuna.create_study(direction=\"minimize\")\n",
        "study.optimize(objective, n_trials=1000)\n"
      ],
      "execution_count": 28,
      "outputs": [
        {
          "output_type": "stream",
          "text": [
            "[I 2020-10-03 17:41:33,519] A new study created in memory with name: no-name-6e87b312-142b-404f-9b82-f9829fd50398\n",
            "[I 2020-10-03 17:41:35,189] Trial 0 finished with value: 0.01593326906418095 and parameters: {'w1': 0.7926197307897748, 'w2': 0.12498351206176805, 'w3': 0.8032232426597569, 'w4': 0.3192833985512568, 'w5': 0.2701802542719369, 'w6': 0.8125591039126907, 'w7': 0.3094643786050861, 'w8': 0.228016759696843, 'w9': 0.0313335426553996, 'w10': 0.8342566685107502, 'w11': 0.6946833833314185, 'w12': 0.5053157605441496, 'w13': 0.6410864346538635, 'w14': 0.5285012841105888, 'w15': 0.46632520288564805, 'w16': 0.22241434967672385, 'w17': 0.7272405381106114, 'w18': 0.29953735571455664, 'w19': 0.3816261736710958, 'w20': 0.4900712527030898, 'w21': 0.11748684755782896, 'w22': 0.7176316100437249}. Best is trial 0 with value: 0.01593326906418095.\n",
            "[I 2020-10-03 17:41:36,885] Trial 1 finished with value: 0.015928520851705253 and parameters: {'w1': 0.46255983423697467, 'w2': 0.6183497337789106, 'w3': 0.767406030750486, 'w4': 0.011267597030727083, 'w5': 0.7567747047696529, 'w6': 0.6142295158846757, 'w7': 0.6753155667756996, 'w8': 0.5624384964764542, 'w9': 0.34845310436941673, 'w10': 0.9366649374953299, 'w11': 0.5431657143050207, 'w12': 0.642626937204842, 'w13': 0.8243152510549099, 'w14': 0.42046374425578165, 'w15': 0.37192144265210614, 'w16': 0.989524918664254, 'w17': 0.5081803087855972, 'w18': 0.9085261335540232, 'w19': 0.4160691252262047, 'w20': 0.32045076486940705, 'w21': 0.2257380758132028, 'w22': 0.8177602954586174}. Best is trial 1 with value: 0.015928520851705253.\n",
            "[I 2020-10-03 17:41:38,548] Trial 2 finished with value: 0.01647484698285492 and parameters: {'w1': 0.3566673065870611, 'w2': 0.11081263371004212, 'w3': 0.2674180120932183, 'w4': 0.6228233558542315, 'w5': 0.4986010144882382, 'w6': 0.9121402424333717, 'w7': 0.3146266536685423, 'w8': 0.19594530132410698, 'w9': 0.2368643114310347, 'w10': 0.05977284121295575, 'w11': 0.0629948587629898, 'w12': 0.4272770685716173, 'w13': 0.3335705055824162, 'w14': 0.5452851359954487, 'w15': 0.24870047863049144, 'w16': 0.7778410766077054, 'w17': 0.4051814051160676, 'w18': 0.13606764958158432, 'w19': 0.9158216595430169, 'w20': 0.9162114752348196, 'w21': 0.24341303793044403, 'w22': 0.9800607553376729}. Best is trial 1 with value: 0.015928520851705253.\n",
            "[I 2020-10-03 17:41:40,218] Trial 3 finished with value: 0.016139009425857893 and parameters: {'w1': 0.620521118277429, 'w2': 0.23112924639767388, 'w3': 0.9170417242081051, 'w4': 0.5456908766360403, 'w5': 0.7042518387335018, 'w6': 0.20701037023820612, 'w7': 0.9568996418002151, 'w8': 0.1005477602426047, 'w9': 0.9557373480412779, 'w10': 0.9610201863440924, 'w11': 0.6828613728220425, 'w12': 0.3509965822750853, 'w13': 0.6216574925611023, 'w14': 0.5623656389227735, 'w15': 0.6362649206173646, 'w16': 0.367444735006101, 'w17': 0.4966773300125839, 'w18': 0.9679818719628334, 'w19': 0.16476389394026678, 'w20': 0.6507594766241778, 'w21': 0.70919021960025, 'w22': 0.6505658257223847}. Best is trial 1 with value: 0.015928520851705253.\n",
            "[I 2020-10-03 17:41:41,889] Trial 4 finished with value: 0.015926838808751564 and parameters: {'w1': 0.5402127539126951, 'w2': 0.3586250793651177, 'w3': 0.8089883271435596, 'w4': 0.791302051809509, 'w5': 0.6779756516406705, 'w6': 0.4739774042078512, 'w7': 0.196752500678177, 'w8': 0.9905722806208732, 'w9': 0.46511494505601336, 'w10': 0.683577192484013, 'w11': 0.19324347717255358, 'w12': 0.1003571543128765, 'w13': 0.8181006899363105, 'w14': 0.2547975974256938, 'w15': 0.48371336721121244, 'w16': 0.2306534827872207, 'w17': 0.843510024983868, 'w18': 0.8148447876102279, 'w19': 0.5613565480682781, 'w20': 0.16060694782904325, 'w21': 0.7431751595069281, 'w22': 0.21837168875027774}. Best is trial 4 with value: 0.015926838808751564.\n",
            "[I 2020-10-03 17:41:43,576] Trial 5 finished with value: 0.016220484642964397 and parameters: {'w1': 0.5702361932487021, 'w2': 0.8542383235924341, 'w3': 0.5510591680827802, 'w4': 0.686237474877941, 'w5': 0.2640612845641563, 'w6': 0.8700743209674461, 'w7': 0.9402705132495386, 'w8': 0.26777273753337527, 'w9': 0.5220058103433568, 'w10': 0.9380436459315986, 'w11': 0.4251696247838033, 'w12': 0.9408127596907678, 'w13': 0.5679477787364934, 'w14': 0.06077803470456033, 'w15': 0.15376383544748531, 'w16': 0.016257917723162665, 'w17': 0.25302629191422943, 'w18': 0.2912235057520519, 'w19': 0.7091654601423302, 'w20': 0.41482874877053244, 'w21': 0.5365307342632163, 'w22': 0.8069306544326457}. Best is trial 4 with value: 0.015926838808751564.\n",
            "[I 2020-10-03 17:41:45,275] Trial 6 finished with value: 0.017160625298613185 and parameters: {'w1': 0.06919184816516417, 'w2': 0.1271890384600394, 'w3': 0.15365732964047718, 'w4': 0.20704413150886397, 'w5': 0.31031797183409937, 'w6': 0.46666410137981645, 'w7': 0.20875614448818205, 'w8': 0.20848881309238196, 'w9': 0.06577378505410814, 'w10': 0.48268593578473157, 'w11': 0.4784208712437287, 'w12': 0.34501264275692667, 'w13': 0.5570961052610874, 'w14': 0.49719655734359525, 'w15': 0.381244041512754, 'w16': 0.42116825364424, 'w17': 0.16938449511553863, 'w18': 0.7192448701630272, 'w19': 0.24069452622058102, 'w20': 0.1458725987208859, 'w21': 0.30759260097163776, 'w22': 0.9088720985816542}. Best is trial 4 with value: 0.015926838808751564.\n",
            "[I 2020-10-03 17:41:47,114] Trial 7 finished with value: 0.01615642660589712 and parameters: {'w1': 0.7407353042604976, 'w2': 0.941335478260525, 'w3': 0.3632683459054921, 'w4': 0.16967222572046856, 'w5': 0.10345968878515563, 'w6': 0.6511886160160281, 'w7': 0.09741575471183149, 'w8': 0.2019894973739905, 'w9': 0.3534999084263717, 'w10': 0.7884090605572496, 'w11': 0.04929621827926386, 'w12': 0.06095457939779702, 'w13': 0.8943100533241112, 'w14': 0.23563377222107285, 'w15': 0.7545325301842388, 'w16': 0.4073253685985884, 'w17': 0.0735914285875977, 'w18': 0.9511412471285265, 'w19': 0.4247079963279251, 'w20': 0.7426995975216419, 'w21': 0.4764569601202741, 'w22': 0.5712674382345694}. Best is trial 4 with value: 0.015926838808751564.\n",
            "[I 2020-10-03 17:41:48,845] Trial 8 finished with value: 0.015584339553864271 and parameters: {'w1': 0.8287365322651219, 'w2': 0.9868525713108222, 'w3': 0.5240879551255214, 'w4': 0.5790288451985025, 'w5': 0.7839422051210095, 'w6': 0.10824376859541104, 'w7': 0.08224374989808382, 'w8': 0.12709630754130335, 'w9': 0.9111287673581092, 'w10': 0.8028907928819228, 'w11': 0.6332262290274752, 'w12': 0.9331273253140187, 'w13': 0.1932016605637628, 'w14': 0.3959265004656026, 'w15': 0.5036985696588588, 'w16': 0.9969111021431637, 'w17': 0.6897206618559646, 'w18': 0.9457593984694536, 'w19': 0.18902392941229942, 'w20': 0.9180670123392384, 'w21': 0.07790048164876374, 'w22': 0.051129762457567354}. Best is trial 8 with value: 0.015584339553864271.\n",
            "[I 2020-10-03 17:41:50,546] Trial 9 finished with value: 0.01569164017527281 and parameters: {'w1': 0.2605215113093076, 'w2': 0.6669573251720055, 'w3': 0.5201887347351112, 'w4': 0.4507352032800625, 'w5': 0.7159588575553709, 'w6': 0.31048242688436767, 'w7': 0.26918419457108744, 'w8': 0.3882062114119788, 'w9': 0.4469439777192851, 'w10': 0.5380141287308653, 'w11': 0.6688512661783399, 'w12': 0.40561117287491266, 'w13': 0.10631675173364517, 'w14': 0.19579222749155148, 'w15': 0.6781888795048076, 'w16': 0.1645643078320647, 'w17': 0.11356450518239472, 'w18': 0.7939452155710178, 'w19': 0.11597842726568508, 'w20': 0.872289046664493, 'w21': 0.30055807927179473, 'w22': 0.1461146291852216}. Best is trial 8 with value: 0.015584339553864271.\n",
            "[I 2020-10-03 17:41:52,264] Trial 10 finished with value: 0.016045941891524407 and parameters: {'w1': 0.9871278349300757, 'w2': 0.7905536295999466, 'w3': 0.015491361715414764, 'w4': 0.9903321631323307, 'w5': 0.8781933580414997, 'w6': 0.04347544626558329, 'w7': 0.012314222708008526, 'w8': 0.6173780202392174, 'w9': 0.9919314862407361, 'w10': 0.26345956799829495, 'w11': 0.9715550387724928, 'w12': 0.9349173666753345, 'w13': 0.03584380997602429, 'w14': 0.8819409012655381, 'w15': 0.9569404438006897, 'w16': 0.7070341328187592, 'w17': 0.946831926397685, 'w18': 0.5564601855513294, 'w19': 0.04945699306005513, 'w20': 0.9770499713007513, 'w21': 0.9936586972728181, 'w22': 0.31532164532643536}. Best is trial 8 with value: 0.015584339553864271.\n",
            "[I 2020-10-03 17:41:53,948] Trial 11 finished with value: 0.015564095983039417 and parameters: {'w1': 0.19645517298015058, 'w2': 0.6192670673148648, 'w3': 0.5524771929067498, 'w4': 0.38448606000960694, 'w5': 0.9966993404573391, 'w6': 0.21695182127280904, 'w7': 0.49574006197853204, 'w8': 0.4352090264797226, 'w9': 0.6859494303668613, 'w10': 0.5476368949139679, 'w11': 0.9252972103569487, 'w12': 0.7278230371033707, 'w13': 0.05277715746451496, 'w14': 0.09494571529708633, 'w15': 0.7670383579904733, 'w16': 0.04240000437324251, 'w17': 0.6709442755837496, 'w18': 0.6423739215789637, 'w19': 0.03284990429812357, 'w20': 0.8204844106119783, 'w21': 0.04527249090809186, 'w22': 0.022210745996143862}. Best is trial 11 with value: 0.015564095983039417.\n",
            "[I 2020-10-03 17:41:55,665] Trial 12 finished with value: 0.015573033216786618 and parameters: {'w1': 0.11224300359971728, 'w2': 0.4418603861075977, 'w3': 0.6196199943520303, 'w4': 0.4194315295461998, 'w5': 0.9995592368044685, 'w6': 0.054276732363376545, 'w7': 0.6030413464390025, 'w8': 0.7293772534308972, 'w9': 0.7560854612682256, 'w10': 0.5769072192327162, 'w11': 0.9869834082669564, 'w12': 0.7657705140166277, 'w13': 0.21591926706887837, 'w14': 0.03755028669983229, 'w15': 0.9355857847057896, 'w16': 0.9814243558023485, 'w17': 0.6867418545646977, 'w18': 0.5818498568187576, 'w19': 0.027659240017062298, 'w20': 0.7326127492810781, 'w21': 0.012837966810834392, 'w22': 0.020451304556163414}. Best is trial 11 with value: 0.015564095983039417.\n",
            "[I 2020-10-03 17:41:57,379] Trial 13 finished with value: 0.01566941023083444 and parameters: {'w1': 0.013796917102854744, 'w2': 0.3952259144025835, 'w3': 0.6351143384245364, 'w4': 0.39115342269517533, 'w5': 0.9984699369177198, 'w6': 0.010270253165422155, 'w7': 0.5647075084593077, 'w8': 0.7820550977663006, 'w9': 0.7162022641110004, 'w10': 0.42674440386591384, 'w11': 0.9795324451228201, 'w12': 0.742297098670674, 'w13': 0.30903837128152567, 'w14': 0.054779293011836414, 'w15': 0.9363758246222997, 'w16': 0.6544167808743886, 'w17': 0.6659956130778086, 'w18': 0.5624729471274126, 'w19': 0.027861261263293177, 'w20': 0.6786410109967931, 'w21': 0.03918013704782569, 'w22': 0.40670096322163546}. Best is trial 11 with value: 0.015564095983039417.\n",
            "[I 2020-10-03 17:41:59,074] Trial 14 finished with value: 0.015569751704851151 and parameters: {'w1': 0.16269460062039587, 'w2': 0.5176856893091641, 'w3': 0.3685618254980457, 'w4': 0.2622614576272135, 'w5': 0.9615115129108923, 'w6': 0.2567958902758838, 'w7': 0.7354601083224321, 'w8': 0.7581261744478021, 'w9': 0.7311730225457915, 'w10': 0.6269780801592759, 'w11': 0.8590467127115906, 'w12': 0.7394634811341464, 'w13': 0.32291826107307164, 'w14': 0.034185411355610644, 'w15': 0.826340494987773, 'w16': 0.8637445916261334, 'w17': 0.9743035892615906, 'w18': 0.42315089355612706, 'w19': 0.013297711591095874, 'w20': 0.7777262250450907, 'w21': 0.012228255942520458, 'w22': 0.035291363931381436}. Best is trial 11 with value: 0.015564095983039417.\n",
            "[I 2020-10-03 17:42:00,769] Trial 15 finished with value: 0.015593063705466379 and parameters: {'w1': 0.23640118955684378, 'w2': 0.5676169401684673, 'w3': 0.37039856314280317, 'w4': 0.013020215594561735, 'w5': 0.9193591947498247, 'w6': 0.30290623870608585, 'w7': 0.7840323318894524, 'w8': 0.8630058681746295, 'w9': 0.6956205558627271, 'w10': 0.30644665363438955, 'w11': 0.8294882498155056, 'w12': 0.7623928370043143, 'w13': 0.4034184969449395, 'w14': 0.7577476437938129, 'w15': 0.8068726683319489, 'w16': 0.8233984141080943, 'w17': 0.9695344817482029, 'w18': 0.3841510475582452, 'w19': 0.2809356899663833, 'w20': 0.7928698915126529, 'w21': 0.15619422273775524, 'w22': 0.014127388791081271}. Best is trial 11 with value: 0.015564095983039417.\n",
            "[I 2020-10-03 17:42:02,468] Trial 16 finished with value: 0.015757054406879484 and parameters: {'w1': 0.18167962199994517, 'w2': 0.7295015936689597, 'w3': 0.3485021818531898, 'w4': 0.23242815041973558, 'w5': 0.5571529614898898, 'w6': 0.3129413401001195, 'w7': 0.4377052313358943, 'w8': 0.4350898293190611, 'w9': 0.607315377730649, 'w10': 0.6691941988684158, 'w11': 0.8176977186094698, 'w12': 0.5964397600327737, 'w13': 0.018647069384289283, 'w14': 0.1652820563615639, 'w15': 0.8339707813755736, 'w16': 0.5987821798840578, 'w17': 0.8305882215518835, 'w18': 0.3955327433707245, 'w19': 0.9923090992882917, 'w20': 0.6186112983856279, 'w21': 0.4430409891591739, 'w22': 0.1647661929914553}. Best is trial 11 with value: 0.015564095983039417.\n",
            "[I 2020-10-03 17:42:04,162] Trial 17 finished with value: 0.016292604281460968 and parameters: {'w1': 0.3535666298203432, 'w2': 0.5258492503909484, 'w3': 0.16065783410037032, 'w4': 0.10421323931921855, 'w5': 0.8849496161447616, 'w6': 0.20591015359224266, 'w7': 0.8097357605881248, 'w8': 0.6633312941903633, 'w9': 0.8723252352605071, 'w10': 0.4190995658249651, 'w11': 0.8405665120224677, 'w12': 0.8329236365232077, 'w13': 0.44412116512406014, 'w14': 0.026112300278685857, 'w15': 0.6287816950524021, 'w16': 0.05502207793232345, 'w17': 0.9974944105229911, 'w18': 0.021346540115563584, 'w19': 0.6486051798281725, 'w20': 0.9971772759529994, 'w21': 0.996652106983477, 'w22': 0.40312146007276495}. Best is trial 11 with value: 0.015564095983039417.\n",
            "[I 2020-10-03 17:42:05,869] Trial 18 finished with value: 0.015609158262790414 and parameters: {'w1': 0.35709921103722586, 'w2': 0.30281807288538043, 'w3': 0.4103726447879251, 'w4': 0.3412035316111921, 'w5': 0.9899693312370473, 'w6': 0.3774263365352718, 'w7': 0.45402264074627063, 'w8': 0.9668550518006114, 'w9': 0.8301953414501089, 'w10': 0.6664538544574794, 'w11': 0.3401575512416243, 'w12': 0.654263673870955, 'w13': 0.14329868379432192, 'w14': 0.3114788109541146, 'w15': 0.8499113663785436, 'w16': 0.8454055765866904, 'w17': 0.8447819290165828, 'w18': 0.6855387101861516, 'w19': 0.3088206549139946, 'w20': 0.5727402823524262, 'w21': 0.026207732284905395, 'w22': 0.25662117492074044}. Best is trial 11 with value: 0.015564095983039417.\n",
            "[I 2020-10-03 17:42:07,586] Trial 19 finished with value: 0.015692854193535416 and parameters: {'w1': 0.02705294468270436, 'w2': 0.5031307462289104, 'w3': 0.7078617593470852, 'w4': 0.2803521309573832, 'w5': 0.5719914841188118, 'w6': 0.13887729449672814, 'w7': 0.7500362974545305, 'w8': 0.46092166635654175, 'w9': 0.6270058987195769, 'w10': 0.26504490788312113, 'w11': 0.9034156458348284, 'w12': 0.21810576421216188, 'w13': 0.28980761199502547, 'w14': 0.12624327865437493, 'w15': 0.9955620257731775, 'w16': 0.5444463618974178, 'w17': 0.5706066973841075, 'w18': 0.44607175709052316, 'w19': 0.09230478238060204, 'w20': 0.8194649597257773, 'w21': 0.37319320497918335, 'w22': 0.0917385744406997}. Best is trial 11 with value: 0.015564095983039417.\n",
            "[I 2020-10-03 17:42:09,264] Trial 20 finished with value: 0.015937842013659657 and parameters: {'w1': 0.15870179445143254, 'w2': 0.67173482608674, 'w3': 0.9844858947523232, 'w4': 0.08727306320742861, 'w5': 0.8379221992198322, 'w6': 0.20629385819241744, 'w7': 0.8928176968774137, 'w8': 0.36613421042918587, 'w9': 0.7915364154719857, 'w10': 0.3508453722955079, 'w11': 0.7801214927016086, 'w12': 0.5345522406995449, 'w13': 0.03883929972335967, 'w14': 0.744184072978526, 'w15': 0.6690224970838734, 'w16': 0.9107006082253823, 'w17': 0.30143847097493176, 'w18': 0.18098470230472702, 'w19': 0.030679148677345947, 'w20': 0.4922326468001096, 'w21': 0.6079097760676265, 'w22': 0.35141708856876575}. Best is trial 11 with value: 0.015564095983039417.\n",
            "[I 2020-10-03 17:42:11,027] Trial 21 finished with value: 0.015575305998699537 and parameters: {'w1': 0.11611150558652888, 'w2': 0.44807228351893263, 'w3': 0.6407285371040939, 'w4': 0.4622434499986101, 'w5': 0.9877137095794254, 'w6': 0.01597597603048565, 'w7': 0.5934823447055549, 'w8': 0.7446323188038965, 'w9': 0.742367684616183, 'w10': 0.5787401825877274, 'w11': 0.9851467871630812, 'w12': 0.7848160679570262, 'w13': 0.22608939539586054, 'w14': 0.04365397509648977, 'w15': 0.8939792822937126, 'w16': 0.936152349262279, 'w17': 0.7598615282730559, 'w18': 0.625091909575456, 'w19': 0.012427791082222982, 'w20': 0.7277760216656067, 'w21': 0.01655074928338457, 'w22': 0.03371592962911427}. Best is trial 11 with value: 0.015564095983039417.\n",
            "[I 2020-10-03 17:42:12,747] Trial 22 finished with value: 0.015586571581676992 and parameters: {'w1': 0.260001629288078, 'w2': 0.4921954033328331, 'w3': 0.45110905923155303, 'w4': 0.3951022017121284, 'w5': 0.9681554040444869, 'w6': 0.10718800751955812, 'w7': 0.643902680167291, 'w8': 0.8597937424832571, 'w9': 0.6023396842666647, 'w10': 0.598017087136334, 'w11': 0.9183172412629623, 'w12': 0.8422412286202116, 'w13': 0.12268048245960284, 'w14': 0.011636243296642312, 'w15': 0.7583255073019524, 'w16': 0.7570270237532986, 'w17': 0.6018851506774998, 'w18': 0.4893277458950358, 'w19': 0.1540380928792695, 'w20': 0.8444601340243709, 'w21': 0.16129640620304309, 'w22': 0.015376672957734538}. Best is trial 11 with value: 0.015564095983039417.\n",
            "[I 2020-10-03 17:42:14,430] Trial 23 finished with value: 0.015582811785214866 and parameters: {'w1': 0.09956883726420994, 'w2': 0.5931811751531163, 'w3': 0.6145083544631224, 'w4': 0.5098172892621509, 'w5': 0.9984131431356227, 'w6': 0.393372260176899, 'w7': 0.4407723908604791, 'w8': 0.6947809636850969, 'w9': 0.7991460042069545, 'w10': 0.6979872579869593, 'w11': 0.9974215143732983, 'w12': 0.6917698596013857, 'w13': 0.23640730324233855, 'w14': 0.13405163816510057, 'w15': 0.991406103485108, 'w16': 0.8900581451917938, 'w17': 0.9000827818752293, 'w18': 0.6119554406550705, 'w19': 0.021989271185676146, 'w20': 0.7279417521556963, 'w21': 0.02889395295881676, 'w22': 0.12447976891108223}. Best is trial 11 with value: 0.015564095983039417.\n",
            "[I 2020-10-03 17:42:16,137] Trial 24 finished with value: 0.015652077816536464 and parameters: {'w1': 0.1993159154617476, 'w2': 0.26059482963246405, 'w3': 0.292431925464794, 'w4': 0.4022437948101631, 'w5': 0.8239383372825091, 'w6': 0.21023748269670298, 'w7': 0.5496339552654471, 'w8': 0.5414695813102163, 'w9': 0.6933710837013011, 'w10': 0.49723009141244867, 'w11': 0.8984023960671224, 'w12': 0.857323843736737, 'w13': 0.4350542667862043, 'w14': 0.31743881536181484, 'w15': 0.7218497093376874, 'w16': 0.9951482374517353, 'w17': 0.7662065283886711, 'w18': 0.7016812994314541, 'w19': 0.22134260131044958, 'w20': 0.5533253175962983, 'w21': 0.11066810551916881, 'w22': 0.22704449658130996}. Best is trial 11 with value: 0.015564095983039417.\n",
            "[I 2020-10-03 17:42:17,897] Trial 25 finished with value: 0.015612161370347195 and parameters: {'w1': 0.44060331067611896, 'w2': 0.4119572234840545, 'w3': 0.4615250166489802, 'w4': 0.30311691194553064, 'w5': 0.9235452385797417, 'w6': 0.07892947594253645, 'w7': 0.6338047436076089, 'w8': 0.8861469857053086, 'w9': 0.5272710178066963, 'w10': 0.19033680005123893, 'w11': 0.7493938253486503, 'w12': 0.9938368754292358, 'w13': 0.3427703951193873, 'w14': 0.1032873455917799, 'w15': 0.5800652639046269, 'w16': 0.4755904757253253, 'w17': 0.6324629406216178, 'w18': 0.5284425177781827, 'w19': 0.10873966720092161, 'w20': 0.7802035463710183, 'w21': 0.20067705424741583, 'w22': 0.0911633541773229}. Best is trial 11 with value: 0.015564095983039417.\n",
            "[I 2020-10-03 17:42:19,612] Trial 26 finished with value: 0.015739705759549985 and parameters: {'w1': 0.012721298521023272, 'w2': 0.33008096126815367, 'w3': 0.18822984798397535, 'w4': 0.7174637841099502, 'w5': 0.44439990538180185, 'w6': 0.5746231298168304, 'w7': 0.70418508390152, 'w8': 0.7801830321122895, 'w9': 0.6553501967176214, 'w10': 0.6130182803429762, 'w11': 0.5865788367588989, 'w12': 0.5777906307311581, 'w13': 0.1639894986225517, 'w14': 0.01051393549514219, 'w15': 0.8688250698180261, 'w16': 0.32704374798689506, 'w17': 0.4415930257072222, 'w18': 0.32491480927308547, 'w19': 0.33551529206706004, 'w20': 0.9378958564217126, 'w21': 0.09153050361371544, 'w22': 0.48457270605575203}. Best is trial 11 with value: 0.015564095983039417.\n",
            "[I 2020-10-03 17:42:21,336] Trial 27 finished with value: 0.015568212931571896 and parameters: {'w1': 0.31373782982817244, 'w2': 0.7559578772260998, 'w3': 0.7082947287618354, 'w4': 0.14131555904893534, 'w5': 0.6345004333929871, 'w6': 0.28019728353140444, 'w7': 0.8571160177313443, 'w8': 0.6312059721351184, 'w9': 0.7693808493798222, 'w10': 0.7430586978985513, 'w11': 0.9115018103434014, 'w12': 0.6974175201082679, 'w13': 0.27141841817056445, 'w14': 0.2843624869233129, 'w15': 0.9065086120057403, 'w16': 0.10109485927323092, 'w17': 0.5321785793950219, 'w18': 0.7870096900548919, 'w19': 0.8010557716514737, 'w20': 0.6787389700987115, 'w21': 0.02206809514822484, 'w22': 0.02146941176089675}. Best is trial 11 with value: 0.015564095983039417.\n",
            "[I 2020-10-03 17:42:23,082] Trial 28 finished with value: 0.01590997145328775 and parameters: {'w1': 0.30614216905373665, 'w2': 0.8161725354277208, 'w3': 0.8991388418824631, 'w4': 0.10366397416524831, 'w5': 0.6098793326424689, 'w6': 0.3999907815966651, 'w7': 0.8634508199086222, 'w8': 0.6001870937128698, 'w9': 0.8513107185932195, 'w10': 0.769147866069928, 'w11': 0.745626077223733, 'w12': 0.7233104419979758, 'w13': 0.395594619894247, 'w14': 0.30908594154109886, 'w15': 0.8021158874925692, 'w16': 0.07176083116754542, 'w17': 0.36602586859206016, 'w18': 0.8270425196034181, 'w19': 0.825870991163107, 'w20': 0.6610461824849707, 'w21': 0.907755698736129, 'w22': 0.15978789713248098}. Best is trial 11 with value: 0.015564095983039417.\n",
            "[I 2020-10-03 17:42:24,815] Trial 29 finished with value: 0.0156626761850364 and parameters: {'w1': 0.45071990641126974, 'w2': 0.7414217001462314, 'w3': 0.7304926919785164, 'w4': 0.1481638036894789, 'w5': 0.3812543612321389, 'w6': 0.2612620135267818, 'w7': 0.7409535473850023, 'w8': 0.31960238749278214, 'w9': 0.5677033104030776, 'w10': 0.8830958183807989, 'w11': 0.881441515543723, 'w12': 0.485649205269001, 'w13': 0.498099727302013, 'w14': 0.2084637588240221, 'w15': 0.5636818389929027, 'w16': 0.1658004073851826, 'w17': 0.565271690593005, 'w18': 0.7645760381189776, 'w19': 0.7249232370650036, 'w20': 0.39979444979214174, 'w21': 0.13982215765661204, 'w22': 0.2912250775486215}. Best is trial 11 with value: 0.015564095983039417.\n",
            "[I 2020-10-03 17:42:26,547] Trial 30 finished with value: 0.01564552900850212 and parameters: {'w1': 0.3965657674134594, 'w2': 0.6734117285815263, 'w3': 0.8260140923177771, 'w4': 0.23872441249532755, 'w5': 0.6400958006040566, 'w6': 0.7233433592355447, 'w7': 0.37038871425339537, 'w8': 0.49840135484180725, 'w9': 0.9234631006299476, 'w10': 0.7310658396210596, 'w11': 0.7417202863405485, 'w12': 0.6342069344505169, 'w13': 0.08050033380825147, 'w14': 0.4578753349654272, 'w15': 0.7223539396224282, 'w16': 0.27811226991420634, 'w17': 0.484065101233418, 'w18': 0.8536418194588272, 'w19': 0.5219858330733891, 'w20': 0.865710845851947, 'w21': 0.26598667843539003, 'w22': 0.19140540414649146}. Best is trial 11 with value: 0.015564095983039417.\n",
            "[I 2020-10-03 17:42:28,265] Trial 31 finished with value: 0.01557990201121051 and parameters: {'w1': 0.14577651571126216, 'w2': 0.8991724574666438, 'w3': 0.5850177779340046, 'w4': 0.3354746463009408, 'w5': 0.09456409130978072, 'w6': 0.16730641683421552, 'w7': 0.4973202594431864, 'w8': 0.6926425864796697, 'w9': 0.764706602973606, 'w10': 0.5473168246101915, 'w11': 0.946133148232432, 'w12': 0.7997284581644113, 'w13': 0.2673900518645496, 'w14': 0.10088155225885573, 'w15': 0.9243462696312428, 'w16': 0.1157959223172996, 'w17': 0.7090107808004555, 'w18': 0.6369730786041196, 'w19': 0.8143252211644254, 'w20': 0.5846519352692948, 'w21': 0.030093215058467404, 'w22': 0.02131694548730919}. Best is trial 11 with value: 0.015564095983039417.\n",
            "[I 2020-10-03 17:42:29,959] Trial 32 finished with value: 0.015572617684164063 and parameters: {'w1': 0.07262205142589663, 'w2': 0.61055990371891, 'w3': 0.6778950793478051, 'w4': 0.266840624339679, 'w5': 0.7934580333521102, 'w6': 0.2697998286425956, 'w7': 0.8453359908082688, 'w8': 0.6432538168323314, 'w9': 0.6726950920576772, 'w10': 0.6265617084719173, 'w11': 0.8702209913084772, 'w12': 0.6945995033089429, 'w13': 0.20730333772958112, 'w14': 0.3723172229673581, 'w15': 0.9770205371749272, 'w16': 0.018309371653909657, 'w17': 0.7753384392432114, 'w18': 0.4779917362356042, 'w19': 0.4498270048628667, 'w20': 0.7146290042759723, 'w21': 0.010755930319601828, 'w22': 0.07706106705145332}. Best is trial 11 with value: 0.015564095983039417.\n",
            "[I 2020-10-03 17:42:31,657] Trial 33 finished with value: 0.015586017502086469 and parameters: {'w1': 0.2888927998150481, 'w2': 0.6060292954610988, 'w3': 0.6932051157830416, 'w4': 0.26783304586302664, 'w5': 0.7837764979040348, 'w6': 0.2579252459947362, 'w7': 0.9939606253059032, 'w8': 0.6109474647996246, 'w9': 0.6675068421159395, 'w10': 0.6393761335543234, 'w11': 0.8181110515971851, 'w12': 0.6749986979397885, 'w13': 0.35726321878576, 'w14': 0.361657589874545, 'w15': 0.9807908538025767, 'w16': 0.0432517086731776, 'w17': 0.78804325003592, 'w18': 0.47717607021109876, 'w19': 0.9781569351899473, 'w20': 0.6700624353002206, 'w21': 0.0874297042224538, 'w22': 0.08393947622004412}. Best is trial 11 with value: 0.015564095983039417.\n",
            "[I 2020-10-03 17:42:33,379] Trial 34 finished with value: 0.015591075218109542 and parameters: {'w1': 0.21134882803122898, 'w2': 0.7469798881460272, 'w3': 0.7653104921116628, 'w4': 0.16416963116885389, 'w5': 0.7320468640199498, 'w6': 0.36718770269966367, 'w7': 0.8613429529267593, 'w8': 0.550178741239287, 'w9': 0.8439934884396626, 'w10': 0.8791312760893557, 'w11': 0.8749705956582305, 'w12': 0.5858582662560168, 'w13': 0.16751616598752284, 'w14': 0.5788480142654997, 'w15': 0.8793088743536892, 'w16': 0.12005530636269796, 'w17': 0.5386356681248629, 'w18': 0.26164776019070857, 'w19': 0.44791975842130527, 'w20': 0.806642725070136, 'w21': 0.1555730111665854, 'w22': 0.09556705545419994}. Best is trial 11 with value: 0.015564095983039417.\n",
            "[I 2020-10-03 17:42:35,064] Trial 35 finished with value: 0.015580272994431977 and parameters: {'w1': 0.06136945271428115, 'w2': 0.5447424470904969, 'w3': 0.8499008665785535, 'w4': 0.02535210598896881, 'w5': 0.8234581164338557, 'w6': 0.9986064322607157, 'w7': 0.8115558085968302, 'w8': 0.6531977329014519, 'w9': 0.5586310648225647, 'w10': 0.4283690619587378, 'w11': 0.7052351204114192, 'w12': 0.8720585768322655, 'w13': 0.07674783576047034, 'w14': 0.2675955945981801, 'w15': 0.7869857543974272, 'w16': 0.2168494186227288, 'w17': 0.9051532735581174, 'w18': 0.4271482774717977, 'w19': 0.6099002402928202, 'w20': 0.5254416664961643, 'w21': 0.21027335114814003, 'w22': 0.016336347708899596}. Best is trial 11 with value: 0.015564095983039417.\n",
            "[I 2020-10-03 17:42:36,770] Trial 36 finished with value: 0.015608157009710539 and parameters: {'w1': 0.3429125682197181, 'w2': 0.6325418838289742, 'w3': 0.6792842278355508, 'w4': 0.34477782659114486, 'w5': 0.6502402372307252, 'w6': 0.4490422776993259, 'w7': 0.9437679446612782, 'w8': 0.47795766922309596, 'w9': 0.45187491884198533, 'w10': 0.7314178520528922, 'w11': 0.9357782808924298, 'w12': 0.49936430862473746, 'w13': 0.68374899413585, 'w14': 0.6106581179468696, 'w15': 0.028649887348743464, 'w16': 0.014419947313482659, 'w17': 0.6296953435447883, 'w18': 0.8847048859379485, 'w19': 0.8964030724498147, 'w20': 0.4530874724214383, 'w21': 0.09288756991240915, 'w22': 0.1873865208355241}. Best is trial 11 with value: 0.015564095983039417.\n",
            "[I 2020-10-03 17:42:38,478] Trial 37 finished with value: 0.015570769168755902 and parameters: {'w1': 0.16514888776246767, 'w2': 0.694109642175499, 'w3': 0.4736828870447738, 'w4': 0.1912473629542052, 'w5': 0.9273181555028734, 'w6': 0.5265780619374176, 'w7': 0.6997138939940097, 'w8': 0.8092407643653823, 'w9': 0.6488466860038135, 'w10': 0.8572789731825041, 'w11': 0.7944559462648942, 'w12': 0.6863440094932913, 'w13': 0.2590442043256314, 'w14': 0.45099895392738243, 'w15': 0.8947781948929197, 'w16': 0.10665157232526129, 'w17': 0.4671114342120613, 'w18': 0.359214989218299, 'w19': 0.379593476141499, 'w20': 0.6316692850872808, 'w21': 0.06268879668299127, 'w22': 0.07573784097900421}. Best is trial 11 with value: 0.015564095983039417.\n",
            "[I 2020-10-03 17:42:40,200] Trial 38 finished with value: 0.015821695209251894 and parameters: {'w1': 0.5077851294222894, 'w2': 0.8655429649278946, 'w3': 0.4555116660218574, 'w4': 0.028507074725744874, 'w5': 0.9190598420192659, 'w6': 0.5685774534239012, 'w7': 0.6711212003990293, 'w8': 0.937912428634422, 'w9': 0.37757679150412016, 'w10': 0.8456617843176006, 'w11': 0.5909661141336074, 'w12': 0.6187764641948857, 'w13': 0.518773303700673, 'w14': 0.4612654680560233, 'w15': 0.8844148317617478, 'w16': 0.2624093769690621, 'w17': 0.4635045474734768, 'w18': 0.21020912045170798, 'w19': 0.7658890816036434, 'w20': 0.2852986500895241, 'w21': 0.21679793798744196, 'w22': 0.6559540657747225}. Best is trial 11 with value: 0.015564095983039417.\n",
            "[I 2020-10-03 17:42:41,909] Trial 39 finished with value: 0.01572392691028565 and parameters: {'w1': 0.2989432617858209, 'w2': 0.7076120376668483, 'w3': 0.30516672960226365, 'w4': 0.19580667260546236, 'w5': 0.2754403270577471, 'w6': 0.5343394050223722, 'w7': 0.5126458044513791, 'w8': 0.8047904293800048, 'w9': 0.1972275107567616, 'w10': 0.9025461199185123, 'w11': 0.31892501855232336, 'w12': 0.8991277263675614, 'w13': 0.30269978586517005, 'w14': 0.6231466607819443, 'w15': 0.40770196905670014, 'w16': 0.10698912372323904, 'w17': 0.37268001717155336, 'w18': 0.3324310060223097, 'w19': 0.37433242567679886, 'w20': 0.6105110556910986, 'w21': 0.37255638485801784, 'w22': 0.13223790129224025}. Best is trial 11 with value: 0.015564095983039417.\n",
            "[I 2020-10-03 17:42:43,624] Trial 40 finished with value: 0.015588606358262563 and parameters: {'w1': 0.40634528817897647, 'w2': 0.8020645198910659, 'w3': 0.24272802594914272, 'w4': 0.13191252737453124, 'w5': 0.8709490280796931, 'w6': 0.6826834873602022, 'w7': 0.7297026738644782, 'w8': 0.8353441301186746, 'w9': 0.9823744108459671, 'w10': 0.8103837418501878, 'w11': 0.7980682365350906, 'w12': 0.9934501718731941, 'w13': 0.25605382656649883, 'w14': 0.5193943422121541, 'w15': 0.2616882044727219, 'w16': 0.17063429244882772, 'w17': 0.24691099095770913, 'w18': 0.10135961442503666, 'w19': 0.571547377597101, 'w20': 0.7642084722180017, 'w21': 0.06163733025462417, 'w22': 0.23626132018204102}. Best is trial 11 with value: 0.015564095983039417.\n",
            "[I 2020-10-03 17:42:45,310] Trial 41 finished with value: 0.015586322698841897 and parameters: {'w1': 0.14969941293832809, 'w2': 0.6350383697282604, 'w3': 0.5636205832057655, 'w4': 0.2553878423578895, 'w5': 0.7638027212323361, 'w6': 0.26048265205572946, 'w7': 0.9067934747984912, 'w8': 0.746080152061537, 'w9': 0.6623708761440649, 'w10': 0.9962437916145452, 'w11': 0.8702185724776931, 'w12': 0.7116472991346734, 'w13': 0.18865252699277968, 'w14': 0.3892490884846578, 'w15': 0.8419942864788696, 'w16': 0.025797624009483183, 'w17': 0.5176104649019704, 'w18': 0.3750479426479699, 'w19': 0.500508796931057, 'w20': 0.6816536848602623, 'w21': 0.12134054554747378, 'w22': 0.07044315012476826}. Best is trial 11 with value: 0.015564095983039417.\n",
            "[I 2020-10-03 17:42:46,998] Trial 42 finished with value: 0.01557080601103194 and parameters: {'w1': 0.07710612149953823, 'w2': 0.5965847979796834, 'w3': 0.4847705290307054, 'w4': 0.20012147919770945, 'w5': 0.9360805500985772, 'w6': 0.4804187024973995, 'w7': 0.8191613581040255, 'w8': 0.9095449082803877, 'w9': 0.7233588046821454, 'w10': 0.7481590250271482, 'w11': 0.8539620463210356, 'w12': 0.5511561914512382, 'w13': 0.34224290261894724, 'w14': 0.4365105865425602, 'w15': 0.9912557249354114, 'w16': 0.21176434871614316, 'w17': 0.4248784002335089, 'w18': 0.7522793539440111, 'w19': 0.4602743589165071, 'w20': 0.8820775835266585, 'w21': 0.018117981477642535, 'w22': 0.053394654542538}. Best is trial 11 with value: 0.015564095983039417.\n",
            "[I 2020-10-03 17:42:48,692] Trial 43 finished with value: 0.015582081017884573 and parameters: {'w1': 0.24385952699153607, 'w2': 0.47722874757421313, 'w3': 0.474440511361107, 'w4': 0.0668230849162832, 'w5': 0.9479720448552543, 'w6': 0.4933536082151748, 'w7': 0.9957033699789026, 'w8': 0.9247206248275347, 'w9': 0.7318106906632862, 'w10': 0.7455480895106784, 'w11': 0.6877650183457784, 'w12': 0.44355655694664986, 'w13': 0.38206364419303407, 'w14': 0.44007323580281515, 'w15': 0.9156293292094925, 'w16': 0.20796290315041063, 'w17': 0.4147982535693282, 'w18': 0.7688063736834242, 'w19': 0.37302517790228323, 'w20': 0.9244329153298587, 'w21': 0.06809511070857599, 'w22': 0.12269090823139676}. Best is trial 11 with value: 0.015564095983039417.\n",
            "[I 2020-10-03 17:42:50,444] Trial 44 finished with value: 0.015771311082994892 and parameters: {'w1': 0.2036488101830279, 'w2': 0.5477568493260931, 'w3': 0.4105476669474132, 'w4': 0.1998419559874532, 'w5': 0.8741906934715091, 'w6': 0.7840195068560095, 'w7': 0.6839338763868809, 'w8': 0.9985328434589601, 'w9': 0.8891815002512822, 'w10': 0.9722956801797709, 'w11': 0.941298761838497, 'w12': 0.5378440849961833, 'w13': 0.48985773757405693, 'w14': 0.2726401099313174, 'w15': 0.7493286711230716, 'w16': 0.3128659133156054, 'w17': 0.351000176902973, 'w18': 0.7113391564051675, 'w19': 0.6518706256664792, 'w20': 0.859771105897763, 'w21': 0.7749100733498296, 'w22': 0.05080545909521124}. Best is trial 11 with value: 0.015564095983039417.\n",
            "[I 2020-10-03 17:42:52,144] Trial 45 finished with value: 0.015999773680605695 and parameters: {'w1': 0.06347951476146688, 'w2': 0.031430796567887, 'w3': 0.5132209738784809, 'w4': 0.17314502052936145, 'w5': 0.48256793396918485, 'w6': 0.4197799786923203, 'w7': 0.7792285783426038, 'w8': 0.9101662406102432, 'w9': 0.7984888630073479, 'w10': 0.8358000214728113, 'w11': 0.7813073410771859, 'w12': 0.6544056808285782, 'w13': 0.6198399686957112, 'w14': 0.5363760156801293, 'w15': 0.81814290409001, 'w16': 0.08789880110991458, 'w17': 0.3155506381520953, 'w18': 0.9946320614005753, 'w19': 0.4992405575998782, 'w20': 0.05084241178588905, 'w21': 0.1841730676666807, 'w22': 0.8150750239545814}. Best is trial 11 with value: 0.015564095983039417.\n",
            "[I 2020-10-03 17:42:53,834] Trial 46 finished with value: 0.01560580183135611 and parameters: {'w1': 0.5978341323358713, 'w2': 0.7548540282285912, 'w3': 0.40954430369760475, 'w4': 0.31142061786045866, 'w5': 0.6924017091390566, 'w6': 0.6178420156863647, 'w7': 0.9005374714622486, 'w8': 0.8165035034305805, 'w9': 0.4920484047082522, 'w10': 0.7003575453661361, 'w11': 0.6281290052176287, 'w12': 0.8111747390686955, 'w13': 0.3312524547185413, 'w14': 0.6675109864438766, 'w15': 0.9469154028486382, 'w16': 0.1491980812300197, 'w17': 0.42991838617613964, 'w18': 0.7487124549108521, 'w19': 0.23352898552606347, 'w20': 0.963714625796734, 'w21': 0.283879437875453, 'w22': 0.05500114732879786}. Best is trial 11 with value: 0.015564095983039417.\n",
            "[I 2020-10-03 17:42:55,534] Trial 47 finished with value: 0.016049722131297857 and parameters: {'w1': 0.12401270392579561, 'w2': 0.682300096337147, 'w3': 0.5473542287478451, 'w4': 0.21682996768816687, 'w5': 0.9436773934028364, 'w6': 0.3373524478195276, 'w7': 0.37248642652269937, 'w8': 0.4099313087032988, 'w9': 0.6217324122654635, 'w10': 0.543826138105609, 'w11': 0.4932992367348974, 'w12': 0.35440691570870453, 'w13': 0.44758451238099045, 'w14': 0.49395357192979683, 'w15': 0.6786556555264908, 'w16': 0.20515468284474056, 'w17': 0.4911863230551358, 'w18': 0.6693181024007903, 'w19': 0.27349285148553426, 'w20': 0.9013845658747245, 'w21': 0.05713994102316815, 'w22': 0.9840312639537697}. Best is trial 11 with value: 0.015564095983039417.\n",
            "[I 2020-10-03 17:42:57,214] Trial 48 finished with value: 0.01557367725026169 and parameters: {'w1': 0.704390874373177, 'w2': 0.9998527428548531, 'w3': 0.3529286279298686, 'w4': 0.362053336615767, 'w5': 0.8990245418505063, 'w6': 0.5181256344300313, 'w7': 0.8002022919412036, 'w8': 0.2867979965006323, 'w9': 0.7234991934868865, 'w10': 0.7809333160386747, 'w11': 0.852854007456319, 'w12': 0.5592540014248781, 'w13': 0.27830572426215267, 'w14': 0.20346913962284688, 'w15': 0.9948885219127706, 'w16': 0.37871681615456704, 'w17': 0.20690403122495576, 'w18': 0.916093266705877, 'w19': 0.4087800984712473, 'w20': 0.6326845318611449, 'w21': 0.011457632583552521, 'w22': 0.197745177009515}. Best is trial 11 with value: 0.015564095983039417.\n",
            "[I 2020-10-03 17:42:58,912] Trial 49 finished with value: 0.016065756699444444 and parameters: {'w1': 0.18100556036660087, 'w2': 0.5791945201700699, 'w3': 0.4937569224223466, 'w4': 0.4803044368653924, 'w5': 0.02325589138143147, 'w6': 0.17867863249014526, 'w7': 0.6341810696604598, 'w8': 0.5668980956703153, 'w9': 0.5656328990243333, 'w10': 0.932723400645803, 'w11': 0.9987022255853243, 'w12': 0.7362817981392579, 'w13': 0.3519735010104952, 'w14': 0.1680593687545347, 'w15': 0.7777831466540014, 'w16': 0.47112505035083674, 'w17': 0.5365399006447005, 'w18': 0.5355940004789503, 'w19': 0.06782575060739386, 'w20': 0.6975099114343078, 'w21': 0.12516760748955438, 'w22': 0.9165940178341074}. Best is trial 11 with value: 0.015564095983039417.\n",
            "[I 2020-10-03 17:43:00,645] Trial 50 finished with value: 0.0156308000140602 and parameters: {'w1': 0.047474589380951754, 'w2': 0.7873731357389792, 'w3': 0.07807716515973462, 'w4': 0.054760228729473004, 'w5': 0.8495905912651472, 'w6': 0.4504989465374261, 'w7': 0.7196831434930708, 'w8': 0.687028711786638, 'w9': 0.7683785791298479, 'w10': 0.47544648039040666, 'w11': 0.9512075137317376, 'w12': 0.6192247356652175, 'w13': 0.4129557693316893, 'w14': 0.4225963304691417, 'w15': 0.9077116959677908, 'w16': 0.07515014382066877, 'w17': 0.5772583881866843, 'w18': 0.5957805382476592, 'w19': 0.5811243233361829, 'w20': 0.8263223274048834, 'w21': 0.3254870827140802, 'w22': 0.010592062288073287}. Best is trial 11 with value: 0.015564095983039417.\n",
            "[I 2020-10-03 17:43:02,334] Trial 51 finished with value: 0.015577402079055705 and parameters: {'w1': 0.09795880323025445, 'w2': 0.6113112532757193, 'w3': 0.6634125261317819, 'w4': 0.2879852476914472, 'w5': 0.7998261676957668, 'w6': 0.286497835278188, 'w7': 0.8315947869263682, 'w8': 0.639721618107713, 'w9': 0.6892571139184612, 'w10': 0.6475137565886118, 'w11': 0.861890217189153, 'w12': 0.7607489369680814, 'w13': 0.2046920829712428, 'w14': 0.38687973287092603, 'w15': 0.9643734267570778, 'w16': 0.013527137952199522, 'w17': 0.6503101414294832, 'w18': 0.27784842732505344, 'w19': 0.4466953875281685, 'w20': 0.7622210971937522, 'w21': 0.021291103700857048, 'w22': 0.1201353967859135}. Best is trial 11 with value: 0.015564095983039417.\n",
            "[I 2020-10-03 17:43:04,064] Trial 52 finished with value: 0.015578516022439913 and parameters: {'w1': 0.010362219854166521, 'w2': 0.6999155096470765, 'w3': 0.5862160433263468, 'w4': 0.13011446458129974, 'w5': 0.7461682569345415, 'w6': 0.34674311559149196, 'w7': 0.8517806825807341, 'w8': 0.7228099705036494, 'w9': 0.6399496705379186, 'w10': 0.6191141605659116, 'w11': 0.9071856941515726, 'w12': 0.6855627494007656, 'w13': 0.24483583809362636, 'w14': 0.35560358180089063, 'w15': 0.9996245297197612, 'w16': 0.14804350798987304, 'w17': 0.7279363517461548, 'w18': 0.4322764171871372, 'w19': 0.4720606682689919, 'w20': 0.7187210584077265, 'w21': 0.06392262882214306, 'w22': 0.05985463150059722}. Best is trial 11 with value: 0.015564095983039417.\n",
            "[I 2020-10-03 17:43:05,787] Trial 53 finished with value: 0.015562147425635602 and parameters: {'w1': 0.08027591356776181, 'w2': 0.6474255403650659, 'w3': 0.7305778932550587, 'w4': 0.23879874794399808, 'w5': 0.9676182137428692, 'w6': 0.2389617181166696, 'w7': 0.763009739271961, 'w8': 0.7746994979888591, 'w9': 0.7074303269308105, 'w10': 0.7097439309681782, 'w11': 0.7972207716259858, 'w12': 0.7244788700688843, 'w13': 0.12101210288452038, 'w14': 0.4819569661071176, 'w15': 0.8501998375893305, 'w16': 0.04421935421375711, 'w17': 0.46599424384375177, 'w18': 0.35271217191452886, 'w19': 0.5358631576899985, 'w20': 0.8928612351723166, 'w21': 0.017569801973645147, 'w22': 0.01186152880658454}. Best is trial 53 with value: 0.015562147425635602.\n",
            "[I 2020-10-03 17:43:07,496] Trial 54 finished with value: 0.015591137633564187 and parameters: {'w1': 0.16553185691574943, 'w2': 0.6622105096573029, 'w3': 0.7454811923756276, 'w4': 0.21539861680106362, 'w5': 0.9580339116093158, 'w6': 0.2246585439133815, 'w7': 0.7682348612322323, 'w8': 0.8597572543673779, 'w9': 0.8032825613657726, 'w10': 0.6988290363100629, 'w11': 0.7774196734009241, 'w12': 0.7384195389721792, 'w13': 0.10154053646280567, 'w14': 0.4834218852757777, 'w15': 0.8423810454290144, 'w16': 0.0561318593398399, 'w17': 0.39433581762122916, 'w18': 0.3326521535404884, 'w19': 0.15604593332249225, 'w20': 0.8867613218935164, 'w21': 0.1125466483489296, 'w22': 0.16100985315845842}. Best is trial 53 with value: 0.015562147425635602.\n",
            "[I 2020-10-03 17:43:09,220] Trial 55 finished with value: 0.015613876741486614 and parameters: {'w1': 0.24648801187144043, 'w2': 0.5628727669625371, 'w3': 0.41824319387476255, 'w4': 0.16502314288737527, 'w5': 0.9971042344725807, 'w6': 0.12082114674543476, 'w7': 0.5689054350365896, 'w8': 0.7872847999713385, 'w9': 0.7091819835040355, 'w10': 0.7553165542237472, 'w11': 0.8265415213023917, 'w12': 0.7828234906801884, 'w13': 0.013096038819289446, 'w14': 0.5646015132698983, 'w15': 0.71203573966632, 'w16': 0.26194266612585443, 'w17': 0.33877074121786377, 'w18': 0.6593506221430614, 'w19': 0.6479078229331654, 'w20': 0.9807042029051999, 'w21': 0.247468947068022, 'w22': 0.010858965134133708}. Best is trial 53 with value: 0.015562147425635602.\n",
            "[I 2020-10-03 17:43:11,040] Trial 56 finished with value: 0.015722907709141382 and parameters: {'w1': 0.22276916507077324, 'w2': 0.6409733870273608, 'w3': 0.3141983379077508, 'w4': 0.3594969950538697, 'w5': 0.9071647076053794, 'w6': 0.32680824814876336, 'w7': 0.6707284252023247, 'w8': 0.765290275844831, 'w9': 0.5895764320017582, 'w10': 0.8109141254088708, 'w11': 0.7359087043106466, 'w12': 0.6696434134272918, 'w13': 0.14014160763006855, 'w14': 0.07655986551996391, 'w15': 0.8585289741598011, 'w16': 0.6606258575113552, 'w17': 0.4523675664562056, 'w18': 0.36050118878646675, 'w19': 0.5324357367769301, 'w20': 0.8049532496202257, 'w21': 0.5684779398981079, 'w22': 0.049258320795127986}. Best is trial 53 with value: 0.015562147425635602.\n",
            "[I 2020-10-03 17:43:12,755] Trial 57 finished with value: 0.01557334039997103 and parameters: {'w1': 0.1260195734543235, 'w2': 0.839184829531778, 'w3': 0.5482679816578999, 'w4': 0.24522737487123858, 'w5': 0.9650832505681328, 'w6': 0.16019462012996388, 'w7': 0.9695944016666092, 'w8': 0.9506805927534262, 'w9': 0.7649952874838754, 'w10': 0.6799472877530844, 'w11': 0.795163874242557, 'w12': 0.8958187034050901, 'w13': 0.07817247558786508, 'w14': 0.33974446257611435, 'w15': 0.9303686525547652, 'w16': 0.10408212347500215, 'w17': 0.2916517132887424, 'w18': 0.24233347407424105, 'w19': 0.896209377463746, 'w20': 0.8450178112848764, 'w21': 0.0503733810440012, 'w22': 0.11282317609594955}. Best is trial 53 with value: 0.015562147425635602.\n",
            "[I 2020-10-03 17:43:14,483] Trial 58 finished with value: 0.015791406729245214 and parameters: {'w1': 0.0794541092150161, 'w2': 0.5186234680387463, 'w3': 0.24331915736916657, 'w4': 0.10585672663636388, 'w5': 0.8496647020020118, 'w6': 0.22243477704180886, 'w7': 0.7596482391974173, 'w8': 0.8965043875526121, 'w9': 0.9316692443391702, 'w10': 0.5774759504500648, 'w11': 0.11569953287422763, 'w12': 0.6092172586026969, 'w13': 0.30966623123024856, 'w14': 0.4193166505585459, 'w15': 0.8198054490842321, 'w16': 0.14575848843957345, 'w17': 0.40380271324911565, 'w18': 0.40464105260515365, 'w19': 0.33937775317596286, 'w20': 0.9440292400045657, 'w21': 0.17658186241154655, 'w22': 0.5078105578161719}. Best is trial 53 with value: 0.015562147425635602.\n",
            "[I 2020-10-03 17:43:16,196] Trial 59 finished with value: 0.01562294156559913 and parameters: {'w1': 0.2835564242664704, 'w2': 0.4598115779214877, 'w3': 0.7855943237427512, 'w4': 0.3147550432493127, 'w5': 0.2124853395425853, 'w6': 0.4339757666503834, 'w7': 0.6002473991669665, 'w8': 0.8288553879416347, 'w9': 0.8336836340757658, 'w10': 0.8645818857721186, 'w11': 0.654248439183075, 'w12': 0.822204411895344, 'w13': 0.9700394604313438, 'w14': 0.23758470662768605, 'w15': 0.622008822805542, 'w16': 0.5765040848892604, 'w17': 0.5928818318537638, 'w18': 0.7338230438668142, 'w19': 0.7133108553665126, 'w20': 0.780707261183606, 'w21': 0.016614469346872704, 'w22': 0.2668081081945247}. Best is trial 53 with value: 0.015562147425635602.\n",
            "[I 2020-10-03 17:43:17,895] Trial 60 finished with value: 0.01589516704838309 and parameters: {'w1': 0.0352183368929862, 'w2': 0.3877429406697515, 'w3': 0.608638026074246, 'w4': 0.524806689735348, 'w5': 0.999888202275079, 'w6': 0.08338179270643792, 'w7': 0.5215956964166222, 'w8': 0.7143681466845313, 'w9': 0.7350978118277637, 'w10': 0.7308197573902715, 'w11': 0.9123197063004309, 'w12': 0.5476997622406535, 'w13': 0.04456197337584041, 'w14': 0.15443684628679055, 'w15': 0.8906531763666473, 'w16': 0.18366924186982742, 'w17': 0.5316098601534144, 'w18': 0.506389332336582, 'w19': 0.07235930646124157, 'w20': 0.8907563559639048, 'w21': 0.13972362245532427, 'w22': 0.7318556864287342}. Best is trial 53 with value: 0.015562147425635602.\n",
            "[I 2020-10-03 17:43:19,590] Trial 61 finished with value: 0.015576639481908228 and parameters: {'w1': 0.08950586238471572, 'w2': 0.7078787489702183, 'w3': 0.7264565233428454, 'w4': 0.44263291223126167, 'w5': 0.9335341790099367, 'w6': 0.2932372006191581, 'w7': 0.8861329750592151, 'w8': 0.03578274933782766, 'w9': 0.6911937963924085, 'w10': 0.6333090432810083, 'w11': 0.8522517669386155, 'w12': 0.6944112551196647, 'w13': 0.20526741234314283, 'w14': 0.29147987479228615, 'w15': 0.9564742733108437, 'w16': 0.03935832558866745, 'w17': 0.8216409982854884, 'w18': 0.8110055120598766, 'w19': 0.41570924228419426, 'w20': 0.7404703594063391, 'w21': 0.015379838579134822, 'w22': 0.07569195600766143}. Best is trial 53 with value: 0.015562147425635602.\n",
            "[I 2020-10-03 17:43:21,353] Trial 62 finished with value: 0.015576919319681116 and parameters: {'w1': 0.13740315033242811, 'w2': 0.5832116178110607, 'w3': 0.6569255500114142, 'w4': 0.2730753893552852, 'w5': 0.5530860265164665, 'w6': 0.24601373095319223, 'w7': 0.8241705492848717, 'w8': 0.5219572314694834, 'w9': 0.6655654212457711, 'w10': 0.5158074232306458, 'w11': 0.7116316570618106, 'w12': 0.7175603604420341, 'w13': 0.15224725798128888, 'w14': 0.4755991422245692, 'w15': 0.9630102687507296, 'w16': 0.013528006921667623, 'w17': 0.6805683637985117, 'w18': 0.4714349039675141, 'w19': 0.19694488187905287, 'w20': 0.6350725252891938, 'w21': 0.08717740829566784, 'w22': 0.037313353422891146}. Best is trial 53 with value: 0.015562147425635602.\n",
            "[I 2020-10-03 17:43:23,125] Trial 63 finished with value: 0.015563472054420872 and parameters: {'w1': 0.19053806991639388, 'w2': 0.7720232178187862, 'w3': 0.38596867496530657, 'w4': 0.1923541565983667, 'w5': 0.9743414371413825, 'w6': 0.1948772273837478, 'w7': 0.9393290550074388, 'w8': 0.5875879268728466, 'w9': 0.6322432317162375, 'w10': 0.4618931758356527, 'w11': 0.9596355885740036, 'w12': 0.6467171422794036, 'w13': 0.23778904851575974, 'w14': 0.41661299293086856, 'w15': 0.766682845261567, 'w16': 0.08140635088850728, 'w17': 0.46907136988321335, 'w18': 0.45124057535614653, 'w19': 0.5536585427248693, 'w20': 0.7166589142473777, 'w21': 0.04709987147651831, 'w22': 0.012343890087841675}. Best is trial 53 with value: 0.015562147425635602.\n",
            "[I 2020-10-03 17:43:24,895] Trial 64 finished with value: 0.015560690340245074 and parameters: {'w1': 0.17679122776619208, 'w2': 0.7904765907293798, 'w3': 0.37837813674012055, 'w4': 0.9235189939280618, 'w5': 0.9816571804175301, 'w6': 0.19446106909603922, 'w7': 0.9286922531959613, 'w8': 0.5766373494097808, 'w9': 0.5350072472319124, 'w10': 0.4655418984736591, 'w11': 0.9797453418820528, 'w12': 0.6408771978616722, 'w13': 0.2733371728947047, 'w14': 0.4248626440971952, 'w15': 0.7333925323515468, 'w16': 0.12606659191518121, 'w17': 0.4788716915618692, 'w18': 0.5636449962077112, 'w19': 0.6042764904252818, 'w20': 0.5929112202957054, 'w21': 0.044401744505392374, 'w22': 0.013173894047520951}. Best is trial 64 with value: 0.015560690340245074.\n",
            "[I 2020-10-03 17:43:26,710] Trial 65 finished with value: 0.015567188571804813 and parameters: {'w1': 0.18740129876048067, 'w2': 0.9159726525738776, 'w3': 0.3876498189873743, 'w4': 0.825723872070939, 'w5': 0.9732130021838055, 'w6': 0.19049763212325124, 'w7': 0.9335069413211805, 'w8': 0.5967440713131394, 'w9': 0.535661268796967, 'w10': 0.45810634218966895, 'w11': 0.9716467890656071, 'w12': 0.647491753792965, 'w13': 0.11995622929077607, 'w14': 0.9826530198429007, 'w15': 0.7667590966791668, 'w16': 0.13242914068304362, 'w17': 0.4987972269030534, 'w18': 0.5528084897989416, 'w19': 0.6693494800160373, 'w20': 0.6651817379856124, 'w21': 0.051093290109966404, 'w22': 0.022000529071203423}. Best is trial 64 with value: 0.015560690340245074.\n",
            "[I 2020-10-03 17:43:28,512] Trial 66 finished with value: 0.015567003642029802 and parameters: {'w1': 0.32608041631864293, 'w2': 0.896093318161356, 'w3': 0.3296431932110462, 'w4': 0.9685644465599428, 'w5': 0.9851279175516501, 'w6': 0.1851356104742927, 'w7': 0.9294701200708677, 'w8': 0.5713182696733107, 'w9': 0.524372261655883, 'w10': 0.36972501384465006, 'w11': 0.9730804249405638, 'w12': 0.6377733425753612, 'w13': 0.12852641523549618, 'w14': 0.8769635974445589, 'w15': 0.7499539382533666, 'w16': 0.12854513790914984, 'w17': 0.5037432805104496, 'w18': 0.5681245374296576, 'w19': 0.6709177577350403, 'w20': 0.5232954142988926, 'w21': 0.1022311921942932, 'w22': 0.013713955210199821}. Best is trial 64 with value: 0.015560690340245074.\n",
            "[I 2020-10-03 17:43:30,321] Trial 67 finished with value: 0.015568430630773619 and parameters: {'w1': 0.333358684941599, 'w2': 0.9648147831374572, 'w3': 0.32888505012970304, 'w4': 0.9503723318567807, 'w5': 0.981105983554459, 'w6': 0.1405559259210955, 'w7': 0.9290914227090933, 'w8': 0.5819444240021194, 'w9': 0.5382202721852413, 'w10': 0.3664470737195816, 'w11': 0.9709417567960877, 'w12': 0.6362784831993256, 'w13': 0.11125621045275746, 'w14': 0.9300328966423315, 'w15': 0.6807195853962406, 'w16': 0.13328527149186453, 'w17': 0.5005498113643149, 'w18': 0.5671881125277282, 'w19': 0.7489533586081275, 'w20': 0.5411429397593459, 'w21': 0.1077399830953754, 'w22': 0.017847592120510215}. Best is trial 64 with value: 0.015560690340245074.\n",
            "[I 2020-10-03 17:43:32,125] Trial 68 finished with value: 0.015569891298266409 and parameters: {'w1': 0.2596653220235906, 'w2': 0.8694972244737393, 'w3': 0.37897982028110727, 'w4': 0.8687006862444792, 'w5': 0.3785153597481804, 'w6': 0.18739588639943008, 'w7': 0.9739970876518783, 'w8': 0.512622670194522, 'w9': 0.4089466275127971, 'w10': 0.45174560929963264, 'w11': 0.9995929362223829, 'w12': 0.47122183681872676, 'w13': 0.04626097243193897, 'w14': 0.9692698811252488, 'w15': 0.752131590787496, 'w16': 0.07478779150617401, 'w17': 0.6151656865136585, 'w18': 0.5268351971598451, 'w19': 0.674025438841826, 'w20': 0.5850781823313911, 'w21': 0.04394744134930681, 'w22': 0.011647939581780842}. Best is trial 64 with value: 0.015560690340245074.\n",
            "[I 2020-10-03 17:43:33,885] Trial 69 finished with value: 0.015604162366924659 and parameters: {'w1': 0.3910082581826502, 'w2': 0.9118704710681855, 'w3': 0.26371372804553056, 'w4': 0.9308956229967438, 'w5': 0.9991025631021828, 'w6': 0.029632315411585897, 'w7': 0.9298499408169744, 'w8': 0.585990859354979, 'w9': 0.4814781116894282, 'w10': 0.3779898201966554, 'w11': 0.9664134649762892, 'w12': 0.5879902106866316, 'w13': 0.12419102123071424, 'w14': 0.7803178380125264, 'w15': 0.5906729087974741, 'w16': 0.18774328252731276, 'w17': 0.5592367665110282, 'w18': 0.6258680656010261, 'w19': 0.6007118485168903, 'w20': 0.46734570474303716, 'w21': 0.1695098595035645, 'w22': 0.14708907838954968}. Best is trial 64 with value: 0.015560690340245074.\n",
            "[I 2020-10-03 17:43:35,621] Trial 70 finished with value: 0.015578513447067312 and parameters: {'w1': 0.3150702613743482, 'w2': 0.9342829857270294, 'w3': 0.42972500401236435, 'w4': 0.8316220594605641, 'w5': 0.966703458430012, 'w6': 0.07015809837684522, 'w7': 0.992677514426749, 'w8': 0.4350525993236024, 'w9': 0.30173169999164906, 'w10': 0.3303607252466547, 'w11': 0.9404940877658734, 'w12': 0.6503522120401368, 'w13': 0.17414259003338256, 'w14': 0.854910803716156, 'w15': 0.5441806893291062, 'w16': 0.0463883659620406, 'w17': 0.4716628944374913, 'w18': 0.45582692887004694, 'w19': 0.6792423655534005, 'w20': 0.39976542733794773, 'w21': 0.08861984827656276, 'w22': 0.09938698228654408}. Best is trial 64 with value: 0.015560690340245074.\n",
            "[I 2020-10-03 17:43:37,360] Trial 71 finished with value: 0.015568783399111854 and parameters: {'w1': 0.3683964738427919, 'w2': 0.9712673242901362, 'w3': 0.3335107349047324, 'w4': 0.9996521486844988, 'w5': 0.979816561643096, 'w6': 0.13793767644828098, 'w7': 0.9318071889754902, 'w8': 0.5797437638420843, 'w9': 0.5198288056154897, 'w10': 0.39640297110472, 'w11': 0.9686667645178763, 'w12': 0.6419385332952909, 'w13': 0.10591289495850453, 'w14': 0.9905356763214649, 'w15': 0.6926679252413329, 'w16': 0.23725392709276028, 'w17': 0.518044193263881, 'w18': 0.5955775765060493, 'w19': 0.7415475277065098, 'w20': 0.5214022520833435, 'w21': 0.10932280423348613, 'w22': 0.010579236877665234}. Best is trial 64 with value: 0.015560690340245074.\n",
            "[I 2020-10-03 17:43:39,162] Trial 72 finished with value: 0.015579470690047061 and parameters: {'w1': 0.32976594574980367, 'w2': 0.9671938363566288, 'w3': 0.20034880748250447, 'w4': 0.9572497619809021, 'w5': 0.8879746752924553, 'w6': 0.15586683579251986, 'w7': 0.9162903445356259, 'w8': 0.6230630135049517, 'w9': 0.5203965068185602, 'w10': 0.45901455243273187, 'w11': 0.9933563477573221, 'w12': 0.7597829010709671, 'w13': 0.061849867082169996, 'w14': 0.9131647744778935, 'w15': 0.7754852882165646, 'w16': 0.13587535407521747, 'w17': 0.5016937690669839, 'w18': 0.5643455700025759, 'w19': 0.7890642836398661, 'w20': 0.5680336515265856, 'w21': 0.1344237292101404, 'w22': 0.03473951964429833}. Best is trial 64 with value: 0.015560690340245074.\n",
            "[I 2020-10-03 17:43:40,971] Trial 73 finished with value: 0.015560050071309993 and parameters: {'w1': 0.2780245942013013, 'w2': 0.8935294636781025, 'w3': 0.371466553256221, 'w4': 0.9047397588662697, 'w5': 0.9964588492546262, 'w6': 0.10380165358788955, 'w7': 0.8775981011568343, 'w8': 0.5393875996053326, 'w9': 0.5516394103818111, 'w10': 0.277427216243286, 'w11': 0.9194627562328788, 'w12': 0.515932178348579, 'w13': 0.1207426973701326, 'w14': 0.9203724926628403, 'w15': 0.7277844498385174, 'w16': 0.08202943291480697, 'w17': 0.49254172441554966, 'w18': 0.5507245067630219, 'w19': 0.6184777257864641, 'w20': 0.6012805979339457, 'w21': 0.0396903430001033, 'w22': 0.011149640842451028}. Best is trial 73 with value: 0.015560050071309993.\n",
            "[I 2020-10-03 17:43:42,785] Trial 74 finished with value: 0.015561617698590019 and parameters: {'w1': 0.19712746609049736, 'w2': 0.8351164028041493, 'w3': 0.37155163711999, 'w4': 0.8867843409150724, 'w5': 0.9058978725811277, 'w6': 0.1001819156644984, 'w7': 0.8760907798186816, 'w8': 0.4743428589959164, 'w9': 0.4190423163782516, 'w10': 0.1811044064089069, 'w11': 0.8985395855872782, 'w12': 0.515451102242871, 'w13': 0.022035152622269273, 'w14': 0.8169296613681931, 'w15': 0.736525471019539, 'w16': 0.10350094830380492, 'w17': 0.5606184449563548, 'w18': 0.511714069099341, 'w19': 0.5418450070740045, 'w20': 0.6077918373289214, 'w21': 0.04267548656668757, 'w22': 0.010160443493980148}. Best is trial 73 with value: 0.015560050071309993.\n",
            "[I 2020-10-03 17:43:44,577] Trial 75 finished with value: 0.015577134749133746 and parameters: {'w1': 0.19467420671627583, 'w2': 0.835481579903286, 'w3': 0.28747682474172287, 'w4': 0.9045274026554949, 'w5': 0.9129396285171163, 'w6': 0.1034751064510445, 'w7': 0.8781549188933159, 'w8': 0.36531843228311056, 'w9': 0.4297149537588119, 'w10': 0.19374296591359869, 'w11': 0.891866997393385, 'w12': 0.3941986046400693, 'w13': 0.034194940453688726, 'w14': 0.8407142799593178, 'w15': 0.728120375104211, 'w16': 0.07107577877876384, 'w17': 0.5568391343933612, 'w18': 0.5459146106323357, 'w19': 0.5384615756439953, 'w20': 0.5879899612243126, 'w21': 0.050380209051880426, 'w22': 0.10083493593400758}. Best is trial 73 with value: 0.015560050071309993.\n",
            "[I 2020-10-03 17:43:46,349] Trial 76 finished with value: 0.015560248108370948 and parameters: {'w1': 0.2695639224996246, 'w2': 0.7775559247753677, 'w3': 0.3812497300581239, 'w4': 0.7848856696862374, 'w5': 0.9563969062180442, 'w6': 0.2323528915011509, 'w7': 0.9592576879320782, 'w8': 0.4760268829626497, 'w9': 0.5859518406803299, 'w10': 0.10412419213196326, 'w11': 0.9310015902804148, 'w12': 0.514048401738332, 'w13': 0.010998826470714235, 'w14': 0.8136084719868124, 'w15': 0.6326709555026528, 'w16': 0.08744563013203895, 'w17': 0.5975991511561719, 'w18': 0.5184082292057547, 'w19': 0.6168591889703524, 'w20': 0.6025912099574074, 'w21': 0.04479235459800252, 'w22': 0.04691852329216651}. Best is trial 73 with value: 0.015560050071309993.\n",
            "[I 2020-10-03 17:43:48,047] Trial 77 finished with value: 0.01556644905279253 and parameters: {'w1': 0.27308605279913445, 'w2': 0.7861729784086118, 'w3': 0.3857912330581514, 'w4': 0.6994545344794758, 'w5': 0.8679971730858431, 'w6': 0.23436077746677192, 'w7': 0.9534793347654908, 'w8': 0.4710249521304317, 'w9': 0.5995036302821837, 'w10': 0.13100401032682787, 'w11': 0.925813617527472, 'w12': 0.27773328383275764, 'w13': 0.08011012141645235, 'w14': 0.8239143647876945, 'w15': 0.6470069807984412, 'w16': 0.08287179709907318, 'w17': 0.6549526027355907, 'w18': 0.4931541779840809, 'w19': 0.6253235259769302, 'w20': 0.4944047944186951, 'w21': 0.08125163461184812, 'w22': 0.05922707200510258}. Best is trial 73 with value: 0.015560050071309993.\n",
            "[I 2020-10-03 17:43:49,768] Trial 78 finished with value: 0.015577064863194415 and parameters: {'w1': 0.27766880691407975, 'w2': 0.8768605259553544, 'w3': 0.44175330912277394, 'w4': 0.7260139155884789, 'w5': 0.8742914983472798, 'w6': 0.22109656640694764, 'w7': 0.959970980021512, 'w8': 0.46935409560516217, 'w9': 0.6027953198400486, 'w10': 0.03350189709333756, 'w11': 0.9225365426208448, 'w12': 0.17432012269033614, 'w13': 0.022393024893251835, 'w14': 0.8082862896530292, 'w15': 0.6457027206771939, 'w16': 0.09119344928497353, 'w17': 0.728204480679987, 'w18': 0.49132434717471996, 'w19': 0.6154517367449963, 'w20': 0.4283458465039647, 'w21': 0.0849609847690426, 'w22': 0.14198258394732516}. Best is trial 73 with value: 0.015560050071309993.\n",
            "[I 2020-10-03 17:43:51,485] Trial 79 finished with value: 0.015615973831911394 and parameters: {'w1': 0.2229133340922189, 'w2': 0.8007094939571553, 'w3': 0.3833249826131582, 'w4': 0.6466676697357229, 'w5': 0.8191897372100856, 'w6': 0.010817506721038317, 'w7': 0.9660659812391152, 'w8': 0.43981241028412343, 'w9': 0.5806582377838073, 'w10': 0.11080895243250191, 'w11': 0.8850587562660847, 'w12': 0.286227253727645, 'w13': 0.01388955934037314, 'w14': 0.687566077536538, 'w15': 0.6514987975555069, 'w16': 0.05175639365176223, 'w17': 0.6448581961302281, 'w18': 0.5090100040479317, 'w19': 0.5481517251883194, 'w20': 0.49349441143010353, 'w21': 0.15478779447106583, 'w22': 0.1723932356063816}. Best is trial 73 with value: 0.015560050071309993.\n",
            "[I 2020-10-03 17:43:53,236] Trial 80 finished with value: 0.01556392327297946 and parameters: {'w1': 0.9480977166119055, 'w2': 0.7707745585999481, 'w3': 0.36564538323445117, 'w4': 0.7702998811764182, 'w5': 0.8556504963599886, 'w6': 0.05876423224139016, 'w7': 0.4707099260736841, 'w8': 0.36246222078170054, 'w9': 0.47322465860419594, 'w10': 0.10341109167610209, 'w11': 0.918816232052225, 'w12': 0.5115306665329344, 'w13': 0.08393108815451476, 'w14': 0.7400946086357953, 'w15': 0.6086180174784998, 'w16': 0.010595265547732872, 'w17': 0.6001794924942252, 'w18': 0.4055064779243017, 'w19': 0.6295055870545799, 'w20': 0.5510304729515552, 'w21': 0.037966078536860265, 'w22': 0.07782891734353108}. Best is trial 73 with value: 0.015560050071309993.\n",
            "[I 2020-10-03 17:43:54,953] Trial 81 finished with value: 0.015579326701132113 and parameters: {'w1': 0.22508108033086843, 'w2': 0.7767883314106887, 'w3': 0.3674813573824775, 'w4': 0.7855778224514913, 'w5': 0.8475475146571736, 'w6': 0.04767655319832788, 'w7': 0.3980969640836358, 'w8': 0.34280044865890535, 'w9': 0.4673641657024979, 'w10': 0.11351030547885786, 'w11': 0.9379502944557488, 'w12': 0.4230395031131839, 'w13': 0.07775167565279892, 'w14': 0.7486829477141452, 'w15': 0.6178883362365216, 'w16': 0.027586986252722483, 'w17': 0.6132355939775651, 'w18': 0.4053253897020618, 'w19': 0.5871491972734857, 'w20': 0.6124593724521574, 'w21': 0.035390609913191706, 'w22': 0.07474603298399664}. Best is trial 73 with value: 0.015560050071309993.\n",
            "[I 2020-10-03 17:43:56,690] Trial 82 finished with value: 0.015572670021350356 and parameters: {'w1': 0.9236543768640261, 'w2': 0.8290132818771492, 'w3': 0.27820708171507613, 'w4': 0.7285221016344795, 'w5': 0.898680340750013, 'w6': 0.0899628202597901, 'w7': 0.27374107352537935, 'w8': 0.39953102548916275, 'w9': 0.3195876894827899, 'w10': 0.17998994258406326, 'w11': 0.8971385226162817, 'w12': 0.5074358106139629, 'w13': 0.05947337680159171, 'w14': 0.8148126644691264, 'w15': 0.704286257395152, 'w16': 0.06766211604277167, 'w17': 0.5892442004295295, 'w18': 0.46672608135104576, 'w19': 0.6244529120304863, 'w20': 0.6065751770332284, 'w21': 0.07562116549340561, 'w22': 0.04454209622569432}. Best is trial 73 with value: 0.015560050071309993.\n",
            "[I 2020-10-03 17:43:58,433] Trial 83 finished with value: 0.015572839183398567 and parameters: {'w1': 0.27611536568036704, 'w2': 0.7668712366261816, 'w3': 0.39086197162949154, 'w4': 0.8831712525021987, 'w5': 0.944661354140417, 'w6': 0.12316319700602193, 'w7': 0.4979362891312335, 'w8': 0.4481533496461193, 'w9': 0.3855282550014417, 'w10': 0.09705972548223224, 'w11': 0.8305047646326884, 'w12': 0.45653104825164026, 'w13': 0.09182325093756022, 'w14': 0.7128595177813389, 'w15': 0.5243726330302304, 'w16': 0.09390092229952982, 'w17': 0.665895538503642, 'w18': 0.4388042356009175, 'w19': 0.5662102182561926, 'w20': 0.5445017893148796, 'w21': 0.03901418767768619, 'w22': 0.08803496132617397}. Best is trial 73 with value: 0.015560050071309993.\n",
            "[I 2020-10-03 17:44:00,175] Trial 84 finished with value: 0.015559744485093518 and parameters: {'w1': 0.8090446586534749, 'w2': 0.7225905458163064, 'w3': 0.34739070624712254, 'w4': 0.7600665494766987, 'w5': 0.8689283390251001, 'w6': 0.06230787579899127, 'w7': 0.8907421406552072, 'w8': 0.49532465622905647, 'w9': 0.4963596310352751, 'w10': 0.21666328597234707, 'w11': 0.9284859617559995, 'w12': 0.01702486546213483, 'w13': 0.01233427957903091, 'w14': 0.9136609912465896, 'w15': 0.46923716444416597, 'w16': 0.04087762948747756, 'w17': 0.6914681592501377, 'w18': 0.5115108123986175, 'w19': 0.6340430385436843, 'w20': 0.6496191975326291, 'w21': 0.010100746256440106, 'w22': 0.11086408439594289}. Best is trial 84 with value: 0.015559744485093518.\n",
            "[I 2020-10-03 17:44:01,911] Trial 85 finished with value: 0.01555765243971288 and parameters: {'w1': 0.9952885656863197, 'w2': 0.7290245278776339, 'w3': 0.34886526700054143, 'w4': 0.7583988612346039, 'w5': 0.922202882629909, 'w6': 0.0511315895501718, 'w7': 0.45922685835561283, 'w8': 0.49290172407941, 'w9': 0.493679847380752, 'w10': 0.23935262657704137, 'w11': 0.45253999465107436, 'w12': 0.02471165261782194, 'w13': 0.011734574984444829, 'w14': 0.9156713148659222, 'w15': 0.47188099334258826, 'w16': 0.010591508639233763, 'w17': 0.5518848633627312, 'w18': 0.5189661717966703, 'w19': 0.5152336999070964, 'w20': 0.6991597850287208, 'w21': 0.012604824969614382, 'w22': 0.11070051913393789}. Best is trial 85 with value: 0.01555765243971288.\n",
            "[I 2020-10-03 17:44:03,663] Trial 86 finished with value: 0.01586188265687115 and parameters: {'w1': 0.9864673978568406, 'w2': 0.7291544973482832, 'w3': 0.25282344414047936, 'w4': 0.7615336914854638, 'w5': 0.9137128529519818, 'w6': 0.04402476905403275, 'w7': 0.42924943406417865, 'w8': 0.533599225749985, 'w9': 0.48910216794057, 'w10': 0.2614747840172172, 'w11': 0.48389113404803274, 'w12': 0.05190324810103168, 'w13': 0.012929060337218343, 'w14': 0.9180571887345008, 'w15': 0.45386933004558316, 'w16': 0.034478030750143884, 'w17': 0.4481974893496009, 'w18': 0.5260956908320049, 'w19': 0.51607357204068, 'w20': 0.6532808171038609, 'w21': 0.7069900726309832, 'w22': 0.103552257802947}. Best is trial 85 with value: 0.01555765243971288.\n",
            "[I 2020-10-03 17:44:05,379] Trial 87 finished with value: 0.015561738944117236 and parameters: {'w1': 0.8703106752895287, 'w2': 0.7249782949306148, 'w3': 0.35054475986926303, 'w4': 0.8339526704476607, 'w5': 0.9471241475075155, 'w6': 0.0588773453259439, 'w7': 0.8776086859704547, 'w8': 0.4912833701387338, 'w9': 0.45543168847581394, 'w10': 0.24028932982841145, 'w11': 0.4287526710516907, 'w12': 0.08848700273924559, 'w13': 0.18213440423557137, 'w14': 0.8879953345806375, 'w15': 0.4751589800124743, 'w16': 0.1723644103185088, 'w17': 0.6967797985190426, 'w18': 0.45132154367750554, 'w19': 0.562912704546305, 'w20': 0.7002322520470914, 'w21': 0.014862671658914452, 'w22': 0.13444792663485328}. Best is trial 85 with value: 0.01555765243971288.\n",
            "[I 2020-10-03 17:44:07,105] Trial 88 finished with value: 0.01557869628301361 and parameters: {'w1': 0.8506318958004464, 'w2': 0.7221330963593297, 'w3': 0.2106893617973243, 'w4': 0.8229564000193451, 'w5': 0.9491549870324997, 'w6': 0.014507292563470983, 'w7': 0.8754537649761627, 'w8': 0.4945903244390483, 'w9': 0.43931852379836844, 'w10': 0.23730484770564997, 'w11': 0.42800525644206816, 'w12': 0.01399357701045555, 'w13': 0.17400421950208128, 'w14': 0.9470966536565809, 'w15': 0.46474176949176704, 'w16': 0.162086414588913, 'w17': 0.7013038569442904, 'w18': 0.6034709163372335, 'w19': 0.48123430019674307, 'w20': 0.7017926433749077, 'w21': 0.012958985796129103, 'w22': 0.20189134922103577}. Best is trial 85 with value: 0.01555765243971288.\n",
            "[I 2020-10-03 17:44:08,827] Trial 89 finished with value: 0.015571702805012199 and parameters: {'w1': 0.6901045167983701, 'w2': 0.816137291808756, 'w3': 0.99042851873476, 'w4': 0.8517632678175084, 'w5': 0.9280788716893014, 'w6': 0.09658188989865445, 'w7': 0.8965908914620544, 'w8': 0.48710435666863944, 'w9': 0.4241829993316311, 'w10': 0.30377388052683374, 'w11': 0.4377794664207033, 'w12': 0.11648532948439388, 'w13': 0.769666489568968, 'w14': 0.9001881345830606, 'w15': 0.420568397492502, 'w16': 0.17947937883998635, 'w17': 0.5619464001684766, 'w18': 0.510272477098107, 'w19': 0.5571466689464036, 'w20': 0.686168557796099, 'w21': 0.0632101818711645, 'w22': 0.1443185061312235}. Best is trial 85 with value: 0.01555765243971288.\n",
            "[I 2020-10-03 17:44:10,608] Trial 90 finished with value: 0.015750122517049468 and parameters: {'w1': 0.8471973960248713, 'w2': 0.6600235486714751, 'w3': 0.3472732962395389, 'w4': 0.6110306619539022, 'w5': 0.8231168311053672, 'w6': 0.11783920786540707, 'w7': 0.8391217792618844, 'w8': 0.5471817393539338, 'w9': 0.5506464086280725, 'w10': 0.1626579736642705, 'w11': 0.5493447070608527, 'w12': 0.036295915367873535, 'w13': 0.15240629153371246, 'w14': 0.8772667976225785, 'w15': 0.37327529671182513, 'w16': 0.11321782869120084, 'w17': 0.7444936481430853, 'w18': 0.3764442047966349, 'w19': 0.6973482519012977, 'w20': 0.6413525316374673, 'w21': 0.44853257206780184, 'w22': 0.22294851718150815}. Best is trial 85 with value: 0.01555765243971288.\n",
            "[I 2020-10-03 17:44:12,354] Trial 91 finished with value: 0.015571905375395857 and parameters: {'w1': 0.9238424698213699, 'w2': 0.7488544337476626, 'w3': 0.43725478929826295, 'w4': 0.787504120419609, 'w5': 0.8812295062288065, 'w6': 0.06542562885011279, 'w7': 0.4796674821858672, 'w8': 0.23693216818344628, 'w9': 0.46239778435361645, 'w10': 0.21193931661668713, 'w11': 0.36595532011220894, 'w12': 0.5211086730409938, 'w13': 0.22976566936285003, 'w14': 0.7904513950468958, 'w15': 0.4816807785710915, 'w16': 0.012379250954541184, 'w17': 0.6273380394101373, 'w18': 0.418684749505738, 'w19': 0.596422217443298, 'w20': 0.6012217106184056, 'w21': 0.03389719012432705, 'w22': 0.12596547628580984}. Best is trial 85 with value: 0.01555765243971288.\n",
            "[I 2020-10-03 17:44:14,122] Trial 92 finished with value: 0.015617089874799912 and parameters: {'w1': 0.9476907140790047, 'w2': 0.8518114604259817, 'w3': 0.35822840044397547, 'w4': 0.7605677896035535, 'w5': 0.8972707518675205, 'w6': 0.03033580277342534, 'w7': 0.47429739877026256, 'w8': 0.41739328505312717, 'w9': 0.501174166702223, 'w10': 0.07044699991587361, 'w11': 0.3973895540322739, 'w12': 0.5736178585220797, 'w13': 0.05591509911468112, 'w14': 0.9616956261130076, 'w15': 0.33430267038985684, 'w16': 0.058848129295446694, 'w17': 0.5466162686016731, 'w18': 0.445443093904789, 'w19': 0.6350086682962159, 'w20': 0.5680478325696007, 'w21': 0.012334852587088494, 'w22': 0.33937539038264647}. Best is trial 85 with value: 0.01555765243971288.\n",
            "[I 2020-10-03 17:44:15,833] Trial 93 finished with value: 0.01556758669417249 and parameters: {'w1': 0.7836055836126637, 'w2': 0.7213168900656527, 'w3': 0.30069650042042234, 'w4': 0.9052648439556903, 'w5': 0.8563960697536521, 'w6': 0.059707607534195364, 'w7': 0.7919680328168351, 'w8': 0.5051093129090272, 'w9': 0.4089917629844763, 'w10': 0.15018912700034087, 'w11': 0.4524902252984285, 'w12': 0.11888670325023873, 'w13': 0.1412430683144799, 'w14': 0.8533270309819382, 'w15': 0.5049790658051044, 'w16': 0.03789153868899446, 'w17': 0.7055500593065419, 'w18': 0.30205017344190277, 'w19': 0.49191045145012813, 'w20': 0.7088524569977355, 'w21': 0.010658565727408703, 'w22': 0.16899450495900442}. Best is trial 85 with value: 0.01555765243971288.\n",
            "[I 2020-10-03 17:44:17,558] Trial 94 finished with value: 0.015573122401690283 and parameters: {'w1': 0.8752493535395406, 'w2': 0.8106701266818771, 'w3': 0.31587083991712284, 'w4': 0.8038807059974059, 'w5': 0.9445210311288318, 'w6': 0.14691580905300783, 'w7': 0.40953134143690484, 'w8': 0.3817149983741157, 'w9': 0.3427410946193611, 'w10': 0.2326525233293211, 'w11': 0.5244174499258033, 'w12': 0.09089545234145019, 'w13': 0.18502786673313815, 'w14': 0.9380158791100429, 'w15': 0.5837050309805953, 'w16': 0.11435373629418466, 'w17': 0.5811389898324362, 'w18': 0.584046243597247, 'w19': 0.518500878217026, 'w20': 0.6530443182493672, 'w21': 0.12609579886221312, 'w22': 0.038174220925148265}. Best is trial 85 with value: 0.01555765243971288.\n",
            "[I 2020-10-03 17:44:19,248] Trial 95 finished with value: 0.015562893545923669 and parameters: {'w1': 0.9912250680914793, 'w2': 0.7741393369696167, 'w3': 0.39910800703590293, 'w4': 0.7655957143263147, 'w5': 0.9651592632763535, 'w6': 0.07421407467199248, 'w7': 0.9920144064554693, 'w8': 0.5203222007578601, 'w9': 0.4771528136679786, 'w10': 0.2886134221361933, 'w11': 0.3659155841637118, 'w12': 0.4910037888966861, 'w13': 0.0955666312098313, 'w14': 0.8923682631200742, 'w15': 0.5522274403847479, 'w16': 0.09335760673349956, 'w17': 0.4772917191213473, 'w18': 0.46613645596692593, 'w19': 0.5580585950249275, 'w20': 0.7554235635721449, 'w21': 0.07119738619249658, 'w22': 0.10843027767954681}. Best is trial 85 with value: 0.01555765243971288.\n",
            "[I 2020-10-03 17:44:20,940] Trial 96 finished with value: 0.015563984052259837 and parameters: {'w1': 0.8047627042671962, 'w2': 0.6885161884409288, 'w3': 0.45669871290878417, 'w4': 0.6526368710056618, 'w5': 0.9659531081248162, 'w6': 0.2009830130953944, 'w7': 0.9940936869402287, 'w8': 0.5271823890453057, 'w9': 0.6245756223849721, 'w10': 0.28919697022254504, 'w11': 0.32240472114900753, 'w12': 0.38193884627846425, 'w13': 0.23241058902555087, 'w14': 0.8976917526525924, 'w15': 0.43010409511526115, 'w16': 0.23675715225920618, 'w17': 0.38034679410590205, 'w18': 0.4538152097271262, 'w19': 0.5741886440890183, 'w20': 0.7312673006278555, 'w21': 0.06924873904160085, 'w22': 0.11330646375852658}. Best is trial 85 with value: 0.01555765243971288.\n",
            "[I 2020-10-03 17:44:22,644] Trial 97 finished with value: 0.015551792607982149 and parameters: {'w1': 0.9925613193552234, 'w2': 0.7450500739209849, 'w3': 0.40803447933272996, 'w4': 0.9202256337416621, 'w5': 0.9956010568220777, 'w6': 0.16385941155746103, 'w7': 0.9109819117195305, 'w8': 0.5564600516909524, 'w9': 0.5707798254484899, 'w10': 0.26602427783473753, 'w11': 0.23518560691846307, 'w12': 0.02747831354182012, 'w13': 0.026218250029982022, 'w14': 0.8673262879335565, 'w15': 0.5358832728284434, 'w16': 0.1597816441906385, 'w17': 0.44240401021137754, 'w18': 0.5245051046262019, 'w19': 0.5381028916317225, 'w20': 0.7545933951609625, 'w21': 0.09971865653343304, 'w22': 0.05948593204196832}. Best is trial 97 with value: 0.015551792607982149.\n",
            "[I 2020-10-03 17:44:24,339] Trial 98 finished with value: 0.01555301100082093 and parameters: {'w1': 0.9794194526799347, 'w2': 0.7437217595857146, 'w3': 0.4048511654341539, 'w4': 0.9243106075372092, 'w5': 0.9943989961227453, 'w6': 0.16679079630078764, 'w7': 0.905327944709973, 'w8': 0.5470389949659936, 'w9': 0.5010835049120663, 'w10': 0.277903484746938, 'w11': 0.2623094486924189, 'w12': 0.0834083408790065, 'w13': 0.036227793141222014, 'w14': 0.8608696854878878, 'w15': 0.5486275099792075, 'w16': 0.194027916834636, 'w17': 0.02512938668187148, 'w18': 0.525632080560725, 'w19': 0.586110533172702, 'w20': 0.7654726169788044, 'w21': 0.10352281830093088, 'w22': 0.06017748235082218}. Best is trial 97 with value: 0.015551792607982149.\n",
            "[I 2020-10-03 17:44:26,059] Trial 99 finished with value: 0.015577992299626418 and parameters: {'w1': 0.8881966447730871, 'w2': 0.7446298196597702, 'w3': 0.34573970273049837, 'w4': 0.919104651594865, 'w5': 0.9944826946491375, 'w6': 0.169471955742768, 'w7': 0.8705552539521391, 'w8': 0.5553392698534265, 'w9': 0.5064730458056479, 'w10': 0.33411034838749876, 'w11': 0.26868972388861, 'w12': 0.0760036935927309, 'w13': 0.03651928526706353, 'w14': 0.8654664264163822, 'w15': 0.4926638463591997, 'w16': 0.28920804655912324, 'w17': 0.8081869554831081, 'w18': 0.5344001231473889, 'w19': 0.6005868005164086, 'w20': 0.6224191491273803, 'w21': 0.1900929524565223, 'w22': 0.06851395965829946}. Best is trial 97 with value: 0.015551792607982149.\n",
            "[I 2020-10-03 17:44:27,758] Trial 100 finished with value: 0.01556159987722296 and parameters: {'w1': 0.972641395608282, 'w2': 0.6539671332742206, 'w3': 0.40854003566965374, 'w4': 0.8769016228717664, 'w5': 0.923626520893635, 'w6': 0.12935060654782088, 'w7': 0.9106847729412543, 'w8': 0.45977306478577407, 'w9': 0.5540337308453379, 'w10': 0.2563277571702127, 'w11': 0.2354386208570808, 'w12': 0.026563407810929855, 'w13': 0.06303052770005615, 'w14': 0.7820042375681644, 'w15': 0.5653806481575326, 'w16': 0.2016747697881709, 'w17': 0.1666191764365338, 'w18': 0.6452502268366299, 'w19': 0.5369168596999241, 'w20': 0.7513643257988438, 'w21': 0.1515339620712378, 'w22': 0.03714285451113354}. Best is trial 97 with value: 0.015551792607982149.\n",
            "[I 2020-10-03 17:44:29,464] Trial 101 finished with value: 0.015552587092816445 and parameters: {'w1': 0.976143270426904, 'w2': 0.6400869491196602, 'w3': 0.419155238418459, 'w4': 0.880935167999381, 'w5': 0.9297415232751761, 'w6': 0.1301904922347861, 'w7': 0.9049968670981668, 'w8': 0.4525280003936518, 'w9': 0.5645178054537664, 'w10': 0.24752352177180836, 'w11': 0.17867951666902926, 'w12': 0.03942095715140948, 'w13': 0.015434211862977765, 'w14': 0.8410050246555797, 'w15': 0.5274379982383489, 'w16': 0.15930070689631415, 'w17': 0.07064351027006405, 'w18': 0.6460962294362882, 'w19': 0.5029063293754712, 'w20': 0.7492150047263186, 'w21': 0.10166208632873158, 'w22': 0.046145412385708635}. Best is trial 97 with value: 0.015551792607982149.\n",
            "[I 2020-10-03 17:44:31,181] Trial 102 finished with value: 0.015558788590204198 and parameters: {'w1': 0.9529713203473565, 'w2': 0.7044179891954547, 'w3': 0.4164374052896624, 'w4': 0.8666355165618342, 'w5': 0.9215876952698638, 'w6': 0.11864044842795328, 'w7': 0.9079570303142313, 'w8': 0.4533965011824265, 'w9': 0.5444065200343374, 'w10': 0.24515232709175694, 'w11': 0.21041400145709954, 'w12': 0.017655102792147298, 'w13': 0.010315489000619675, 'w14': 0.8370895687770411, 'w15': 0.5329481426873801, 'w16': 0.1659701016100927, 'w17': 0.017668734293509958, 'w18': 0.647681616012091, 'w19': 0.5035389458534782, 'w20': 0.7520970309469228, 'w21': 0.1446472004367176, 'w22': 0.039940833724321244}. Best is trial 97 with value: 0.015551792607982149.\n",
            "[I 2020-10-03 17:44:32,917] Trial 103 finished with value: 0.015581786036680497 and parameters: {'w1': 0.9536879894064503, 'w2': 0.6711377678340816, 'w3': 0.4278133679848912, 'w4': 0.880081249408062, 'w5': 0.9263856984537534, 'w6': 0.122814314598971, 'w7': 0.9111494664183115, 'w8': 0.4560914532823861, 'w9': 0.5616833292342653, 'w10': 0.20702719898118024, 'w11': 0.16207683115848634, 'w12': 0.020988933714749178, 'w13': 0.010662283971193745, 'w14': 0.8330102018560134, 'w15': 0.5221508778711403, 'w16': 0.20059170550097233, 'w17': 0.01605329996208417, 'w18': 0.6194563598867384, 'w19': 0.5113168624450866, 'w20': 0.7902047170987918, 'w21': 0.24144542560342327, 'w22': 0.03896160029362896}. Best is trial 97 with value: 0.015551792607982149.\n",
            "[I 2020-10-03 17:44:34,605] Trial 104 finished with value: 0.015563088049443962 and parameters: {'w1': 0.9969052689654672, 'w2': 0.6981327280465054, 'w3': 0.5008822867481117, 'w4': 0.9732307422692883, 'w5': 0.9083259733180421, 'w6': 0.10333857206416529, 'w7': 0.8968283420938284, 'w8': 0.4280209291387401, 'w9': 0.5485748502830565, 'w10': 0.2569243799820298, 'w11': 0.22593830416909644, 'w12': 0.058353213262297976, 'w13': 0.02580377495098379, 'w14': 0.7928380364556857, 'w15': 0.5453575487127793, 'w16': 0.2341395422693771, 'w17': 0.08636925586797169, 'w18': 0.6833954366347963, 'w19': 0.434259567839926, 'w20': 0.748402894822317, 'w21': 0.15255410903136815, 'w22': 0.057241121507492776}. Best is trial 97 with value: 0.015551792607982149.\n",
            "[I 2020-10-03 17:44:36,311] Trial 105 finished with value: 0.015583385220894403 and parameters: {'w1': 0.9618600803179275, 'w2': 0.6265771302856935, 'w3': 0.41170609604082586, 'w4': 0.8988635723192786, 'w5': 0.9970206641966619, 'w6': 0.13972934819852068, 'w7': 0.8423399543918602, 'w8': 0.5429509019387253, 'w9': 0.5873008594468999, 'w10': 0.2826146544764779, 'w11': 0.22032133412386393, 'w12': 0.1363570960874213, 'w13': 0.059685334085810754, 'w14': 0.7785587614364236, 'w15': 0.6001085248313907, 'w16': 0.14736953353384197, 'w17': 0.15044417033656204, 'w18': 0.6520022287776012, 'w19': 0.48024787857657764, 'w20': 0.8096547098921318, 'w21': 0.20060710708325163, 'w22': 0.08505035264956301}. Best is trial 97 with value: 0.015551792607982149.\n",
            "[I 2020-10-03 17:44:37,986] Trial 106 finished with value: 0.015552684219103583 and parameters: {'w1': 0.9121191101569872, 'w2': 0.7932238631681934, 'w3': 0.4718197138831571, 'w4': 0.8571849411822557, 'w5': 0.8926894870502616, 'w6': 0.1716377509774812, 'w7': 0.9123677786858218, 'w8': 0.45399657014621736, 'w9': 0.5772939076646091, 'w10': 0.21971621821194504, 'w11': 0.15788574761441876, 'w12': 0.035656090413815025, 'w13': 0.035131915214013335, 'w14': 0.8363496696271394, 'w15': 0.4435966516706604, 'w16': 0.19323752394588342, 'w17': 0.04423231253806678, 'w18': 0.6330481224222932, 'w19': 0.5277516112257161, 'w20': 0.7751576806354441, 'w21': 0.13620930501679523, 'w22': 0.03257526869490493}. Best is trial 97 with value: 0.015551792607982149.\n",
            "[I 2020-10-03 17:44:39,644] Trial 107 finished with value: 0.015555528886623931 and parameters: {'w1': 0.9252636269186991, 'w2': 0.7077094513215839, 'w3': 0.5152629067969977, 'w4': 0.8549374121103949, 'w5': 0.9263678738347573, 'w6': 0.16832275019762485, 'w7': 0.9175036156981407, 'w8': 0.39343370411396744, 'w9': 0.5773341373469524, 'w10': 0.32158409954768336, 'w11': 0.14903683586628363, 'w12': 0.010280408235852707, 'w13': 0.042861320606964126, 'w14': 0.8440938623192175, 'w15': 0.44599783831254514, 'w16': 0.2557545758752315, 'w17': 0.024077727708810732, 'w18': 0.63907171386527, 'w19': 0.467403036322664, 'w20': 0.8335847919142574, 'w21': 0.1384303547862281, 'w22': 0.03239686971685253}. Best is trial 97 with value: 0.015551792607982149.\n",
            "[I 2020-10-03 17:44:41,320] Trial 108 finished with value: 0.015560867026431559 and parameters: {'w1': 0.9304816329498886, 'w2': 0.707734749195486, 'w3': 0.465754224552165, 'w4': 0.852583252815203, 'w5': 0.7732692618558792, 'w6': 0.1631898310285485, 'w7': 0.9786183928032699, 'w8': 0.3358872775166821, 'w9': 0.5758465797532926, 'w10': 0.32302407530543037, 'w11': 0.028434313297901387, 'w12': 0.0462151197872229, 'w13': 0.013250257574546237, 'w14': 0.8596141088863616, 'w15': 0.4450100305310943, 'w16': 0.259131139724987, 'w17': 0.015845764486691533, 'w18': 0.6870883576697144, 'w19': 0.4623207940843033, 'w20': 0.8533103830604936, 'w21': 0.11904674737857586, 'w22': 0.06662536328534703}. Best is trial 97 with value: 0.015551792607982149.\n",
            "[I 2020-10-03 17:44:43,012] Trial 109 finished with value: 0.015593168913018592 and parameters: {'w1': 0.9164300988229008, 'w2': 0.7964705452935671, 'w3': 0.5327126016531858, 'w4': 0.9359691296292084, 'w5': 0.8089361339885038, 'w6': 0.17519129499722327, 'w7': 0.8560599897215084, 'w8': 0.401458300527457, 'w9': 0.5061283871863544, 'w10': 0.21487263330919204, 'w11': 0.14331125745164247, 'w12': 0.011781932473190924, 'w13': 0.043460438991347175, 'w14': 0.909499008750619, 'w15': 0.35290931570018824, 'w16': 0.16258235481546005, 'w17': 0.043846827363170304, 'w18': 0.5857496580206648, 'w19': 0.4991239611443941, 'w20': 0.8277751019384462, 'w21': 0.22556553984082933, 'w22': 0.09841524313412331}. Best is trial 97 with value: 0.015551792607982149.\n",
            "[I 2020-10-03 17:44:44,713] Trial 110 finished with value: 0.01556049461655234 and parameters: {'w1': 0.9020368486032543, 'w2': 0.7496444037957339, 'w3': 0.48362353832121036, 'w4': 0.807893596485442, 'w5': 0.8325474300683327, 'w6': 0.21354136899010487, 'w7': 0.9482144954961635, 'w8': 0.6637700020369032, 'w9': 0.6165416891284375, 'w10': 0.30299881397315626, 'w11': 0.08195566311508383, 'w12': 0.15950919918832332, 'w13': 0.03419019263668533, 'w14': 0.8404581687432117, 'w15': 0.4051180410623073, 'w16': 0.3237836605441211, 'w17': 0.048599350968611316, 'w18': 0.6294117595008395, 'w19': 0.4016417546425102, 'w20': 0.789319397511718, 'w21': 0.17997581680335129, 'w22': 0.036353403980015804}. Best is trial 97 with value: 0.015551792607982149.\n",
            "[I 2020-10-03 17:44:46,433] Trial 111 finished with value: 0.015557647301009203 and parameters: {'w1': 0.9001973852901947, 'w2': 0.7530126766139039, 'w3': 0.5260151443738637, 'w4': 0.8547104213943894, 'w5': 0.8856475913625649, 'w6': 0.20477116092780517, 'w7': 0.9502639878776209, 'w8': 0.6759351346602431, 'w9': 0.6068459444999725, 'w10': 0.3057209795912056, 'w11': 0.08220127823466136, 'w12': 0.15591450416026736, 'w13': 0.036678589596091084, 'w14': 0.8415305146181766, 'w15': 0.40180985021940885, 'w16': 0.3441685761384693, 'w17': 0.05005731890508708, 'w18': 0.62355184289842, 'w19': 0.39242213331506925, 'w20': 0.7796099866721856, 'w21': 0.17340312818756945, 'w22': 0.035460206527211796}. Best is trial 97 with value: 0.015551792607982149.\n",
            "[I 2020-10-03 17:44:48,097] Trial 112 finished with value: 0.015566641735465465 and parameters: {'w1': 0.893644294792545, 'w2': 0.7465304193587531, 'w3': 0.5127416720270954, 'w4': 0.8549814412005453, 'w5': 0.8386195113922852, 'w6': 0.152485384523426, 'w7': 0.9540556631265434, 'w8': 0.6669088295708914, 'w9': 0.608504771890085, 'w10': 0.3047270046192536, 'w11': 0.07722262278321174, 'w12': 0.1595711488828606, 'w13': 0.010704816756248185, 'w14': 0.8407388189946765, 'w15': 0.39658075353983047, 'w16': 0.3131900370269126, 'w17': 0.059333696799963614, 'w18': 0.6265166060688456, 'w19': 0.43198147890373806, 'w20': 0.7751839340754441, 'w21': 0.18763275289396025, 'w22': 0.05383478383660083}. Best is trial 97 with value: 0.015551792607982149.\n",
            "[I 2020-10-03 17:44:49,787] Trial 113 finished with value: 0.01556905948321852 and parameters: {'w1': 0.9093597198793172, 'w2': 0.6787203042091767, 'w3': 0.4891467458560992, 'w4': 0.8151906330995315, 'w5': 0.8846247536925469, 'w6': 0.2143678380477963, 'w7': 0.1394922968680839, 'w8': 0.5103252339119682, 'w9': 0.6451636833138588, 'w10': 0.27642006961025894, 'w11': 0.07385987478329686, 'w12': 0.06837769199867641, 'w13': 0.04136384115794638, 'w14': 0.8674023448857917, 'w15': 0.2942992804680934, 'w16': 0.3490436114135988, 'w17': 0.12228187562422857, 'w18': 0.7095149188920258, 'w19': 0.4009700071184987, 'w20': 0.7939985380164929, 'w21': 0.14379871925357268, 'w22': 0.03619207325525814}. Best is trial 97 with value: 0.015551792607982149.\n",
            "[I 2020-10-03 17:44:51,514] Trial 114 finished with value: 0.015574094593663905 and parameters: {'w1': 0.9748571982255522, 'w2': 0.7358852295935631, 'w3': 0.5661209810268724, 'w4': 0.7463122376936863, 'w5': 0.8660424803227981, 'w6': 0.26374633827915706, 'w7': 0.9517797207683654, 'w8': 0.41935166286484404, 'w9': 0.6202831857750363, 'w10': 0.3384485493557455, 'w11': 0.10772793121831528, 'w12': 0.22579506683387982, 'w13': 0.06554085182002933, 'w14': 0.9485967644265603, 'w15': 0.5139993239235668, 'w16': 0.4077003749907555, 'w17': 0.040674715392825155, 'w18': 0.6639447277380305, 'w19': 0.35239339514866475, 'w20': 0.7718775391927701, 'w21': 0.1743948222325215, 'w22': 0.08932403440220943}. Best is trial 97 with value: 0.015551792607982149.\n",
            "[I 2020-10-03 17:44:53,194] Trial 115 finished with value: 0.015552045664889597 and parameters: {'w1': 0.9040041416020705, 'w2': 0.7544331737942802, 'w3': 0.521793991043587, 'w4': 0.8547707180115407, 'w5': 0.8338286315931758, 'w6': 0.24643399076998979, 'w7': 0.8964053074891336, 'w8': 0.6161597227676363, 'w9': 0.5802138600040803, 'w10': 0.31310461534103984, 'w11': 0.16775254562358863, 'w12': 0.11349507699865169, 'w13': 0.03129901642773404, 'w14': 0.7670792297914605, 'w15': 0.43615716619176637, 'w16': 0.352986833984858, 'w17': 0.09939745121737649, 'w18': 0.6053283008530342, 'w19': 0.4023378056349338, 'w20': 0.8236340183097529, 'w21': 0.10663647618970819, 'w22': 0.06738032889519793}. Best is trial 97 with value: 0.015551792607982149.\n",
            "[I 2020-10-03 17:44:54,852] Trial 116 finished with value: 0.015569233267207779 and parameters: {'w1': 0.8063887636215995, 'w2': 0.7105533398043877, 'w3': 0.521136078477855, 'w4': 0.850478903615128, 'w5': 0.8873007659037596, 'w6': 0.24433891242634437, 'w7': 0.9106374704503526, 'w8': 0.3806927645966255, 'w9': 0.5805839913142326, 'w10': 0.22827270400813557, 'w11': 0.17701861838991023, 'w12': 0.11378318683580095, 'w13': 0.012746656545276843, 'w14': 0.9296565857992533, 'w15': 0.4269627610264299, 'w16': 0.2832039323785275, 'w17': 0.09908985303349577, 'w18': 0.6074855896868245, 'w19': 0.4592975518522948, 'w20': 0.8381317674014219, 'w21': 0.1054630380063639, 'w22': 0.12100034513554184}. Best is trial 97 with value: 0.015551792607982149.\n",
            "[I 2020-10-03 17:44:56,563] Trial 117 finished with value: 0.015556710265246151 and parameters: {'w1': 0.940227938919671, 'w2': 0.7618026790968783, 'w3': 0.44337804622918, 'w4': 0.9829326965045841, 'w5': 0.9339852289772768, 'w6': 0.08761112618354441, 'w7': 0.8959199031549524, 'w8': 0.6083040685383855, 'w9': 0.5647663602868402, 'w10': 0.15263508466079279, 'w11': 0.27002644880800925, 'w12': 0.03741827100325062, 'w13': 0.03231092750806222, 'w14': 0.803455232395379, 'w15': 0.4958973951975837, 'w16': 0.5040151943761841, 'w17': 0.12898816971981936, 'w18': 0.5778126328190955, 'w19': 0.360473304793959, 'w20': 0.7327592572195164, 'w21': 0.13039537554316213, 'w22': 0.06263864492484882}. Best is trial 97 with value: 0.015551792607982149.\n",
            "[I 2020-10-03 17:44:58,265] Trial 118 finished with value: 0.015562653823612905 and parameters: {'w1': 0.9331366353906112, 'w2': 0.6819606259939345, 'w3': 0.45051090421079915, 'w4': 0.9845551113989701, 'w5': 0.7952928208423481, 'w6': 0.08316903150906066, 'w7': 0.8196100615181695, 'w8': 0.6071038014659144, 'w9': 0.5098629219579428, 'w10': 0.1671861018097086, 'w11': 0.28170054795043925, 'w12': 0.03563101329359161, 'w13': 0.09927793322146661, 'w14': 0.759650161640743, 'w15': 0.45269370643942836, 'w16': 0.5129323110021462, 'w17': 0.12701746660634597, 'w18': 0.6858802865252602, 'w19': 0.31602435579979904, 'w20': 0.734094031494256, 'w21': 0.13598028329079945, 'w22': 0.05846312067582736}. Best is trial 97 with value: 0.015551792607982149.\n",
            "[I 2020-10-03 17:44:59,968] Trial 119 finished with value: 0.01556998198695288 and parameters: {'w1': 0.8573537503814131, 'w2': 0.7625888830673323, 'w3': 0.582594139134295, 'w4': 0.9471058789871032, 'w5': 0.9307404011847294, 'w6': 0.030396388488110007, 'w7': 0.894379085278806, 'w8': 0.6273262047931554, 'w9': 0.5406324227959075, 'w10': 0.142260780381269, 'w11': 0.1986043729429246, 'w12': 0.010235950835463905, 'w13': 0.04187334759225681, 'w14': 0.8048920653033417, 'w15': 0.49269750964797643, 'w16': 0.4496699223606393, 'w17': 0.07033664086658702, 'w18': 0.5476193047472299, 'w19': 0.35717687671086695, 'w20': 0.8116472145406014, 'w21': 0.09655686733029167, 'w22': 0.15538860166315813}. Best is trial 97 with value: 0.015551792607982149.\n",
            "[I 2020-10-03 17:45:01,685] Trial 120 finished with value: 0.0155801416781237 and parameters: {'w1': 0.9966057727719226, 'w2': 0.6932374625392094, 'w3': 0.46933734014447903, 'w4': 0.91355346358773, 'w5': 0.898421392644162, 'w6': 0.11083879732912968, 'w7': 0.8534279881942743, 'w8': 0.5586731648631074, 'w9': 0.5563577564098272, 'w10': 0.24796486698851913, 'w11': 0.1446755563282372, 'w12': 0.07961442598898766, 'w13': 0.07671059301226044, 'w14': 0.7678905736103891, 'w15': 0.3469659067505546, 'w16': 0.3803209354160606, 'w17': 0.0222081016833157, 'w18': 0.7312054889872742, 'w19': 0.29299553903530945, 'w20': 0.680600882632847, 'w21': 0.20858988325452976, 'w22': 0.07885029894090903}. Best is trial 97 with value: 0.015551792607982149.\n",
            "[I 2020-10-03 17:45:03,379] Trial 121 finished with value: 0.015549982721691254 and parameters: {'w1': 0.9655745616826154, 'w2': 0.8176759482178231, 'w3': 0.42759823371592626, 'w4': 0.87075508848828, 'w5': 0.9323643320792525, 'w6': 0.16354417262743517, 'w7': 0.9771253012266815, 'w8': 0.6820318688355674, 'w9': 0.5729517571989233, 'w10': 0.19751166147966098, 'w11': 0.2556863476195444, 'w12': 0.05485523631060387, 'w13': 0.011026283427984965, 'w14': 0.8311978757817359, 'w15': 0.5313944590617462, 'w16': 0.22368194731875657, 'w17': 0.08322839413196623, 'w18': 0.5792665383767037, 'w19': 0.4233506973561858, 'w20': 0.7563709657555218, 'w21': 0.11669003599833748, 'w22': 0.06508288298422418}. Best is trial 121 with value: 0.015549982721691254.\n"
          ],
          "name": "stderr"
        },
        {
          "output_type": "error",
          "ename": "KeyboardInterrupt",
          "evalue": "ignored",
          "traceback": [
            "\u001b[0;31m---------------------------------------------------------------------------\u001b[0m",
            "\u001b[0;31mKeyboardInterrupt\u001b[0m                         Traceback (most recent call last)",
            "\u001b[0;32m<ipython-input-28-832cb3b241e9>\u001b[0m in \u001b[0;36m<module>\u001b[0;34m()\u001b[0m\n\u001b[1;32m      1\u001b[0m \u001b[0mstudy\u001b[0m \u001b[0;34m=\u001b[0m \u001b[0moptuna\u001b[0m\u001b[0;34m.\u001b[0m\u001b[0mcreate_study\u001b[0m\u001b[0;34m(\u001b[0m\u001b[0mdirection\u001b[0m\u001b[0;34m=\u001b[0m\u001b[0;34m\"minimize\"\u001b[0m\u001b[0;34m)\u001b[0m\u001b[0;34m\u001b[0m\u001b[0;34m\u001b[0m\u001b[0m\n\u001b[0;32m----> 2\u001b[0;31m \u001b[0mstudy\u001b[0m\u001b[0;34m.\u001b[0m\u001b[0moptimize\u001b[0m\u001b[0;34m(\u001b[0m\u001b[0mobjective\u001b[0m\u001b[0;34m,\u001b[0m \u001b[0mn_trials\u001b[0m\u001b[0;34m=\u001b[0m\u001b[0;36m1000\u001b[0m\u001b[0;34m)\u001b[0m\u001b[0;34m\u001b[0m\u001b[0;34m\u001b[0m\u001b[0m\n\u001b[0m",
            "\u001b[0;32m/usr/local/lib/python3.6/dist-packages/optuna/study.py\u001b[0m in \u001b[0;36moptimize\u001b[0;34m(self, func, n_trials, timeout, n_jobs, catch, callbacks, gc_after_trial, show_progress_bar)\u001b[0m\n\u001b[1;32m    326\u001b[0m             \u001b[0;32mif\u001b[0m \u001b[0mn_jobs\u001b[0m \u001b[0;34m==\u001b[0m \u001b[0;36m1\u001b[0m\u001b[0;34m:\u001b[0m\u001b[0;34m\u001b[0m\u001b[0;34m\u001b[0m\u001b[0m\n\u001b[1;32m    327\u001b[0m                 self._optimize_sequential(\n\u001b[0;32m--> 328\u001b[0;31m                     \u001b[0mfunc\u001b[0m\u001b[0;34m,\u001b[0m \u001b[0mn_trials\u001b[0m\u001b[0;34m,\u001b[0m \u001b[0mtimeout\u001b[0m\u001b[0;34m,\u001b[0m \u001b[0mcatch\u001b[0m\u001b[0;34m,\u001b[0m \u001b[0mcallbacks\u001b[0m\u001b[0;34m,\u001b[0m \u001b[0mgc_after_trial\u001b[0m\u001b[0;34m,\u001b[0m \u001b[0;32mNone\u001b[0m\u001b[0;34m\u001b[0m\u001b[0;34m\u001b[0m\u001b[0m\n\u001b[0m\u001b[1;32m    329\u001b[0m                 )\n\u001b[1;32m    330\u001b[0m             \u001b[0;32melse\u001b[0m\u001b[0;34m:\u001b[0m\u001b[0;34m\u001b[0m\u001b[0;34m\u001b[0m\u001b[0m\n",
            "\u001b[0;32m/usr/local/lib/python3.6/dist-packages/optuna/study.py\u001b[0m in \u001b[0;36m_optimize_sequential\u001b[0;34m(self, func, n_trials, timeout, catch, callbacks, gc_after_trial, time_start)\u001b[0m\n\u001b[1;32m    724\u001b[0m                     \u001b[0;32mbreak\u001b[0m\u001b[0;34m\u001b[0m\u001b[0;34m\u001b[0m\u001b[0m\n\u001b[1;32m    725\u001b[0m \u001b[0;34m\u001b[0m\u001b[0m\n\u001b[0;32m--> 726\u001b[0;31m             \u001b[0mself\u001b[0m\u001b[0;34m.\u001b[0m\u001b[0m_run_trial_and_callbacks\u001b[0m\u001b[0;34m(\u001b[0m\u001b[0mfunc\u001b[0m\u001b[0;34m,\u001b[0m \u001b[0mcatch\u001b[0m\u001b[0;34m,\u001b[0m \u001b[0mcallbacks\u001b[0m\u001b[0;34m,\u001b[0m \u001b[0mgc_after_trial\u001b[0m\u001b[0;34m)\u001b[0m\u001b[0;34m\u001b[0m\u001b[0;34m\u001b[0m\u001b[0m\n\u001b[0m\u001b[1;32m    727\u001b[0m \u001b[0;34m\u001b[0m\u001b[0m\n\u001b[1;32m    728\u001b[0m             \u001b[0mself\u001b[0m\u001b[0;34m.\u001b[0m\u001b[0m_progress_bar\u001b[0m\u001b[0;34m.\u001b[0m\u001b[0mupdate\u001b[0m\u001b[0;34m(\u001b[0m\u001b[0;34m(\u001b[0m\u001b[0mdatetime\u001b[0m\u001b[0;34m.\u001b[0m\u001b[0mdatetime\u001b[0m\u001b[0;34m.\u001b[0m\u001b[0mnow\u001b[0m\u001b[0;34m(\u001b[0m\u001b[0;34m)\u001b[0m \u001b[0;34m-\u001b[0m \u001b[0mtime_start\u001b[0m\u001b[0;34m)\u001b[0m\u001b[0;34m.\u001b[0m\u001b[0mtotal_seconds\u001b[0m\u001b[0;34m(\u001b[0m\u001b[0;34m)\u001b[0m\u001b[0;34m)\u001b[0m\u001b[0;34m\u001b[0m\u001b[0;34m\u001b[0m\u001b[0m\n",
            "\u001b[0;32m/usr/local/lib/python3.6/dist-packages/optuna/study.py\u001b[0m in \u001b[0;36m_run_trial_and_callbacks\u001b[0;34m(self, func, catch, callbacks, gc_after_trial)\u001b[0m\n\u001b[1;32m    753\u001b[0m     ) -> None:\n\u001b[1;32m    754\u001b[0m \u001b[0;34m\u001b[0m\u001b[0m\n\u001b[0;32m--> 755\u001b[0;31m         \u001b[0mtrial\u001b[0m \u001b[0;34m=\u001b[0m \u001b[0mself\u001b[0m\u001b[0;34m.\u001b[0m\u001b[0m_run_trial\u001b[0m\u001b[0;34m(\u001b[0m\u001b[0mfunc\u001b[0m\u001b[0;34m,\u001b[0m \u001b[0mcatch\u001b[0m\u001b[0;34m,\u001b[0m \u001b[0mgc_after_trial\u001b[0m\u001b[0;34m)\u001b[0m\u001b[0;34m\u001b[0m\u001b[0;34m\u001b[0m\u001b[0m\n\u001b[0m\u001b[1;32m    756\u001b[0m         \u001b[0;32mif\u001b[0m \u001b[0mcallbacks\u001b[0m \u001b[0;32mis\u001b[0m \u001b[0;32mnot\u001b[0m \u001b[0;32mNone\u001b[0m\u001b[0;34m:\u001b[0m\u001b[0;34m\u001b[0m\u001b[0;34m\u001b[0m\u001b[0m\n\u001b[1;32m    757\u001b[0m             \u001b[0mfrozen_trial\u001b[0m \u001b[0;34m=\u001b[0m \u001b[0mcopy\u001b[0m\u001b[0;34m.\u001b[0m\u001b[0mdeepcopy\u001b[0m\u001b[0;34m(\u001b[0m\u001b[0mself\u001b[0m\u001b[0;34m.\u001b[0m\u001b[0m_storage\u001b[0m\u001b[0;34m.\u001b[0m\u001b[0mget_trial\u001b[0m\u001b[0;34m(\u001b[0m\u001b[0mtrial\u001b[0m\u001b[0;34m.\u001b[0m\u001b[0m_trial_id\u001b[0m\u001b[0;34m)\u001b[0m\u001b[0;34m)\u001b[0m\u001b[0;34m\u001b[0m\u001b[0;34m\u001b[0m\u001b[0m\n",
            "\u001b[0;32m/usr/local/lib/python3.6/dist-packages/optuna/study.py\u001b[0m in \u001b[0;36m_run_trial\u001b[0;34m(self, func, catch, gc_after_trial)\u001b[0m\n\u001b[1;32m    776\u001b[0m \u001b[0;34m\u001b[0m\u001b[0m\n\u001b[1;32m    777\u001b[0m         \u001b[0;32mtry\u001b[0m\u001b[0;34m:\u001b[0m\u001b[0;34m\u001b[0m\u001b[0;34m\u001b[0m\u001b[0m\n\u001b[0;32m--> 778\u001b[0;31m             \u001b[0mresult\u001b[0m \u001b[0;34m=\u001b[0m \u001b[0mfunc\u001b[0m\u001b[0;34m(\u001b[0m\u001b[0mtrial\u001b[0m\u001b[0;34m)\u001b[0m\u001b[0;34m\u001b[0m\u001b[0;34m\u001b[0m\u001b[0m\n\u001b[0m\u001b[1;32m    779\u001b[0m         \u001b[0;32mexcept\u001b[0m \u001b[0mexceptions\u001b[0m\u001b[0;34m.\u001b[0m\u001b[0mTrialPruned\u001b[0m \u001b[0;32mas\u001b[0m \u001b[0me\u001b[0m\u001b[0;34m:\u001b[0m\u001b[0;34m\u001b[0m\u001b[0;34m\u001b[0m\u001b[0m\n\u001b[1;32m    780\u001b[0m             \u001b[0mmessage\u001b[0m \u001b[0;34m=\u001b[0m \u001b[0;34m\"Trial {} pruned. {}\"\u001b[0m\u001b[0;34m.\u001b[0m\u001b[0mformat\u001b[0m\u001b[0;34m(\u001b[0m\u001b[0mtrial_number\u001b[0m\u001b[0;34m,\u001b[0m \u001b[0mstr\u001b[0m\u001b[0;34m(\u001b[0m\u001b[0me\u001b[0m\u001b[0;34m)\u001b[0m\u001b[0;34m)\u001b[0m\u001b[0;34m\u001b[0m\u001b[0;34m\u001b[0m\u001b[0m\n",
            "\u001b[0;32m<ipython-input-27-47c368a9d8fa>\u001b[0m in \u001b[0;36mobjective\u001b[0;34m(trial)\u001b[0m\n\u001b[1;32m     40\u001b[0m     }\n\u001b[1;32m     41\u001b[0m \u001b[0;34m\u001b[0m\u001b[0m\n\u001b[0;32m---> 42\u001b[0;31m     \u001b[0mloss_\u001b[0m \u001b[0;34m=\u001b[0m \u001b[0mfind_loss\u001b[0m\u001b[0;34m(\u001b[0m\u001b[0mparams\u001b[0m\u001b[0;34m)\u001b[0m\u001b[0;34m\u001b[0m\u001b[0;34m\u001b[0m\u001b[0m\n\u001b[0m\u001b[1;32m     43\u001b[0m     \u001b[0;32mreturn\u001b[0m \u001b[0mloss_\u001b[0m\u001b[0;34m\u001b[0m\u001b[0;34m\u001b[0m\u001b[0m\n",
            "\u001b[0;32m<ipython-input-27-47c368a9d8fa>\u001b[0m in \u001b[0;36mfind_loss\u001b[0;34m(params)\u001b[0m\n\u001b[1;32m      3\u001b[0m     \u001b[0mweights_np\u001b[0m \u001b[0;34m=\u001b[0m \u001b[0mnp\u001b[0m\u001b[0;34m.\u001b[0m\u001b[0marray\u001b[0m\u001b[0;34m(\u001b[0m\u001b[0mlist\u001b[0m\u001b[0;34m(\u001b[0m\u001b[0mparams\u001b[0m\u001b[0;34m.\u001b[0m\u001b[0mvalues\u001b[0m\u001b[0;34m(\u001b[0m\u001b[0;34m)\u001b[0m\u001b[0;34m)\u001b[0m\u001b[0;34m)\u001b[0m\u001b[0;34m\u001b[0m\u001b[0;34m\u001b[0m\u001b[0m\n\u001b[1;32m      4\u001b[0m     \u001b[0mblend_boi\u001b[0m \u001b[0;34m=\u001b[0m \u001b[0mblend\u001b[0m\u001b[0;34m(\u001b[0m\u001b[0mweights_np\u001b[0m\u001b[0;34m,\u001b[0m \u001b[0mall_models\u001b[0m\u001b[0;34m)\u001b[0m\u001b[0;34m\u001b[0m\u001b[0;34m\u001b[0m\u001b[0m\n\u001b[0;32m----> 5\u001b[0;31m     \u001b[0msample_infer\u001b[0m \u001b[0;34m=\u001b[0m \u001b[0minference_fn\u001b[0m\u001b[0;34m(\u001b[0m\u001b[0mblend_boi\u001b[0m\u001b[0;34m,\u001b[0m \u001b[0mtrain_hold\u001b[0m\u001b[0;34m,\u001b[0m \u001b[0mdevice\u001b[0m\u001b[0;34m)\u001b[0m\u001b[0;34m\u001b[0m\u001b[0;34m\u001b[0m\u001b[0m\n\u001b[0m\u001b[1;32m      6\u001b[0m     \u001b[0mloss\u001b[0m \u001b[0;34m=\u001b[0m \u001b[0mlog_loss_metric\u001b[0m\u001b[0;34m(\u001b[0m\u001b[0mtarget_hold\u001b[0m\u001b[0;34m,\u001b[0m \u001b[0msample_infer\u001b[0m\u001b[0;34m)\u001b[0m\u001b[0;34m\u001b[0m\u001b[0;34m\u001b[0m\u001b[0m\n\u001b[1;32m      7\u001b[0m \u001b[0;34m\u001b[0m\u001b[0m\n",
            "\u001b[0;32m<ipython-input-11-d34088103222>\u001b[0m in \u001b[0;36minference_fn\u001b[0;34m(model, test_features, device)\u001b[0m\n\u001b[1;32m     25\u001b[0m     \u001b[0mresults\u001b[0m \u001b[0;34m=\u001b[0m \u001b[0mnp\u001b[0m\u001b[0;34m.\u001b[0m\u001b[0mzeros\u001b[0m\u001b[0;34m(\u001b[0m\u001b[0;34m[\u001b[0m\u001b[0mtest_features\u001b[0m\u001b[0;34m.\u001b[0m\u001b[0mshape\u001b[0m\u001b[0;34m[\u001b[0m\u001b[0;36m0\u001b[0m\u001b[0;34m]\u001b[0m\u001b[0;34m,\u001b[0m \u001b[0;36m206\u001b[0m\u001b[0;34m]\u001b[0m\u001b[0;34m)\u001b[0m\u001b[0;34m\u001b[0m\u001b[0;34m\u001b[0m\u001b[0m\n\u001b[1;32m     26\u001b[0m     \u001b[0mtest_features_tensor\u001b[0m \u001b[0;34m=\u001b[0m \u001b[0mtorch\u001b[0m\u001b[0;34m.\u001b[0m\u001b[0mtensor\u001b[0m\u001b[0;34m(\u001b[0m\u001b[0mtest_features\u001b[0m\u001b[0;34m)\u001b[0m\u001b[0;34m.\u001b[0m\u001b[0mfloat\u001b[0m\u001b[0;34m(\u001b[0m\u001b[0;34m)\u001b[0m\u001b[0;34m.\u001b[0m\u001b[0mto\u001b[0m\u001b[0;34m(\u001b[0m\u001b[0mdevice\u001b[0m\u001b[0;34m)\u001b[0m\u001b[0;34m\u001b[0m\u001b[0;34m\u001b[0m\u001b[0m\n\u001b[0;32m---> 27\u001b[0;31m     \u001b[0mrows\u001b[0m \u001b[0;34m=\u001b[0m \u001b[0mmodel\u001b[0m\u001b[0;34m(\u001b[0m\u001b[0mtest_features_tensor\u001b[0m\u001b[0;34m)\u001b[0m\u001b[0;34m.\u001b[0m\u001b[0msigmoid\u001b[0m\u001b[0;34m(\u001b[0m\u001b[0;34m)\u001b[0m\u001b[0;34m.\u001b[0m\u001b[0mdetach\u001b[0m\u001b[0;34m(\u001b[0m\u001b[0;34m)\u001b[0m\u001b[0;34m.\u001b[0m\u001b[0mcpu\u001b[0m\u001b[0;34m(\u001b[0m\u001b[0;34m)\u001b[0m\u001b[0;34m.\u001b[0m\u001b[0mnumpy\u001b[0m\u001b[0;34m(\u001b[0m\u001b[0;34m)\u001b[0m\u001b[0;34m\u001b[0m\u001b[0;34m\u001b[0m\u001b[0m\n\u001b[0m\u001b[1;32m     28\u001b[0m     \u001b[0mresults\u001b[0m \u001b[0;34m=\u001b[0m \u001b[0mrows\u001b[0m\u001b[0;34m\u001b[0m\u001b[0;34m\u001b[0m\u001b[0m\n\u001b[1;32m     29\u001b[0m \u001b[0;34m\u001b[0m\u001b[0m\n",
            "\u001b[0;32m<ipython-input-11-d34088103222>\u001b[0m in \u001b[0;36m__call__\u001b[0;34m(self, x)\u001b[0m\n\u001b[1;32m     19\u001b[0m \u001b[0;34m\u001b[0m\u001b[0m\n\u001b[1;32m     20\u001b[0m     \u001b[0;32mdef\u001b[0m \u001b[0m__call__\u001b[0m\u001b[0;34m(\u001b[0m\u001b[0mself\u001b[0m\u001b[0;34m,\u001b[0m\u001b[0mx\u001b[0m\u001b[0;34m)\u001b[0m\u001b[0;34m:\u001b[0m\u001b[0;34m\u001b[0m\u001b[0;34m\u001b[0m\u001b[0m\n\u001b[0;32m---> 21\u001b[0;31m         \u001b[0;32mreturn\u001b[0m \u001b[0mself\u001b[0m\u001b[0;34m.\u001b[0m\u001b[0mforward\u001b[0m\u001b[0;34m(\u001b[0m\u001b[0mx\u001b[0m\u001b[0;34m)\u001b[0m\u001b[0;34m\u001b[0m\u001b[0;34m\u001b[0m\u001b[0m\n\u001b[0m\u001b[1;32m     22\u001b[0m \u001b[0;34m\u001b[0m\u001b[0m\n\u001b[1;32m     23\u001b[0m \u001b[0;32mdef\u001b[0m \u001b[0minference_fn\u001b[0m\u001b[0;34m(\u001b[0m\u001b[0mmodel\u001b[0m\u001b[0;34m,\u001b[0m \u001b[0mtest_features\u001b[0m\u001b[0;34m,\u001b[0m \u001b[0mdevice\u001b[0m\u001b[0;34m)\u001b[0m\u001b[0;34m:\u001b[0m\u001b[0;34m\u001b[0m\u001b[0;34m\u001b[0m\u001b[0m\n",
            "\u001b[0;32m<ipython-input-11-d34088103222>\u001b[0m in \u001b[0;36mforward\u001b[0;34m(self, x)\u001b[0m\n\u001b[1;32m      8\u001b[0m     \u001b[0;32mdef\u001b[0m \u001b[0mforward\u001b[0m\u001b[0;34m(\u001b[0m\u001b[0mself\u001b[0m\u001b[0;34m,\u001b[0m \u001b[0mx\u001b[0m\u001b[0;34m)\u001b[0m\u001b[0;34m:\u001b[0m\u001b[0;34m\u001b[0m\u001b[0;34m\u001b[0m\u001b[0m\n\u001b[1;32m      9\u001b[0m \u001b[0;34m\u001b[0m\u001b[0m\n\u001b[0;32m---> 10\u001b[0;31m         \u001b[0mx_list\u001b[0m \u001b[0;34m=\u001b[0m \u001b[0;34m[\u001b[0m\u001b[0mself\u001b[0m\u001b[0;34m.\u001b[0m\u001b[0mmodel_list\u001b[0m\u001b[0;34m[\u001b[0m\u001b[0mi\u001b[0m\u001b[0;34m]\u001b[0m\u001b[0;34m(\u001b[0m\u001b[0mx\u001b[0m\u001b[0;34m)\u001b[0m\u001b[0;34m.\u001b[0m\u001b[0mdetach\u001b[0m\u001b[0;34m(\u001b[0m\u001b[0;34m)\u001b[0m\u001b[0;34m.\u001b[0m\u001b[0mcpu\u001b[0m\u001b[0;34m(\u001b[0m\u001b[0;34m)\u001b[0m \u001b[0;32mfor\u001b[0m \u001b[0mi\u001b[0m \u001b[0;32min\u001b[0m \u001b[0mrange\u001b[0m\u001b[0;34m(\u001b[0m\u001b[0mlen\u001b[0m\u001b[0;34m(\u001b[0m\u001b[0mself\u001b[0m\u001b[0;34m.\u001b[0m\u001b[0mmodel_list\u001b[0m\u001b[0;34m)\u001b[0m\u001b[0;34m)\u001b[0m\u001b[0;34m]\u001b[0m\u001b[0;34m\u001b[0m\u001b[0;34m\u001b[0m\u001b[0m\n\u001b[0m\u001b[1;32m     11\u001b[0m \u001b[0;34m\u001b[0m\u001b[0m\n\u001b[1;32m     12\u001b[0m         \u001b[0mfinal_pred\u001b[0m \u001b[0;34m=\u001b[0m \u001b[0mtorch\u001b[0m\u001b[0;34m.\u001b[0m\u001b[0mzeros_like\u001b[0m\u001b[0;34m(\u001b[0m\u001b[0mx_list\u001b[0m\u001b[0;34m[\u001b[0m\u001b[0;36m0\u001b[0m\u001b[0;34m]\u001b[0m\u001b[0;34m)\u001b[0m\u001b[0;34m\u001b[0m\u001b[0;34m\u001b[0m\u001b[0m\n",
            "\u001b[0;32m<ipython-input-11-d34088103222>\u001b[0m in \u001b[0;36m<listcomp>\u001b[0;34m(.0)\u001b[0m\n\u001b[1;32m      8\u001b[0m     \u001b[0;32mdef\u001b[0m \u001b[0mforward\u001b[0m\u001b[0;34m(\u001b[0m\u001b[0mself\u001b[0m\u001b[0;34m,\u001b[0m \u001b[0mx\u001b[0m\u001b[0;34m)\u001b[0m\u001b[0;34m:\u001b[0m\u001b[0;34m\u001b[0m\u001b[0;34m\u001b[0m\u001b[0m\n\u001b[1;32m      9\u001b[0m \u001b[0;34m\u001b[0m\u001b[0m\n\u001b[0;32m---> 10\u001b[0;31m         \u001b[0mx_list\u001b[0m \u001b[0;34m=\u001b[0m \u001b[0;34m[\u001b[0m\u001b[0mself\u001b[0m\u001b[0;34m.\u001b[0m\u001b[0mmodel_list\u001b[0m\u001b[0;34m[\u001b[0m\u001b[0mi\u001b[0m\u001b[0;34m]\u001b[0m\u001b[0;34m(\u001b[0m\u001b[0mx\u001b[0m\u001b[0;34m)\u001b[0m\u001b[0;34m.\u001b[0m\u001b[0mdetach\u001b[0m\u001b[0;34m(\u001b[0m\u001b[0;34m)\u001b[0m\u001b[0;34m.\u001b[0m\u001b[0mcpu\u001b[0m\u001b[0;34m(\u001b[0m\u001b[0;34m)\u001b[0m \u001b[0;32mfor\u001b[0m \u001b[0mi\u001b[0m \u001b[0;32min\u001b[0m \u001b[0mrange\u001b[0m\u001b[0;34m(\u001b[0m\u001b[0mlen\u001b[0m\u001b[0;34m(\u001b[0m\u001b[0mself\u001b[0m\u001b[0;34m.\u001b[0m\u001b[0mmodel_list\u001b[0m\u001b[0;34m)\u001b[0m\u001b[0;34m)\u001b[0m\u001b[0;34m]\u001b[0m\u001b[0;34m\u001b[0m\u001b[0;34m\u001b[0m\u001b[0m\n\u001b[0m\u001b[1;32m     11\u001b[0m \u001b[0;34m\u001b[0m\u001b[0m\n\u001b[1;32m     12\u001b[0m         \u001b[0mfinal_pred\u001b[0m \u001b[0;34m=\u001b[0m \u001b[0mtorch\u001b[0m\u001b[0;34m.\u001b[0m\u001b[0mzeros_like\u001b[0m\u001b[0;34m(\u001b[0m\u001b[0mx_list\u001b[0m\u001b[0;34m[\u001b[0m\u001b[0;36m0\u001b[0m\u001b[0;34m]\u001b[0m\u001b[0;34m)\u001b[0m\u001b[0;34m\u001b[0m\u001b[0;34m\u001b[0m\u001b[0m\n",
            "\u001b[0;32m<ipython-input-17-e3c68157ec90>\u001b[0m in \u001b[0;36m__call__\u001b[0;34m(self, x)\u001b[0m\n\u001b[1;32m     19\u001b[0m \u001b[0;34m\u001b[0m\u001b[0m\n\u001b[1;32m     20\u001b[0m     \u001b[0;32mdef\u001b[0m \u001b[0m__call__\u001b[0m\u001b[0;34m(\u001b[0m\u001b[0mself\u001b[0m\u001b[0;34m,\u001b[0m \u001b[0mx\u001b[0m\u001b[0;34m)\u001b[0m\u001b[0;34m:\u001b[0m\u001b[0;34m\u001b[0m\u001b[0;34m\u001b[0m\u001b[0m\n\u001b[0;32m---> 21\u001b[0;31m         \u001b[0;32mreturn\u001b[0m \u001b[0mself\u001b[0m\u001b[0;34m.\u001b[0m\u001b[0mforward\u001b[0m\u001b[0;34m(\u001b[0m\u001b[0mx\u001b[0m\u001b[0;34m)\u001b[0m\u001b[0;34m\u001b[0m\u001b[0;34m\u001b[0m\u001b[0m\n\u001b[0m",
            "\u001b[0;32m<ipython-input-17-e3c68157ec90>\u001b[0m in \u001b[0;36mforward\u001b[0;34m(self, x)\u001b[0m\n\u001b[1;32m      9\u001b[0m         \u001b[0;32mif\u001b[0m \u001b[0mself\u001b[0m\u001b[0;34m.\u001b[0m\u001b[0mmode\u001b[0m \u001b[0;34m==\u001b[0m \u001b[0;34m\"torch\"\u001b[0m\u001b[0;34m:\u001b[0m\u001b[0;34m\u001b[0m\u001b[0;34m\u001b[0m\u001b[0m\n\u001b[1;32m     10\u001b[0m \u001b[0;34m\u001b[0m\u001b[0m\n\u001b[0;32m---> 11\u001b[0;31m             \u001b[0mpred\u001b[0m \u001b[0;34m=\u001b[0m \u001b[0mself\u001b[0m\u001b[0;34m.\u001b[0m\u001b[0mmodel\u001b[0m\u001b[0;34m.\u001b[0m\u001b[0mpredict\u001b[0m\u001b[0;34m(\u001b[0m\u001b[0mx\u001b[0m\u001b[0;34m.\u001b[0m\u001b[0mcpu\u001b[0m\u001b[0;34m(\u001b[0m\u001b[0;34m)\u001b[0m\u001b[0;34m.\u001b[0m\u001b[0mnumpy\u001b[0m\u001b[0;34m(\u001b[0m\u001b[0;34m)\u001b[0m\u001b[0;34m)\u001b[0m\u001b[0;34m\u001b[0m\u001b[0;34m\u001b[0m\u001b[0m\n\u001b[0m\u001b[1;32m     12\u001b[0m             \u001b[0mpred\u001b[0m \u001b[0;34m=\u001b[0m \u001b[0mtorch\u001b[0m\u001b[0;34m.\u001b[0m\u001b[0mtensor\u001b[0m\u001b[0;34m(\u001b[0m\u001b[0mpred\u001b[0m\u001b[0;34m)\u001b[0m\u001b[0;34m\u001b[0m\u001b[0;34m\u001b[0m\u001b[0m\n\u001b[1;32m     13\u001b[0m \u001b[0;34m\u001b[0m\u001b[0m\n",
            "\u001b[0;32m/usr/local/lib/python3.6/dist-packages/sklearn/kernel_ridge.py\u001b[0m in \u001b[0;36mpredict\u001b[0;34m(self, X)\u001b[0m\n\u001b[1;32m    190\u001b[0m         \"\"\"\n\u001b[1;32m    191\u001b[0m         \u001b[0mcheck_is_fitted\u001b[0m\u001b[0;34m(\u001b[0m\u001b[0mself\u001b[0m\u001b[0;34m)\u001b[0m\u001b[0;34m\u001b[0m\u001b[0;34m\u001b[0m\u001b[0m\n\u001b[0;32m--> 192\u001b[0;31m         \u001b[0mK\u001b[0m \u001b[0;34m=\u001b[0m \u001b[0mself\u001b[0m\u001b[0;34m.\u001b[0m\u001b[0m_get_kernel\u001b[0m\u001b[0;34m(\u001b[0m\u001b[0mX\u001b[0m\u001b[0;34m,\u001b[0m \u001b[0mself\u001b[0m\u001b[0;34m.\u001b[0m\u001b[0mX_fit_\u001b[0m\u001b[0;34m)\u001b[0m\u001b[0;34m\u001b[0m\u001b[0;34m\u001b[0m\u001b[0m\n\u001b[0m\u001b[1;32m    193\u001b[0m         \u001b[0;32mreturn\u001b[0m \u001b[0mnp\u001b[0m\u001b[0;34m.\u001b[0m\u001b[0mdot\u001b[0m\u001b[0;34m(\u001b[0m\u001b[0mK\u001b[0m\u001b[0;34m,\u001b[0m \u001b[0mself\u001b[0m\u001b[0;34m.\u001b[0m\u001b[0mdual_coef_\u001b[0m\u001b[0;34m)\u001b[0m\u001b[0;34m\u001b[0m\u001b[0;34m\u001b[0m\u001b[0m\n",
            "\u001b[0;32m/usr/local/lib/python3.6/dist-packages/sklearn/kernel_ridge.py\u001b[0m in \u001b[0;36m_get_kernel\u001b[0;34m(self, X, Y)\u001b[0m\n\u001b[1;32m    122\u001b[0m                       \"coef0\": self.coef0}\n\u001b[1;32m    123\u001b[0m         return pairwise_kernels(X, Y, metric=self.kernel,\n\u001b[0;32m--> 124\u001b[0;31m                                 filter_params=True, **params)\n\u001b[0m\u001b[1;32m    125\u001b[0m \u001b[0;34m\u001b[0m\u001b[0m\n\u001b[1;32m    126\u001b[0m     \u001b[0;34m@\u001b[0m\u001b[0mproperty\u001b[0m\u001b[0;34m\u001b[0m\u001b[0;34m\u001b[0m\u001b[0m\n",
            "\u001b[0;32m/usr/local/lib/python3.6/dist-packages/sklearn/metrics/pairwise.py\u001b[0m in \u001b[0;36mpairwise_kernels\u001b[0;34m(X, Y, metric, filter_params, n_jobs, **kwds)\u001b[0m\n\u001b[1;32m   1910\u001b[0m         \u001b[0;32mraise\u001b[0m \u001b[0mValueError\u001b[0m\u001b[0;34m(\u001b[0m\u001b[0;34m\"Unknown kernel %r\"\u001b[0m \u001b[0;34m%\u001b[0m \u001b[0mmetric\u001b[0m\u001b[0;34m)\u001b[0m\u001b[0;34m\u001b[0m\u001b[0;34m\u001b[0m\u001b[0m\n\u001b[1;32m   1911\u001b[0m \u001b[0;34m\u001b[0m\u001b[0m\n\u001b[0;32m-> 1912\u001b[0;31m     \u001b[0;32mreturn\u001b[0m \u001b[0m_parallel_pairwise\u001b[0m\u001b[0;34m(\u001b[0m\u001b[0mX\u001b[0m\u001b[0;34m,\u001b[0m \u001b[0mY\u001b[0m\u001b[0;34m,\u001b[0m \u001b[0mfunc\u001b[0m\u001b[0;34m,\u001b[0m \u001b[0mn_jobs\u001b[0m\u001b[0;34m,\u001b[0m \u001b[0;34m**\u001b[0m\u001b[0mkwds\u001b[0m\u001b[0;34m)\u001b[0m\u001b[0;34m\u001b[0m\u001b[0;34m\u001b[0m\u001b[0m\n\u001b[0m",
            "\u001b[0;32m/usr/local/lib/python3.6/dist-packages/sklearn/metrics/pairwise.py\u001b[0m in \u001b[0;36m_parallel_pairwise\u001b[0;34m(X, Y, func, n_jobs, **kwds)\u001b[0m\n\u001b[1;32m   1346\u001b[0m \u001b[0;34m\u001b[0m\u001b[0m\n\u001b[1;32m   1347\u001b[0m     \u001b[0;32mif\u001b[0m \u001b[0meffective_n_jobs\u001b[0m\u001b[0;34m(\u001b[0m\u001b[0mn_jobs\u001b[0m\u001b[0;34m)\u001b[0m \u001b[0;34m==\u001b[0m \u001b[0;36m1\u001b[0m\u001b[0;34m:\u001b[0m\u001b[0;34m\u001b[0m\u001b[0;34m\u001b[0m\u001b[0m\n\u001b[0;32m-> 1348\u001b[0;31m         \u001b[0;32mreturn\u001b[0m \u001b[0mfunc\u001b[0m\u001b[0;34m(\u001b[0m\u001b[0mX\u001b[0m\u001b[0;34m,\u001b[0m \u001b[0mY\u001b[0m\u001b[0;34m,\u001b[0m \u001b[0;34m**\u001b[0m\u001b[0mkwds\u001b[0m\u001b[0;34m)\u001b[0m\u001b[0;34m\u001b[0m\u001b[0;34m\u001b[0m\u001b[0m\n\u001b[0m\u001b[1;32m   1349\u001b[0m \u001b[0;34m\u001b[0m\u001b[0m\n\u001b[1;32m   1350\u001b[0m     \u001b[0;31m# enforce a threading backend to prevent data communication overhead\u001b[0m\u001b[0;34m\u001b[0m\u001b[0;34m\u001b[0m\u001b[0;34m\u001b[0m\u001b[0m\n",
            "\u001b[0;32m/usr/local/lib/python3.6/dist-packages/sklearn/metrics/pairwise.py\u001b[0m in \u001b[0;36mrbf_kernel\u001b[0;34m(X, Y, gamma)\u001b[0m\n\u001b[1;32m   1091\u001b[0m \u001b[0;34m\u001b[0m\u001b[0m\n\u001b[1;32m   1092\u001b[0m     \u001b[0mK\u001b[0m \u001b[0;34m=\u001b[0m \u001b[0meuclidean_distances\u001b[0m\u001b[0;34m(\u001b[0m\u001b[0mX\u001b[0m\u001b[0;34m,\u001b[0m \u001b[0mY\u001b[0m\u001b[0;34m,\u001b[0m \u001b[0msquared\u001b[0m\u001b[0;34m=\u001b[0m\u001b[0;32mTrue\u001b[0m\u001b[0;34m)\u001b[0m\u001b[0;34m\u001b[0m\u001b[0;34m\u001b[0m\u001b[0m\n\u001b[0;32m-> 1093\u001b[0;31m     \u001b[0mK\u001b[0m \u001b[0;34m*=\u001b[0m \u001b[0;34m-\u001b[0m\u001b[0mgamma\u001b[0m\u001b[0;34m\u001b[0m\u001b[0;34m\u001b[0m\u001b[0m\n\u001b[0m\u001b[1;32m   1094\u001b[0m     \u001b[0mnp\u001b[0m\u001b[0;34m.\u001b[0m\u001b[0mexp\u001b[0m\u001b[0;34m(\u001b[0m\u001b[0mK\u001b[0m\u001b[0;34m,\u001b[0m \u001b[0mK\u001b[0m\u001b[0;34m)\u001b[0m  \u001b[0;31m# exponentiate K in-place\u001b[0m\u001b[0;34m\u001b[0m\u001b[0;34m\u001b[0m\u001b[0m\n\u001b[1;32m   1095\u001b[0m     \u001b[0;32mreturn\u001b[0m \u001b[0mK\u001b[0m\u001b[0;34m\u001b[0m\u001b[0;34m\u001b[0m\u001b[0m\n",
            "\u001b[0;31mKeyboardInterrupt\u001b[0m: "
          ]
        }
      ]
    },
    {
      "cell_type": "code",
      "metadata": {
        "id": "MCQ4yem5O3LC"
      },
      "source": [
        ""
      ],
      "execution_count": null,
      "outputs": []
    }
  ]
}